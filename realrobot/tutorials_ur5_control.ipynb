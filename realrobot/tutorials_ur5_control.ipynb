{
 "cells": [
  {
   "cell_type": "code",
   "execution_count": 1,
   "metadata": {},
   "outputs": [],
   "source": [
    "import rospy\n",
    "from ur_msgs.srv import JointTrajectory, EndPose, JointStates"
   ]
  },
  {
   "cell_type": "code",
   "execution_count": 2,
   "metadata": {},
   "outputs": [],
   "source": [
    "planUR5 = rospy.ServiceProxy('plan_robot_arm', JointTrajectory)\n",
    "moveUR5 = rospy.ServiceProxy('move_robot_arm', JointTrajectory)\n",
    "getEEFPose = rospy.ServiceProxy('get_eef_pose', EndPose)\n",
    "getJointStates = rospy.ServiceProxy('get_joint_states', JointStates)"
   ]
  },
  {
   "cell_type": "code",
   "execution_count": 3,
   "metadata": {},
   "outputs": [
    {
     "ename": "KeyboardInterrupt",
     "evalue": "",
     "output_type": "error",
     "traceback": [
      "\u001b[0;31m---------------------------------------------------------------------------\u001b[0m",
      "\u001b[0;31mKeyboardInterrupt\u001b[0m                         Traceback (most recent call last)",
      "\u001b[0;32m<ipython-input-3-0bca4ed8c5fe>\u001b[0m in \u001b[0;36m<module>\u001b[0;34m()\u001b[0m\n\u001b[0;32m----> 1\u001b[0;31m \u001b[0mrospy\u001b[0m\u001b[0;34m.\u001b[0m\u001b[0mwait_for_service\u001b[0m\u001b[0;34m(\u001b[0m\u001b[0;34m'plan_robot_arm'\u001b[0m\u001b[0;34m)\u001b[0m\u001b[0;34m\u001b[0m\u001b[0m\n\u001b[0m\u001b[1;32m      2\u001b[0m \u001b[0mrospy\u001b[0m\u001b[0;34m.\u001b[0m\u001b[0mwait_for_service\u001b[0m\u001b[0;34m(\u001b[0m\u001b[0;34m'move_robot_arm'\u001b[0m\u001b[0;34m)\u001b[0m\u001b[0;34m\u001b[0m\u001b[0m\n\u001b[1;32m      3\u001b[0m \u001b[0mrospy\u001b[0m\u001b[0;34m.\u001b[0m\u001b[0mwait_for_service\u001b[0m\u001b[0;34m(\u001b[0m\u001b[0;34m'get_eef_pose'\u001b[0m\u001b[0;34m)\u001b[0m\u001b[0;34m\u001b[0m\u001b[0m\n\u001b[1;32m      4\u001b[0m \u001b[0mrospy\u001b[0m\u001b[0;34m.\u001b[0m\u001b[0mwait_for_service\u001b[0m\u001b[0;34m(\u001b[0m\u001b[0;34m'get_joint_states'\u001b[0m\u001b[0;34m)\u001b[0m\u001b[0;34m\u001b[0m\u001b[0m\n",
      "\u001b[0;32m/opt/ros/kinetic/lib/python2.7/dist-packages/rospy/impl/tcpros_service.pyc\u001b[0m in \u001b[0;36mwait_for_service\u001b[0;34m(service, timeout)\u001b[0m\n\u001b[1;32m    155\u001b[0m                     \u001b[0mfirst\u001b[0m \u001b[0;34m=\u001b[0m \u001b[0mFalse\u001b[0m\u001b[0;34m\u001b[0m\u001b[0m\n\u001b[1;32m    156\u001b[0m                     \u001b[0mrospy\u001b[0m\u001b[0;34m.\u001b[0m\u001b[0mcore\u001b[0m\u001b[0;34m.\u001b[0m\u001b[0mlogerr\u001b[0m\u001b[0;34m(\u001b[0m\u001b[0;34m\"wait_for_service(%s): failed to contact, will keep trying\"\u001b[0m\u001b[0;34m%\u001b[0m\u001b[0;34m(\u001b[0m\u001b[0mresolved_name\u001b[0m\u001b[0;34m)\u001b[0m\u001b[0;34m)\u001b[0m\u001b[0;34m\u001b[0m\u001b[0m\n\u001b[0;32m--> 157\u001b[0;31m             \u001b[0mtime\u001b[0m\u001b[0;34m.\u001b[0m\u001b[0msleep\u001b[0m\u001b[0;34m(\u001b[0m\u001b[0;36m0.3\u001b[0m\u001b[0;34m)\u001b[0m\u001b[0;34m\u001b[0m\u001b[0m\n\u001b[0m\u001b[1;32m    158\u001b[0m         \u001b[0;32mif\u001b[0m \u001b[0mrospy\u001b[0m\u001b[0;34m.\u001b[0m\u001b[0mcore\u001b[0m\u001b[0;34m.\u001b[0m\u001b[0mis_shutdown\u001b[0m\u001b[0;34m(\u001b[0m\u001b[0;34m)\u001b[0m\u001b[0;34m:\u001b[0m\u001b[0;34m\u001b[0m\u001b[0m\n\u001b[1;32m    159\u001b[0m             \u001b[0;32mraise\u001b[0m \u001b[0mROSInterruptException\u001b[0m\u001b[0;34m(\u001b[0m\u001b[0;34m\"rospy shutdown\"\u001b[0m\u001b[0;34m)\u001b[0m\u001b[0;34m\u001b[0m\u001b[0m\n",
      "\u001b[0;31mKeyboardInterrupt\u001b[0m: "
     ]
    }
   ],
   "source": [
    "rospy.wait_for_service('plan_robot_arm')\n",
    "rospy.wait_for_service('move_robot_arm')\n",
    "rospy.wait_for_service('get_eef_pose')\n",
    "rospy.wait_for_service('get_joint_states')"
   ]
  },
  {
   "cell_type": "code",
   "execution_count": null,
   "metadata": {},
   "outputs": [],
   "source": [
    "getJointStates()"
   ]
  },
  {
   "cell_type": "code",
   "execution_count": 21,
   "metadata": {},
   "outputs": [
    {
     "data": {
      "text/plain": [
       "eef_pose: \n",
       "  position: \n",
       "    x: 0.027988361434334485\n",
       "    y: -0.20999211724140737\n",
       "    z: 0.6000010779152108\n",
       "  orientation: \n",
       "    x: 0.9598105928971981\n",
       "    y: -0.2799374712868299\n",
       "    z: -5.037034525718667e-05\n",
       "    w: -0.019965855721526666"
      ]
     },
     "execution_count": 21,
     "metadata": {},
     "output_type": "execute_result"
    }
   ],
   "source": [
    "getEEFPose()"
   ]
  },
  {
   "cell_type": "code",
   "execution_count": 15,
   "metadata": {},
   "outputs": [],
   "source": [
    "def get_joint_states():\n",
    "    joints_Str = getJointStates().joint_states.replace('(', '').replace(')', '').split(', ')\n",
    "    joints = [float(j) for j in joints_Str]\n",
    "    return joints"
   ]
  },
  {
   "cell_type": "code",
   "execution_count": 18,
   "metadata": {},
   "outputs": [],
   "source": [
    "def get_eef_pose():\n",
    "    pose = getEEFPose().eef_pose\n",
    "    position = [pose.position.x, pose.position.y, pose.position.z]\n",
    "    quaternion = [pose.orientation.x, pose.orientation.y, pose.orientation.z, pose.orientation.w]\n",
    "    return position, quaternion"
   ]
  },
  {
   "cell_type": "code",
   "execution_count": 16,
   "metadata": {},
   "outputs": [
    {
     "data": {
      "text/plain": [
       "[-1.9772818724261683,\n",
       " -2.124108616505758,\n",
       " 1.4809327125549316,\n",
       " -0.8879740873919886,\n",
       " 4.707389831542969,\n",
       " 3.302744150161743]"
      ]
     },
     "execution_count": 16,
     "metadata": {},
     "output_type": "execute_result"
    }
   ],
   "source": [
    "get_joint_states()"
   ]
  },
  {
   "cell_type": "code",
   "execution_count": 19,
   "metadata": {},
   "outputs": [
    {
     "data": {
      "text/plain": [
       "([0.02798144752249603, -0.21000269615213266, 0.5999956544871002],\n",
       " [0.9598136355916888,\n",
       "  -0.2799257729795706,\n",
       "  -4.7703012152526897e-05,\n",
       "  -0.019983600238129094])"
      ]
     },
     "execution_count": 19,
     "metadata": {},
     "output_type": "execute_result"
    }
   ],
   "source": [
    "get_eef_pose()"
   ]
  },
  {
   "cell_type": "markdown",
   "metadata": {},
   "source": [
    "### Planning to the target joints"
   ]
  },
  {
   "cell_type": "code",
   "execution_count": 31,
   "metadata": {},
   "outputs": [],
   "source": [
    "target_qpos = [-1.9772818724261683,\n",
    "                 -2.124108616505758,\n",
    "                 1.4809327125549316,\n",
    "                 -0.8879740873919886,\n",
    "                 4.707389831542969,\n",
    "                 3.302744150161743]\n",
    "\n",
    "ARM_JOINT_NAME = ['shoulder_pan_joint', 'shoulder_lift_joint', 'elbow_joint', 'wrist_1_joint', 'wrist_2_joint', 'wrist_3_joint']\n",
    "plans = planUR5(ARM_JOINT_NAME, target_qpos, None, None)"
   ]
  },
  {
   "cell_type": "markdown",
   "metadata": {},
   "source": [
    "### Planning to the target pose"
   ]
  },
  {
   "cell_type": "code",
   "execution_count": 28,
   "metadata": {},
   "outputs": [],
   "source": [
    "eef_pose = [0.028, -0.21, 0.6]\n",
    "eef_quat = [0.96, -0.28, 0.0, -0.02]\n",
    "ARM_JOINT_NAME = ['shoulder_pan_joint', 'shoulder_lift_joint', 'elbow_joint', 'wrist_1_joint', 'wrist_2_joint', 'wrist_3_joint']\n",
    "plans = planUR5(ARM_JOINT_NAME, None, eef_pose, eef_quat)"
   ]
  },
  {
   "cell_type": "markdown",
   "metadata": {},
   "source": [
    "### Move to the target pose"
   ]
  },
  {
   "cell_type": "code",
   "execution_count": 41,
   "metadata": {},
   "outputs": [],
   "source": [
    "target_qpos = None\n",
    "eef_pose = [0.0, -0.4, 0.65]\n",
    "eef_quat = [-1, 0, 0, 0]\n",
    "# eef_quat = [0.96, -0.28, 0.0, -0.02]\n",
    "ARM_JOINT_NAME = ['shoulder_pan_joint', 'shoulder_lift_joint', 'elbow_joint', 'wrist_1_joint', 'wrist_2_joint', 'wrist_3_joint']\n",
    "plans = planUR5(ARM_JOINT_NAME, target_qpos, eef_pose, eef_quat)"
   ]
  },
  {
   "cell_type": "code",
   "execution_count": 42,
   "metadata": {},
   "outputs": [
    {
     "data": {
      "text/plain": [
       "plan: \n",
       "  header: \n",
       "    seq: 0\n",
       "    stamp: \n",
       "      secs: 0\n",
       "      nsecs:         0\n",
       "    frame_id: \"base_link\"\n",
       "  joint_names: [shoulder_pan_joint, shoulder_lift_joint, elbow_joint, wrist_1_joint, wrist_2_joint,\n",
       "  wrist_3_joint]\n",
       "  points: \n",
       "    - \n",
       "      positions: [-1.8472750822650355, -1.6397345701800745, 1.035430908203125, -0.9265959898578089, 4.712735652923584, 3.432725191116333]\n",
       "      velocities: [0.0, 0.0, 0.0, 0.0, 0.0, 0.0]\n",
       "      accelerations: [0.004089838789348211, 0.0, 0.0, 0.0, 0.0, 0.0]\n",
       "      effort: []\n",
       "      time_from_start: \n",
       "        secs: 0\n",
       "        nsecs:         0\n",
       "    - \n",
       "      positions: [-1.8471362255699384, -1.6404675135084954, 1.0367470957703098, -0.9294679411148467, 4.712093126321428, 3.3994791569249765]\n",
       "      velocities: [0.0008420459002753901, -0.0048905253964761485, 0.008771096599272731, -0.0191041639402473, -0.003892809311539837, -0.21984527134376652]\n",
       "      accelerations: [0.0033682930799274566, -0.022636612835819445, 0.04052896563569843, -0.08805852035281654, -0.015547203340370968, -1.0051396638731132]\n",
       "      effort: []\n",
       "      time_from_start: \n",
       "        secs: 0\n",
       "        nsecs: 260582541\n",
       "    - \n",
       "      positions: [-1.8470135313268135, -1.6412101813577746, 1.038078381258394, -0.9323654678999482, 4.711526146370577, 3.3662155874048993]\n",
       "      velocities: [0.0012171879345250604, -0.008016841860517685, 0.014356774393243963, -0.031204296932920893, -0.00561944321841778, -0.35678039598642874]\n",
       "      accelerations: [0.0013925860867884613, -0.022134427855730915, 0.039382200746739045, -0.08480609443870098, -0.006323789034267695, -0.9430781915514405]\n",
       "      effort: []\n",
       "      time_from_start: \n",
       "        secs: 0\n",
       "        nsecs: 367159983\n",
       "    - \n",
       "      positions: [-1.8469071559341788, -1.6419617117485, 1.0394232337839229, -0.9352853855055286, 4.711035452574232, 3.3329344778846575]\n",
       "      velocities: [0.001279098237439011, -0.009917760607186278, 0.017731512629354556, -0.03844914168861859, -0.0058930158481256874, -0.4368166055675179]\n",
       "      accelerations: [-0.00010575035770827618, -0.02222402330654392, 0.039347892469821406, -0.08414934696016818, 0.0006774372963693191, -0.9219723723278379]\n",
       "      effort: []\n",
       "      time_from_start: \n",
       "        secs: 0\n",
       "        nsecs: 450061461\n",
       "    - \n",
       "      positions: [-1.846817238528868, -1.6427212367900093, 1.0407801114890978, -0.9382244764592309, 4.710621702851285, 3.2996358510629036]\n",
       "      velocities: [0.0012294514043347106, -0.01157291519185952, 0.02065665027941962, -0.0446891629327215, -0.005647329324200343, -0.5049934254151887]\n",
       "      accelerations: [-0.0013766440218330798, -0.02423923822603568, 0.0427548248755882, -0.09096212073187951, 0.006634088225709248, -0.9908412377227593]\n",
       "      effort: []\n",
       "      time_from_start: \n",
       "        secs: 0\n",
       "        nsecs: 520582587\n",
       "    - \n",
       "      positions: [-1.8467439007204334, -1.6434878837994653, 1.0421474634109726, -0.9411794942573786, 4.710285472226275, 3.266319755797014]\n",
       "      velocities: [0.0010923692186308042, -0.013014934394865507, 0.023193125047546496, -0.05006480998118683, -0.004994725014608903, -0.5633447776920346]\n",
       "      accelerations: [-0.003086947265498069, -0.021569531365018685, 0.037807699979666716, -0.0797359808749823, 0.014606208601065677, -0.8616382342657657]\n",
       "      effort: []\n",
       "      time_from_start: \n",
       "        secs: 0\n",
       "        nsecs: 582530592\n",
       "    - \n",
       "      positions: [-1.8466872463501651, -1.6442607764018626, 1.043523731415972, -0.9441471669260206, 4.710027251629503, 3.2329862660406374]\n",
       "      velocities: [0.0008794018825639585, -0.014221641625145338, 0.025303139108459147, -0.05449993699444905, -0.0039893044995974744, -0.6113194485241094]\n",
       "      accelerations: [-0.004448498415390959, -0.020779375269550274, 0.03623455910648832, -0.07587380771728358, 0.020965899529902295, -0.8216631706141964]\n",
       "      effort: []\n",
       "      time_from_start: \n",
       "        secs: 0\n",
       "        nsecs: 639135278\n",
       "    - \n",
       "      positions: [-1.846647361284815, -1.6450390356253581, 1.044907352136618, -0.9471242006693731, 4.70984744687072, 3.199635479700404]\n",
       "      velocities: [0.0006128514601343916, -0.01533771721062923, 0.02724579433461481, -0.058557799846385344, -0.002734028411234192, -0.6554914939296383]\n",
       "      accelerations: [-0.005695034897730551, -0.02153775270377668, 0.03741843754764637, -0.0779608608108594, 0.026802248033938315, -0.8532178191511901]\n",
       "      effort: []\n",
       "      time_from_start: \n",
       "        secs: 0\n",
       "        nsecs: 691759233\n",
       "    - \n",
       "      positions: [-1.8466243132091993, -1.6458217809712432, 1.046296758881826, -0.9501072835647404, 4.709746377619559, 3.1662675174559576]\n",
       "      velocities: [0.00029714474278363305, -0.016015803851054694, 0.028406348496925957, -0.06092395953193079, -0.0012525243253675993, -0.6813412059051474]\n",
       "      accelerations: [-0.0069662624533825155, -0.005284412180584096, 0.008465796458188719, -0.015521919905393072, 0.03260981197945034, -0.16799795689679403]\n",
       "      effort: []\n",
       "      time_from_start: \n",
       "        secs: 0\n",
       "        nsecs: 741030746\n",
       "    - \n",
       "      positions: [-1.8466181514406053, -1.6466081314691015, 1.047690383534577, -0.9530930893244272, 4.709724276500511, 3.1328825215254503]\n",
       "      velocities: [-4.070561558767011e-05, -0.015699890311121595, 0.027803369846505534, -0.05950720094234804, 0.0003241925080164708, -0.6655934351899806]\n",
       "      accelerations: [-0.006659955408298046, 0.017737382998953614, -0.03227418723214101, 0.0715689498437825, 0.030984923255083088, 0.7910912899118061]\n",
       "      effort: []\n",
       "      time_from_start: \n",
       "        secs: 0\n",
       "        nsecs: 789735533\n",
       "    - \n",
       "      positions: [-1.8466289067658261, -1.6473972067136369, 1.049086658430652, -0.9560782811124079, 4.7097812883067816, 3.0994806543828486]\n",
       "      velocities: [-0.0003534337489523412, -0.014754443557897448, 0.026088446850780458, -0.05571971530861961, 0.0017782402359777763, -0.6240077007790539]\n",
       "      accelerations: [-0.005428788654785557, 0.01865795556285028, -0.033748811413158, 0.07426419236558925, 0.02522360489754174, 0.8104575815435837]\n",
       "      effort: []\n",
       "      time_from_start: \n",
       "        secs: 0\n",
       "        nsecs: 841462773\n",
       "    - \n",
       "      positions: [-1.8466565913109787, -1.6481881278812751, 1.0504840182128081, -0.9590595153999855, 4.709917469380852, 3.0660620974244903]\n",
       "      velocities: [-0.000620496344278053, -0.013713817786990429, 0.024210672854103797, -0.051600604699867283, 0.0030180874444361845, -0.5792422497535226]\n",
       "      accelerations: [-0.004205985932914597, 0.018703487989687365, -0.03367453730333123, 0.0736534385065427, 0.01950763513614638, 0.797318477524383]\n",
       "      effort: []\n",
       "      time_from_start: \n",
       "        secs: 0\n",
       "        nsecs: 896949086\n",
       "    - \n",
       "      positions: [-1.8467011983815795, -1.648980018712763, 1.0518809016492916, -0.9620334458677613, 4.7101327868695675, 3.032627049653941]\n",
       "      velocities: [-0.0008343007254642818, -0.012552259661042783, 0.02212540461709679, -0.047056809415397506, 0.004007967545617509, -0.5300706268405214]\n",
       "      accelerations: [-0.0029172172416265197, 0.019638397583551844, -0.03516649422994996, 0.07637485786849739, 0.013474635675737073, 0.826266450066035]\n",
       "      effort: []\n",
       "      time_from_start: \n",
       "        secs: 0\n",
       "        nsecs: 957062461\n",
       "    - \n",
       "      positions: [-1.8467627023629671, -1.6497720064833616, 1.0532757534353656, -0.9649967273500695, 4.710427118275101, 2.9991757263021834]\n",
       "      velocities: [-0.0009760670921716368, -0.011143610257024768, 0.019611633598403233, -0.04162198839051144, 0.004658950959526799, -0.4709927872837043]\n",
       "      accelerations: [-0.0013871475875481896, 0.022065106389622287, -0.03926831346978225, 0.08459388920864556, 0.006299777258673538, 0.9230530966277789]\n",
       "      effort: []\n",
       "      time_from_start: \n",
       "        secs: 1\n",
       "        nsecs:  23441846\n",
       "    - \n",
       "      positions: [-1.846841058675251, -1.6505632229445697, 1.0546670259502777, -0.9679460197650597, 4.710800251274517, 2.965708357399378]\n",
       "      velocities: [-0.001025062015194038, -0.009429194441931951, 0.0165681839217418, -0.0350872602800828, 0.004873548237676414, -0.3992992139203165]\n",
       "      accelerations: [1.2281809759842768e-05, 0.021901296286630404, -0.03879667436191794, 0.08306664421433574, -0.000242814750746591, 0.9155894068411027]\n",
       "      effort: []\n",
       "      time_from_start: \n",
       "        secs: 1\n",
       "        nsecs:  99843667\n",
       "    - \n",
       "      positions: [-1.8469362036357484, -1.6513528052303608, 1.0560531809885199, -0.9708779921419532, 4.711251883120075, 2.9322251864461695]\n",
       "      velocities: [-0.0009357995363618984, -0.0072315581910594295, 0.012686794651030037, -0.026809971276700102, 0.004437512729062734, -0.30712159875981987]\n",
       "      accelerations: [0.0015782643024070586, 0.022601542828130025, -0.039831244577827676, 0.08469373998100657, -0.007572025199688617, 0.9502852112524004]\n",
       "      effort: []\n",
       "      time_from_start: \n",
       "        secs: 1\n",
       "        nsecs: 192709487\n",
       "    - \n",
       "      positions: [-1.847048054474073, -1.6521398967446335, 1.0574326914416334, -0.9737893265728742, 4.711781620766433, 2.8987264689562404]\n",
       "      velocities: [-0.0006660185556794152, -0.004459882645168327, 0.0078123450323151905, -0.016474575407200424, 0.003152418025094701, -0.1901103968936605]\n",
       "      accelerations: [0.0018244651047471907, 0.015125093452018248, -0.02655311737350826, 0.05616584270127428, -0.008660190514261713, 0.6407307309039858]\n",
       "      effort: []\n",
       "      time_from_start: \n",
       "        secs: 1\n",
       "        nsecs: 324755934\n",
       "    - \n",
       "      positions: [-1.8471765092763304, -1.6529236480146203, 1.0588040429511711, -0.9766767222410991, 4.712388980678838, 2.8652124710924403]\n",
       "      velocities: [0.0, 0.0, 0.0, 0.0, 0.0, 0.0]\n",
       "      accelerations: [0.003662080546197064, 0.022343736695236486, -0.03909546079107367, 0.08231592217626076, -0.017315046854408194, 0.9554408044353384]\n",
       "      effort: []\n",
       "      time_from_start: \n",
       "        secs: 1\n",
       "        nsecs: 589621941"
      ]
     },
     "execution_count": 42,
     "metadata": {},
     "output_type": "execute_result"
    }
   ],
   "source": [
    "moveUR5(ARM_JOINT_NAME, target_qpos, eef_pose, eef_quat)"
   ]
  },
  {
   "cell_type": "code",
   "execution_count": null,
   "metadata": {},
   "outputs": [],
   "source": []
  },
  {
   "cell_type": "code",
   "execution_count": null,
   "metadata": {},
   "outputs": [],
   "source": []
  },
  {
   "cell_type": "code",
   "execution_count": 11,
   "metadata": {},
   "outputs": [
    {
     "data": {
      "text/plain": [
       "['__class__',\n",
       " '__delattr__',\n",
       " '__dir__',\n",
       " '__doc__',\n",
       " '__eq__',\n",
       " '__format__',\n",
       " '__ge__',\n",
       " '__getattribute__',\n",
       " '__getstate__',\n",
       " '__gt__',\n",
       " '__hash__',\n",
       " '__init__',\n",
       " '__init_subclass__',\n",
       " '__le__',\n",
       " '__lt__',\n",
       " '__module__',\n",
       " '__ne__',\n",
       " '__new__',\n",
       " '__reduce__',\n",
       " '__reduce_ex__',\n",
       " '__repr__',\n",
       " '__setattr__',\n",
       " '__setstate__',\n",
       " '__sizeof__',\n",
       " '__slots__',\n",
       " '__str__',\n",
       " '__subclasshook__',\n",
       " '_check_types',\n",
       " '_connection_header',\n",
       " '_full_text',\n",
       " '_get_types',\n",
       " '_has_header',\n",
       " '_md5sum',\n",
       " '_slot_types',\n",
       " '_type',\n",
       " 'deserialize',\n",
       " 'deserialize_numpy',\n",
       " 'orientation',\n",
       " 'position',\n",
       " 'serialize',\n",
       " 'serialize_numpy']"
      ]
     },
     "execution_count": 11,
     "metadata": {},
     "output_type": "execute_result"
    }
   ],
   "source": [
    "dir(p.eef_pose)"
   ]
  },
  {
   "cell_type": "code",
   "execution_count": 6,
   "metadata": {},
   "outputs": [
    {
     "ename": "NameError",
     "evalue": "name 'getJointTrajectory' is not defined",
     "output_type": "error",
     "traceback": [
      "\u001b[0;31m---------------------------------------------------------------------------\u001b[0m",
      "\u001b[0;31mNameError\u001b[0m                                 Traceback (most recent call last)",
      "\u001b[0;32m<ipython-input-6-91788b9d549d>\u001b[0m in \u001b[0;36m<module>\u001b[0;34m\u001b[0m\n\u001b[1;32m      2\u001b[0m \u001b[0;34m\u001b[0m\u001b[0m\n\u001b[1;32m      3\u001b[0m \u001b[0mARM_JOINT_NAME\u001b[0m \u001b[0;34m=\u001b[0m \u001b[0;34m[\u001b[0m\u001b[0;34m'shoulder_pan_joint'\u001b[0m\u001b[0;34m,\u001b[0m \u001b[0;34m'shoulder_lift_joint'\u001b[0m\u001b[0;34m,\u001b[0m \u001b[0;34m'elbow_joint'\u001b[0m\u001b[0;34m,\u001b[0m \u001b[0;34m'wrist_1_joint'\u001b[0m\u001b[0;34m,\u001b[0m \u001b[0;34m'wrist_2_joint'\u001b[0m\u001b[0;34m,\u001b[0m \u001b[0;34m'wrist_3_joint'\u001b[0m\u001b[0;34m]\u001b[0m\u001b[0;34m\u001b[0m\u001b[0;34m\u001b[0m\u001b[0m\n\u001b[0;32m----> 4\u001b[0;31m \u001b[0mgetJointTrajectory\u001b[0m\u001b[0;34m(\u001b[0m\u001b[0mARM_JOINT_NAME\u001b[0m\u001b[0;34m,\u001b[0m \u001b[0mtarget_qpos\u001b[0m\u001b[0;34m,\u001b[0m \u001b[0;32mNone\u001b[0m\u001b[0;34m,\u001b[0m \u001b[0;32mNone\u001b[0m\u001b[0;34m)\u001b[0m\u001b[0;34m\u001b[0m\u001b[0;34m\u001b[0m\u001b[0m\n\u001b[0m",
      "\u001b[0;31mNameError\u001b[0m: name 'getJointTrajectory' is not defined"
     ]
    }
   ],
   "source": [
    "target_qpos = [-1.9631989637957972, -2.113516632710592, 1.476273536682129, -0.894970719014303, -1.5849650541888636, -2.9540748417318197]\n",
    "\n",
    "ARM_JOINT_NAME = ['shoulder_pan_joint', 'shoulder_lift_joint', 'elbow_joint', 'wrist_1_joint', 'wrist_2_joint', 'wrist_3_joint']\n",
    "getJointTrajectory(ARM_JOINT_NAME, target_qpos, None, None)"
   ]
  },
  {
   "cell_type": "code",
   "execution_count": 6,
   "metadata": {},
   "outputs": [],
   "source": [
    "from geometry_msgs.msg import Pose, Quaternion"
   ]
  },
  {
   "cell_type": "code",
   "execution_count": 7,
   "metadata": {},
   "outputs": [],
   "source": [
    "pose_goal = Pose()\n",
    "pose_goal.orientation.x = 0.96 #0.0\n",
    "pose_goal.orientation.y = -0.28 #0.7071068\n",
    "pose_goal.orientation.z = 0.0 #0.0\n",
    "pose_goal.orientation.w = -0.02 #0.7071068\n",
    "pose_goal.position.x = 0.028 #0.4\n",
    "pose_goal.position.y = -0.21 #0.0\n",
    "pose_goal.position.z = 0.6 #0.4"
   ]
  },
  {
   "cell_type": "code",
   "execution_count": 11,
   "metadata": {},
   "outputs": [
    {
     "ename": "ServiceException",
     "evalue": "transport error completing service call: unable to receive data from sender, check sender's logs for details",
     "output_type": "error",
     "traceback": [
      "\u001b[0;31m---------------------------------------------------------------------------\u001b[0m",
      "\u001b[0;31mTransportTerminated\u001b[0m                       Traceback (most recent call last)",
      "\u001b[0;32m/opt/ros/melodic/lib/python2.7/dist-packages/rospy/impl/tcpros_service.py\u001b[0m in \u001b[0;36mcall\u001b[0;34m(self, *args, **kwds)\u001b[0m\n\u001b[1;32m    521\u001b[0m         \u001b[0;32mtry\u001b[0m\u001b[0;34m:\u001b[0m\u001b[0;34m\u001b[0m\u001b[0;34m\u001b[0m\u001b[0m\n\u001b[0;32m--> 522\u001b[0;31m             \u001b[0mresponses\u001b[0m \u001b[0;34m=\u001b[0m \u001b[0mtransport\u001b[0m\u001b[0;34m.\u001b[0m\u001b[0mreceive_once\u001b[0m\u001b[0;34m(\u001b[0m\u001b[0;34m)\u001b[0m\u001b[0;34m\u001b[0m\u001b[0;34m\u001b[0m\u001b[0m\n\u001b[0m\u001b[1;32m    523\u001b[0m             \u001b[0;32mif\u001b[0m \u001b[0mlen\u001b[0m\u001b[0;34m(\u001b[0m\u001b[0mresponses\u001b[0m\u001b[0;34m)\u001b[0m \u001b[0;34m==\u001b[0m \u001b[0;36m0\u001b[0m\u001b[0;34m:\u001b[0m\u001b[0;34m\u001b[0m\u001b[0;34m\u001b[0m\u001b[0m\n",
      "\u001b[0;32m/opt/ros/melodic/lib/python2.7/dist-packages/rospy/impl/tcpros_base.py\u001b[0m in \u001b[0;36mreceive_once\u001b[0;34m(self)\u001b[0m\n\u001b[1;32m    736\u001b[0m                 \u001b[0;32mif\u001b[0m \u001b[0;32mnot\u001b[0m \u001b[0mmsg_queue\u001b[0m\u001b[0;34m:\u001b[0m\u001b[0;34m\u001b[0m\u001b[0;34m\u001b[0m\u001b[0m\n\u001b[0;32m--> 737\u001b[0;31m                     \u001b[0mself\u001b[0m\u001b[0;34m.\u001b[0m\u001b[0mstat_bytes\u001b[0m \u001b[0;34m+=\u001b[0m \u001b[0mrecv_buff\u001b[0m\u001b[0;34m(\u001b[0m\u001b[0msock\u001b[0m\u001b[0;34m,\u001b[0m \u001b[0mb\u001b[0m\u001b[0;34m,\u001b[0m \u001b[0mp\u001b[0m\u001b[0;34m.\u001b[0m\u001b[0mbuff_size\u001b[0m\u001b[0;34m)\u001b[0m\u001b[0;34m\u001b[0m\u001b[0;34m\u001b[0m\u001b[0m\n\u001b[0m\u001b[1;32m    738\u001b[0m             \u001b[0mself\u001b[0m\u001b[0;34m.\u001b[0m\u001b[0mstat_num_msg\u001b[0m \u001b[0;34m+=\u001b[0m \u001b[0mlen\u001b[0m\u001b[0;34m(\u001b[0m\u001b[0mmsg_queue\u001b[0m\u001b[0;34m)\u001b[0m \u001b[0;31m#STATS\u001b[0m\u001b[0;34m\u001b[0m\u001b[0;34m\u001b[0m\u001b[0m\n",
      "\u001b[0;32m/opt/ros/melodic/lib/python2.7/dist-packages/rospy/impl/tcpros_base.py\u001b[0m in \u001b[0;36mrecv_buff\u001b[0;34m(sock, b, buff_size)\u001b[0m\n\u001b[1;32m    108\u001b[0m     \u001b[0;32melse\u001b[0m\u001b[0;34m:\u001b[0m \u001b[0;31m#bomb out\u001b[0m\u001b[0;34m\u001b[0m\u001b[0;34m\u001b[0m\u001b[0m\n\u001b[0;32m--> 109\u001b[0;31m         \u001b[0;32mraise\u001b[0m \u001b[0mTransportTerminated\u001b[0m\u001b[0;34m(\u001b[0m\u001b[0;34m\"unable to receive data from sender, check sender's logs for details\"\u001b[0m\u001b[0;34m)\u001b[0m\u001b[0;34m\u001b[0m\u001b[0;34m\u001b[0m\u001b[0m\n\u001b[0m\u001b[1;32m    110\u001b[0m \u001b[0;34m\u001b[0m\u001b[0m\n",
      "\u001b[0;31mTransportTerminated\u001b[0m: unable to receive data from sender, check sender's logs for details",
      "\nDuring handling of the above exception, another exception occurred:\n",
      "\u001b[0;31mServiceException\u001b[0m                          Traceback (most recent call last)",
      "\u001b[0;32m<ipython-input-11-c2cafb33c345>\u001b[0m in \u001b[0;36m<module>\u001b[0;34m\u001b[0m\n\u001b[1;32m      3\u001b[0m \u001b[0meef_quat\u001b[0m \u001b[0;34m=\u001b[0m \u001b[0;34m[\u001b[0m\u001b[0;36m0.96\u001b[0m\u001b[0;34m,\u001b[0m \u001b[0;34m-\u001b[0m\u001b[0;36m0.28\u001b[0m\u001b[0;34m,\u001b[0m \u001b[0;36m0.0\u001b[0m\u001b[0;34m,\u001b[0m \u001b[0;34m-\u001b[0m\u001b[0;36m0.02\u001b[0m\u001b[0;34m]\u001b[0m\u001b[0;34m\u001b[0m\u001b[0;34m\u001b[0m\u001b[0m\n\u001b[1;32m      4\u001b[0m \u001b[0mARM_JOINT_NAME\u001b[0m \u001b[0;34m=\u001b[0m \u001b[0;34m[\u001b[0m\u001b[0;34m'shoulder_pan_joint'\u001b[0m\u001b[0;34m,\u001b[0m \u001b[0;34m'shoulder_lift_joint'\u001b[0m\u001b[0;34m,\u001b[0m \u001b[0;34m'elbow_joint'\u001b[0m\u001b[0;34m,\u001b[0m \u001b[0;34m'wrist_1_joint'\u001b[0m\u001b[0;34m,\u001b[0m \u001b[0;34m'wrist_2_joint'\u001b[0m\u001b[0;34m,\u001b[0m \u001b[0;34m'wrist_3_joint'\u001b[0m\u001b[0;34m]\u001b[0m\u001b[0;34m\u001b[0m\u001b[0;34m\u001b[0m\u001b[0m\n\u001b[0;32m----> 5\u001b[0;31m \u001b[0mgetJointTrajectory\u001b[0m\u001b[0;34m(\u001b[0m\u001b[0mARM_JOINT_NAME\u001b[0m\u001b[0;34m,\u001b[0m \u001b[0mtarget_qpos\u001b[0m\u001b[0;34m,\u001b[0m \u001b[0meef_pose\u001b[0m\u001b[0;34m,\u001b[0m \u001b[0meef_quat\u001b[0m\u001b[0;34m)\u001b[0m\u001b[0;34m\u001b[0m\u001b[0;34m\u001b[0m\u001b[0m\n\u001b[0m",
      "\u001b[0;32m/opt/ros/melodic/lib/python2.7/dist-packages/rospy/impl/tcpros_service.py\u001b[0m in \u001b[0;36m__call__\u001b[0;34m(self, *args, **kwds)\u001b[0m\n\u001b[1;32m    440\u001b[0m         \u001b[0mmessage\u001b[0m\u001b[0;34m.\u001b[0m \u001b[0mThis\u001b[0m \u001b[0;32mis\u001b[0m \u001b[0musually\u001b[0m \u001b[0ma\u001b[0m \u001b[0mtype\u001b[0m \u001b[0merror\u001b[0m \u001b[0;32mwith\u001b[0m \u001b[0mone\u001b[0m \u001b[0mof\u001b[0m \u001b[0mthe\u001b[0m \u001b[0mfields\u001b[0m\u001b[0;34m.\u001b[0m\u001b[0;34m\u001b[0m\u001b[0;34m\u001b[0m\u001b[0m\n\u001b[1;32m    441\u001b[0m         \"\"\"\n\u001b[0;32m--> 442\u001b[0;31m         \u001b[0;32mreturn\u001b[0m \u001b[0mself\u001b[0m\u001b[0;34m.\u001b[0m\u001b[0mcall\u001b[0m\u001b[0;34m(\u001b[0m\u001b[0;34m*\u001b[0m\u001b[0margs\u001b[0m\u001b[0;34m,\u001b[0m \u001b[0;34m**\u001b[0m\u001b[0mkwds\u001b[0m\u001b[0;34m)\u001b[0m\u001b[0;34m\u001b[0m\u001b[0;34m\u001b[0m\u001b[0m\n\u001b[0m\u001b[1;32m    443\u001b[0m \u001b[0;34m\u001b[0m\u001b[0m\n\u001b[1;32m    444\u001b[0m     \u001b[0;32mdef\u001b[0m \u001b[0m_get_service_uri\u001b[0m\u001b[0;34m(\u001b[0m\u001b[0mself\u001b[0m\u001b[0;34m,\u001b[0m \u001b[0mrequest\u001b[0m\u001b[0;34m)\u001b[0m\u001b[0;34m:\u001b[0m\u001b[0;34m\u001b[0m\u001b[0;34m\u001b[0m\u001b[0m\n",
      "\u001b[0;32m/opt/ros/melodic/lib/python2.7/dist-packages/rospy/impl/tcpros_service.py\u001b[0m in \u001b[0;36mcall\u001b[0;34m(self, *args, **kwds)\u001b[0m\n\u001b[1;32m    530\u001b[0m                 \u001b[0;32mraise\u001b[0m \u001b[0mrospy\u001b[0m\u001b[0;34m.\u001b[0m\u001b[0mexceptions\u001b[0m\u001b[0;34m.\u001b[0m\u001b[0mROSInterruptException\u001b[0m\u001b[0;34m(\u001b[0m\u001b[0;34m\"node shutdown interrupted service call\"\u001b[0m\u001b[0;34m)\u001b[0m\u001b[0;34m\u001b[0m\u001b[0;34m\u001b[0m\u001b[0m\n\u001b[1;32m    531\u001b[0m             \u001b[0;32melse\u001b[0m\u001b[0;34m:\u001b[0m\u001b[0;34m\u001b[0m\u001b[0;34m\u001b[0m\u001b[0m\n\u001b[0;32m--> 532\u001b[0;31m                 \u001b[0;32mraise\u001b[0m \u001b[0mServiceException\u001b[0m\u001b[0;34m(\u001b[0m\u001b[0;34m\"transport error completing service call: %s\"\u001b[0m\u001b[0;34m%\u001b[0m\u001b[0;34m(\u001b[0m\u001b[0mstr\u001b[0m\u001b[0;34m(\u001b[0m\u001b[0me\u001b[0m\u001b[0;34m)\u001b[0m\u001b[0;34m)\u001b[0m\u001b[0;34m)\u001b[0m\u001b[0;34m\u001b[0m\u001b[0;34m\u001b[0m\u001b[0m\n\u001b[0m\u001b[1;32m    533\u001b[0m         \u001b[0;32mfinally\u001b[0m\u001b[0;34m:\u001b[0m\u001b[0;34m\u001b[0m\u001b[0;34m\u001b[0m\u001b[0m\n\u001b[1;32m    534\u001b[0m             \u001b[0;32mif\u001b[0m \u001b[0;32mnot\u001b[0m \u001b[0mself\u001b[0m\u001b[0;34m.\u001b[0m\u001b[0mpersistent\u001b[0m\u001b[0;34m:\u001b[0m\u001b[0;34m\u001b[0m\u001b[0;34m\u001b[0m\u001b[0m\n",
      "\u001b[0;31mServiceException\u001b[0m: transport error completing service call: unable to receive data from sender, check sender's logs for details"
     ]
    }
   ],
   "source": [
    "target_qpos = None\n",
    "eef_pose = [0.028, -0.21, 0.6]\n",
    "eef_quat = [0.96, -0.28, 0.0, -0.02]\n",
    "ARM_JOINT_NAME = ['shoulder_pan_joint', 'shoulder_lift_joint', 'elbow_joint', 'wrist_1_joint', 'wrist_2_joint', 'wrist_3_joint']\n",
    "getJointTrajectory(ARM_JOINT_NAME, target_qpos, eef_pose, eef_quat)"
   ]
  }
 ],
 "metadata": {
  "kernelspec": {
   "display_name": "Python 3",
   "language": "python",
   "name": "python3"
  },
  "language_info": {
   "codemirror_mode": {
    "name": "ipython",
    "version": 2
   },
   "file_extension": ".py",
   "mimetype": "text/x-python",
   "name": "python",
   "nbconvert_exporter": "python",
   "pygments_lexer": "ipython2",
   "version": "2.7.12"
  }
 },
 "nbformat": 4,
 "nbformat_minor": 5
}
