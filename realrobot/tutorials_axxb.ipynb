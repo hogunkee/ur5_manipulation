{
 "cells": [
  {
   "cell_type": "code",
   "execution_count": 1,
   "metadata": {
    "id": "LsWl31Ff7y5x"
   },
   "outputs": [],
   "source": [
    "# source: https://github.com/sp9103/AXXB-Calibration\n",
    "import numpy as np\n",
    "from scipy.spatial.transform import Rotation\n",
    "from scipy.linalg import expm, logm"
   ]
  },
  {
   "cell_type": "code",
   "execution_count": 2,
   "metadata": {
    "colab": {
     "base_uri": "https://localhost:8080/"
    },
    "id": "LWpUPR6y9Le2",
    "outputId": "b1b701f7-99bb-4c94-9045-ef7c4c888c2f"
   },
   "outputs": [
    {
     "name": "stdout",
     "output_type": "stream",
     "text": [
      "[[ 1.00000000e+00 -1.57735604e-17 -5.93962116e-18]\n",
      " [-1.57735604e-17  1.00000000e+00 -1.31156810e-17]\n",
      " [-5.93962116e-18 -1.31156810e-17  1.00000000e+00]]\n"
     ]
    }
   ],
   "source": [
    "def RandomRGen():\n",
    "    \"\"\"\n",
    "    Creates random rotation matrix, SO(3)\n",
    "    \"\"\"\n",
    "    RandR = Rotation.random().as_matrix()\n",
    "    return RandR\n",
    "\n",
    "R = RandomRGen()\n",
    "print(R@R.T) # should be identity"
   ]
  },
  {
   "cell_type": "code",
   "execution_count": 3,
   "metadata": {
    "colab": {
     "base_uri": "https://localhost:8080/"
    },
    "id": "mtSpTat17wL5",
    "outputId": "80f28627-b73f-4fbd-dc48-aa09738be402"
   },
   "outputs": [
    {
     "name": "stdout",
     "output_type": "stream",
     "text": [
      "[[ 0.21160404  0.89860679 -0.38435603  0.74285615]\n",
      " [-0.93279064  0.06828596 -0.35389073  0.84223157]\n",
      " [-0.2917625   0.43340842  0.85266159  0.40735853]\n",
      " [ 0.          0.          0.          1.        ]]\n"
     ]
    }
   ],
   "source": [
    "def RandomTGen():\n",
    "    \"\"\"\n",
    "    Creates random transformation matrix, SE(3)\n",
    "    \"\"\"\n",
    "    RandT = np.zeros((4, 4))\n",
    "    RandR = RandomRGen()\n",
    "    t = np.random.rand(3)\n",
    "    RandT[:3, :3] = RandR\n",
    "    RandT[:3, 3] = t\n",
    "    RandT[3, 3] = 1\n",
    "    return RandT\n",
    "\n",
    "T = RandomTGen()\n",
    "print(T)"
   ]
  },
  {
   "cell_type": "code",
   "execution_count": 4,
   "metadata": {
    "colab": {
     "base_uri": "https://localhost:8080/"
    },
    "id": "NsvFhWGo76Qq",
    "outputId": "69a16abc-9dfa-43c3-cc46-fe58fe79a1c1"
   },
   "outputs": [
    {
     "name": "stdout",
     "output_type": "stream",
     "text": [
      "[[-2.22044605e-16  1.38777878e-17 -5.55111512e-17 -2.22044605e-16]\n",
      " [-5.55111512e-17 -1.66533454e-16  2.22044605e-16  1.11022302e-16]\n",
      " [-6.93889390e-17  1.11022302e-16  0.00000000e+00  0.00000000e+00]\n",
      " [ 0.00000000e+00  0.00000000e+00  0.00000000e+00  0.00000000e+00]]\n"
     ]
    }
   ],
   "source": [
    "def RandAXXBGen(n=2, noisy=False):\n",
    "    \"\"\"\n",
    "    Creates list of matrices As and Bs to solve AX=XB\n",
    "    \"\"\"\n",
    "    X = RandomTGen()\n",
    "    A_set = []\n",
    "    B_set = []\n",
    "    for i in range(n):\n",
    "        A = RandomTGen()\n",
    "        B = np.linalg.inv(X) @ A @ X\n",
    "        if noisy:\n",
    "            B += np.random.normal(0, 0.1, size=(4, 4))\n",
    "        A_set.append(A)\n",
    "        B_set.append(B)\n",
    "    return X, A_set, B_set\n",
    "\n",
    "X, A_set, B_set = RandAXXBGen(n=2, noisy=False)\n",
    "print(A_set[0] @ X - X @ B_set[0]) # should be all zeros"
   ]
  },
  {
   "cell_type": "code",
   "execution_count": 5,
   "metadata": {
    "colab": {
     "base_uri": "https://localhost:8080/"
    },
    "id": "mc1Oh-mMCJen",
    "outputId": "733e8e06-f163-40ab-82d7-e02de4d39bbe"
   },
   "outputs": [
    {
     "name": "stdout",
     "output_type": "stream",
     "text": [
      "True RotX: [[ 0.00296871  0.78535145 -0.61904304]\n",
      " [-0.44728788 -0.55262491 -0.70323486]\n",
      " [-0.89438512  0.27897814  0.3496376 ]]\n",
      "True tX: [0.11934629 0.69043831 0.27906536]\n",
      "RotX: [[ 0.00296871  0.78535145 -0.61904304]\n",
      " [-0.44728788 -0.55262491 -0.70323486]\n",
      " [-0.89438512  0.27897814  0.3496376 ]]\n",
      "tX: [0.11934629 0.69043831 0.27906536]\n",
      "[[ 1.50747470e-15 -1.11022302e-16  0.00000000e+00  4.02455846e-16]\n",
      " [ 0.00000000e+00  2.22044605e-16 -6.66133815e-16  0.00000000e+00]\n",
      " [ 1.11022302e-16  8.32667268e-16 -6.10622664e-16 -2.22044605e-16]\n",
      " [ 0.00000000e+00  0.00000000e+00  0.00000000e+00  0.00000000e+00]]\n"
     ]
    }
   ],
   "source": [
    "def CalcAXXB(A1, B1, A2, B2, verbose=False):\n",
    "    \"\"\"\n",
    "    Calculate unique (analytical) solution for AX=XB. Assumes no noise.\n",
    "    Frank C. Park and Bryan J. Martin, \"Robot Sensor Calibration: Solving AX=XB on the Euclidean Group\", IEEE 1994\n",
    "    * A. Finding a Unique Solution on SO(3)\n",
    "    * B. Solution on SE(3)\n",
    "    \"\"\"\n",
    "    # Get rotation matrices and translation vectors\n",
    "    RotA1 = A1[:3, :3]\n",
    "    RotB1 = B1[:3, :3]\n",
    "    RotA2 = A2[:3, :3]\n",
    "    RotB2 = B2[:3, :3]\n",
    "    tA1 = A1[:3, 3]\n",
    "    tB1 = B1[:3, 3]\n",
    "    tA2 = A2[:3, 3]\n",
    "    tB2 = B2[:3, 3]\n",
    "    # Matrix Logarithm mapping\n",
    "    a1 = np.take(logm(RotA1).reshape(-1), indices=[7, 2, 3])\n",
    "    b1 = np.take(logm(RotB1).reshape(-1), indices=[7, 2, 3])\n",
    "    a2 = np.take(logm(RotA2).reshape(-1), indices=[7, 2, 3])\n",
    "    b2 = np.take(logm(RotB2).reshape(-1), indices=[7, 2, 3])\n",
    "    # Cross product\n",
    "    a1xa2 = np.cross(a1, a2)\n",
    "    b1xb2 = np.cross(b1, b2)\n",
    "    # Unique solution on SO(3)\n",
    "    A_ = np.zeros((3, 3))\n",
    "    B_ = np.zeros((3, 3))\n",
    "    A_[:, 0] = a1\n",
    "    A_[:, 1] = a2\n",
    "    A_[:, 2] = a1xa2\n",
    "    B_[:, 0] = b1\n",
    "    B_[:, 1] = b2\n",
    "    B_[:, 2] = b1xb2\n",
    "    RotX = A_ @ np.linalg.inv(B_)\n",
    "    if verbose:\n",
    "        print(\"RotX:\", RotX)\n",
    "    # Unique solution on SE(3)\n",
    "    Left = np.concatenate([RotA1 - np.eye(3), \n",
    "                           RotA2 - np.eye(3)], axis=0)\n",
    "    Right = np.concatenate([RotX @ tB1 - tA1, \n",
    "                            RotX @ tB2 - tA2], axis=0)\n",
    "    tX = np.linalg.pinv(Left) @ Right\n",
    "    if verbose:\n",
    "        print(\"tX:\", tX)\n",
    "    X = np.zeros((4, 4))\n",
    "    X[:3, :3] = RotX\n",
    "    X[:3, 3] = tX\n",
    "    X[3, 3] = 1\n",
    "    return X\n",
    "\n",
    "\n",
    "X, A_set, B_set = RandAXXBGen(n=2, noisy=False)\n",
    "print(\"True RotX:\", X[:3, :3])\n",
    "print(\"True tX:\", X[:3, 3])\n",
    "X_pred = CalcAXXB(A_set[0], B_set[0], A_set[1], B_set[1], verbose=True)\n",
    "print(X_pred - X) # should be all zeros"
   ]
  },
  {
   "cell_type": "code",
   "execution_count": 9,
   "metadata": {
    "colab": {
     "base_uri": "https://localhost:8080/"
    },
    "id": "HNCpHtO_RHGU",
    "outputId": "80d5a369-402e-4d19-d859-29db5d03edb3"
   },
   "outputs": [
    {
     "name": "stdout",
     "output_type": "stream",
     "text": [
      "True RotX: [[ 0.2737462  -0.43956397 -0.85548029]\n",
      " [ 0.9326968   0.33847746  0.12453789]\n",
      " [ 0.23481843 -0.83199551  0.50263683]]\n",
      "True tX: [0.37949486 0.13991359 0.3254129 ]\n",
      "RotX: [[ 0.3771811  -0.45704004 -0.80551152]\n",
      " [ 0.89540159  0.40217341  0.19108257]\n",
      " [ 0.23662293 -0.79332903  0.56092659]]\n",
      "tX: [0.35027954 0.18184479 0.34590091]\n",
      "[[ 0.1034349  -0.01747608  0.04996877 -0.02921532]\n",
      " [-0.03729521  0.06369594  0.06654468  0.04193121]\n",
      " [ 0.0018045   0.03866648  0.05828976  0.020488  ]\n",
      " [ 0.          0.          0.          0.        ]]\n"
     ]
    }
   ],
   "source": [
    "def NormalizeR(R):\n",
    "    \"\"\"\n",
    "    Normalizes rotation matrix for noisy matrices which do not satisfy properties of SO(3)\n",
    "    *** Need to find a better way to normalize... Sometimes produces error as matrix logarithm gives complex numbers\n",
    "    \"\"\"\n",
    "    assert R.shape == (3, 3)\n",
    "    for i in range(3):\n",
    "        v = R[:, i]\n",
    "        norm = np.linalg.norm(v)\n",
    "        R[:, i] = v / norm\n",
    "    return R\n",
    "\n",
    "def find_closest_orthogonal_matrix(A):\n",
    "    '''\n",
    "    Find closest orthogonal matrix to *A* using iterative method.\n",
    "    \n",
    "    Bases on the code from REMOVE_SOURCE_LEAKAGE function from OSL Matlab package.\n",
    "    Args:\n",
    "        A (numpy.array): array shaped k, n, where k is number of channels, n - data points\n",
    "    \n",
    "    Returns:\n",
    "        L (numpy.array): orthogonalized matrix with amplitudes preserved\n",
    "    Reading:\n",
    "        Colclough GL et al., A symmetric multivariate leakage correction for MEG connectomes.,\n",
    "                    Neuroimage. 2015 Aug 15;117:439-48. doi: 10.1016/j.neuroimage.2015.03.071\n",
    "    \n",
    "    '''\n",
    "    MAX_ITER  = 2000\n",
    "\n",
    "    TOLERANCE = np.max((1, np.max(A.shape) * np.linalg.svd(A.T, False, False)[0])) * np.finfo(A.dtype).eps# TODO\n",
    "    reldiff     = lambda a,b: 2*abs(a-b) / (abs(a)+abs(b))\n",
    "    convergence = lambda rho, prev_rho: reldiff(rho, prev_rho) <= TOLERANCE\n",
    "\n",
    "    A_b  = A.conj()\n",
    "    d = np.sqrt(np.sum(A*A_b,axis=1))\n",
    "\n",
    "    rhos = np.zeros(MAX_ITER)\n",
    "\n",
    "    for i in range(MAX_ITER):\n",
    "        scA = A.T * d\n",
    "\n",
    "        u, s, vh = np.linalg.svd(scA, False)\n",
    "\n",
    "        V = np.dot(u, vh)\n",
    "\n",
    "        # TODO check is rank is full\n",
    "        d = np.sum(A_b*V.T, axis=1)\n",
    "\n",
    "        L = (V * d).T\n",
    "        E = A-L\n",
    "        rhos[i] = np.sqrt(np.sum(E*E.conj()))\n",
    "        if i > 0 and convergence(rhos[i], rhos[i - 1]):\n",
    "            break\n",
    "    return L\n",
    "\n",
    "def LeastSquaresAXXB(A_set, B_set, verbose=False):\n",
    "    \"\"\"\n",
    "    Calculate least-squares solution for AX=XB with noise.\n",
    "    Frank C. Park and Bryan J. Martin, \"Robot Sensor Calibration: Solving AX=XB on the Euclidean Group\", IEEE 1994\n",
    "    * IV. A Least-Squares Solution\n",
    "    \"\"\"\n",
    "    assert len(A_set) == len(B_set)\n",
    "    n = len(A_set)\n",
    "    M = np.zeros((3, 3))\n",
    "    tA_set = []\n",
    "    tB_set = []\n",
    "    RotA_set = []\n",
    "    for i in range(n):\n",
    "        Ai = A_set[i]\n",
    "        Bi = B_set[i]\n",
    "        # Get rotation matrices and translation vectors\n",
    "        RotAi = find_closest_orthogonal_matrix(Ai[:3, :3])\n",
    "        RotBi = find_closest_orthogonal_matrix(Bi[:3, :3])\n",
    "        tAi = Ai[:3, 3]\n",
    "        tBi = Bi[:3, 3]\n",
    "        # Matrix Logarithm mapping\n",
    "        ai = np.take(logm(RotAi).reshape(-1), indices=[7, 2, 3])\n",
    "        bi = np.take(logm(RotBi).reshape(-1), indices=[7, 2, 3])\n",
    "        # Add onto matrix M\n",
    "        M += bi.reshape(3, 1) @ ai.reshape(1, 3)\n",
    "        # Append\n",
    "        tA_set.append(tAi)\n",
    "        tB_set.append(tBi)\n",
    "        RotA_set.append(RotAi)\n",
    "    # Solution on SO(3)\n",
    "    MTM = M.T @ M\n",
    "    w, v = np.linalg.eig(MTM)\n",
    "    w_ = np.power(w, -0.5)\n",
    "    Diag = np.diag(w_)\n",
    "    RotX = v @ Diag @ np.linalg.inv(v) @ M.T\n",
    "    RotX = NormalizeR(RotX)\n",
    "    if verbose:\n",
    "        print(\"RotX:\", RotX)\n",
    "    # Solution on SE(3)\n",
    "    C_set = []\n",
    "    d_set = []\n",
    "    for i in range(n):\n",
    "        Ci = np.eye(3) - RotA_set[i]\n",
    "        di = tA_set[i].reshape(3, 1) - RotX @ tB_set[i].reshape(3, 1)\n",
    "        C_set.append(Ci)\n",
    "        d_set.append(di)\n",
    "    C = np.concatenate(C_set, axis=0)\n",
    "    d = np.concatenate(d_set, axis=0)\n",
    "    tX = (np.linalg.pinv(C) @ d).reshape(-1)\n",
    "    if verbose:\n",
    "        print(\"tX:\", tX)\n",
    "    X = np.zeros((4, 4))\n",
    "    X[:3, :3] = RotX\n",
    "    X[:3, 3] = tX\n",
    "    X[3, 3] = 1\n",
    "    return X\n",
    "\n",
    "X, A_set, B_set = RandAXXBGen(n=10, noisy=True)\n",
    "print(\"True RotX:\", X[:3, :3])\n",
    "print(\"True tX:\", X[:3, 3])\n",
    "X_pred = LeastSquaresAXXB(A_set, B_set, verbose=True)\n",
    "print(X_pred - X) # goal: all zeros (***noisy)"
   ]
  },
  {
   "cell_type": "code",
   "execution_count": null,
   "metadata": {
    "id": "8rDWol5Cjuk5"
   },
   "outputs": [],
   "source": []
  }
 ],
 "metadata": {
  "colab": {
   "collapsed_sections": [],
   "name": "axxb.ipynb",
   "provenance": []
  },
  "kernelspec": {
   "display_name": "Python 3",
   "language": "python",
   "name": "python3"
  },
  "language_info": {
   "codemirror_mode": {
    "name": "ipython",
    "version": 2
   },
   "file_extension": ".py",
   "mimetype": "text/x-python",
   "name": "python",
   "nbconvert_exporter": "python",
   "pygments_lexer": "ipython2",
   "version": "2.7.12"
  }
 },
 "nbformat": 4,
 "nbformat_minor": 1
}
