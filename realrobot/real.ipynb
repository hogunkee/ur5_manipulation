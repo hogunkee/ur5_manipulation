{
 "cells": [
  {
   "cell_type": "markdown",
   "metadata": {},
   "source": [
    "## install moveit_commander\n",
    "\n",
    "```\n",
    "sudo apt-get install ros-\"DISTRO\"-moveit-commander\n",
    "pip install pyassimp\n",
    "```\n",
    "\n",
    "## reference\n",
    "\n",
    "https://ros-planning.github.io/moveit_tutorials/doc/move_group_python_interface/move_group_python_interface_tutorial.html\n",
    "\n",
    "## Before Running Moveit \n",
    "\n",
    "```\n",
    "# run gazebo\n",
    "roslaunch ur_gazebo ur5.launch\n",
    "# run moveit\n",
    "roslaunch ur5_moveit_config ur5_moveit_planning_execution.launch sim:=true limited:=true\n",
    "# run rviz\n",
    "roslaunch ur5_moveit_config moveit_rviz.launch config:=true\n",
    "```\n"
   ]
  },
  {
   "cell_type": "code",
   "execution_count": 1,
   "metadata": {},
   "outputs": [],
   "source": [
    "import os\n",
    "ROS_DISTRO = os.environ['ROS_DISTRO']"
   ]
  },
  {
   "cell_type": "code",
   "execution_count": 2,
   "metadata": {},
   "outputs": [],
   "source": [
    "from __future__ import print_function\n",
    "from six.moves import input\n",
    "\n",
    "import sys\n",
    "ros_python_path = '/opt/ros/{}/lib/python2.7/dist-packages'.format(ROS_DISTRO)\n",
    "if not ros_python_path in sys.path:\n",
    "    sys.path.append(ros_python_path)\n",
    "\n",
    "import rospy\n",
    "import copy\n",
    "import numpy as np"
   ]
  },
  {
   "cell_type": "code",
   "execution_count": 3,
   "metadata": {},
   "outputs": [
    {
     "ename": "ImportError",
     "evalue": "dynamic module does not define module export function (PyInit__moveit_roscpp_initializer)",
     "output_type": "error",
     "traceback": [
      "\u001b[0;31m---------------------------------------------------------------------------\u001b[0m",
      "\u001b[0;31mImportError\u001b[0m                               Traceback (most recent call last)",
      "\u001b[0;32m<ipython-input-3-5ef70d4614bb>\u001b[0m in \u001b[0;36m<module>\u001b[0;34m\u001b[0m\n\u001b[0;32m----> 1\u001b[0;31m \u001b[0;32mfrom\u001b[0m \u001b[0mmoveit_commander\u001b[0m\u001b[0;34m.\u001b[0m\u001b[0mconversions\u001b[0m \u001b[0;32mimport\u001b[0m \u001b[0mpose_to_list\u001b[0m\u001b[0;34m\u001b[0m\u001b[0;34m\u001b[0m\u001b[0m\n\u001b[0m\u001b[1;32m      2\u001b[0m \u001b[0;32mfrom\u001b[0m \u001b[0mstd_msgs\u001b[0m\u001b[0;34m.\u001b[0m\u001b[0mmsg\u001b[0m \u001b[0;32mimport\u001b[0m \u001b[0mString\u001b[0m\u001b[0;34m\u001b[0m\u001b[0;34m\u001b[0m\u001b[0m\n\u001b[1;32m      3\u001b[0m \u001b[0;32mimport\u001b[0m \u001b[0mgeometry_msgs\u001b[0m\u001b[0;34m.\u001b[0m\u001b[0mmsg\u001b[0m\u001b[0;34m\u001b[0m\u001b[0;34m\u001b[0m\u001b[0m\n\u001b[1;32m      4\u001b[0m \u001b[0;32mimport\u001b[0m \u001b[0mmoveit_commander\u001b[0m\u001b[0;34m\u001b[0m\u001b[0;34m\u001b[0m\u001b[0m\n\u001b[1;32m      5\u001b[0m \u001b[0;32mimport\u001b[0m \u001b[0mmoveit_msgs\u001b[0m\u001b[0;34m.\u001b[0m\u001b[0mmsg\u001b[0m\u001b[0;34m\u001b[0m\u001b[0;34m\u001b[0m\u001b[0m\n",
      "\u001b[0;32m/opt/ros/melodic/lib/python2.7/dist-packages/moveit_commander/__init__.py\u001b[0m in \u001b[0;36m<module>\u001b[0;34m\u001b[0m\n\u001b[1;32m      1\u001b[0m \u001b[0;32mfrom\u001b[0m \u001b[0;34m.\u001b[0m\u001b[0mexception\u001b[0m \u001b[0;32mimport\u001b[0m \u001b[0;34m*\u001b[0m\u001b[0;34m\u001b[0m\u001b[0;34m\u001b[0m\u001b[0m\n\u001b[0;32m----> 2\u001b[0;31m \u001b[0;32mfrom\u001b[0m \u001b[0;34m.\u001b[0m\u001b[0mroscpp_initializer\u001b[0m \u001b[0;32mimport\u001b[0m \u001b[0;34m*\u001b[0m\u001b[0;34m\u001b[0m\u001b[0;34m\u001b[0m\u001b[0m\n\u001b[0m\u001b[1;32m      3\u001b[0m \u001b[0;32mfrom\u001b[0m \u001b[0;34m.\u001b[0m\u001b[0mplanning_scene_interface\u001b[0m \u001b[0;32mimport\u001b[0m \u001b[0;34m*\u001b[0m\u001b[0;34m\u001b[0m\u001b[0;34m\u001b[0m\u001b[0m\n\u001b[1;32m      4\u001b[0m \u001b[0;32mfrom\u001b[0m \u001b[0;34m.\u001b[0m\u001b[0mmove_group\u001b[0m \u001b[0;32mimport\u001b[0m \u001b[0;34m*\u001b[0m\u001b[0;34m\u001b[0m\u001b[0;34m\u001b[0m\u001b[0m\n\u001b[1;32m      5\u001b[0m \u001b[0;32mfrom\u001b[0m \u001b[0;34m.\u001b[0m\u001b[0mrobot\u001b[0m \u001b[0;32mimport\u001b[0m \u001b[0;34m*\u001b[0m\u001b[0;34m\u001b[0m\u001b[0;34m\u001b[0m\u001b[0m\n",
      "\u001b[0;32m/opt/ros/melodic/lib/python2.7/dist-packages/moveit_commander/roscpp_initializer.py\u001b[0m in \u001b[0;36m<module>\u001b[0;34m\u001b[0m\n\u001b[1;32m     33\u001b[0m \u001b[0;31m# Author: Ioan Sucan\u001b[0m\u001b[0;34m\u001b[0m\u001b[0;34m\u001b[0m\u001b[0;34m\u001b[0m\u001b[0m\n\u001b[1;32m     34\u001b[0m \u001b[0;34m\u001b[0m\u001b[0m\n\u001b[0;32m---> 35\u001b[0;31m \u001b[0;32mfrom\u001b[0m \u001b[0mmoveit_ros_planning_interface\u001b[0m \u001b[0;32mimport\u001b[0m \u001b[0m_moveit_roscpp_initializer\u001b[0m\u001b[0;34m\u001b[0m\u001b[0;34m\u001b[0m\u001b[0m\n\u001b[0m\u001b[1;32m     36\u001b[0m \u001b[0;34m\u001b[0m\u001b[0m\n\u001b[1;32m     37\u001b[0m \u001b[0;34m\u001b[0m\u001b[0m\n",
      "\u001b[0;31mImportError\u001b[0m: dynamic module does not define module export function (PyInit__moveit_roscpp_initializer)"
     ]
    }
   ],
   "source": [
    "from moveit_commander.conversions import pose_to_list\n",
    "from std_msgs.msg import String\n",
    "import geometry_msgs.msg\n",
    "import moveit_commander\n",
    "import moveit_msgs.msg\n",
    "from math import pi"
   ]
  },
  {
   "cell_type": "markdown",
   "metadata": {},
   "source": [
    "## initialize moveit_commander"
   ]
  },
  {
   "cell_type": "code",
   "execution_count": 4,
   "metadata": {},
   "outputs": [],
   "source": [
    "moveit_commander.roscpp_initialize(sys.argv)\n",
    "rospy.init_node('move_group_python_interface_tutorial', anonymous=True)"
   ]
  },
  {
   "cell_type": "code",
   "execution_count": 5,
   "metadata": {},
   "outputs": [],
   "source": [
    "# Provides information such as the robot’s kinematic model and the robot’s current joint states\n",
    "robot = moveit_commander.RobotCommander()"
   ]
  },
  {
   "cell_type": "code",
   "execution_count": 6,
   "metadata": {},
   "outputs": [
    {
     "name": "stdout",
     "output_type": "stream",
     "text": [
      "['endeffector', 'manipulator']\n",
      "joint_state: \n",
      "  header: \n",
      "    seq: 0\n",
      "    stamp: \n",
      "      secs: 0\n",
      "      nsecs:         0\n",
      "    frame_id: \"base_link\"\n",
      "  name: [shoulder_pan_joint, shoulder_lift_joint, elbow_joint, wrist_1_joint, wrist_2_joint,\n",
      "  wrist_3_joint]\n",
      "  position: [-2.0160048643695276, -1.9758833090411585, 1.3394403457641602, -1.0185988585101526, -1.522442642842428, -3.394572083150045]\n",
      "  velocity: []\n",
      "  effort: []\n",
      "multi_dof_joint_state: \n",
      "  header: \n",
      "    seq: 0\n",
      "    stamp: \n",
      "      secs: 0\n",
      "      nsecs:         0\n",
      "    frame_id: \"base_link\"\n",
      "  joint_names: []\n",
      "  transforms: []\n",
      "  twist: []\n",
      "  wrench: []\n",
      "attached_collision_objects: []\n",
      "is_diff: False\n",
      "['fixed_base', 'base_link-base_fixed_joint', 'base_link-base_link_inertia', 'shoulder_pan_joint', 'shoulder_lift_joint', 'elbow_joint', 'wrist_1_joint', 'wrist_2_joint', 'wrist_3_joint', 'wrist_3-flange', 'flange-tool0']\n"
     ]
    }
   ],
   "source": [
    "#'''\n",
    "print(robot.get_group_names())\n",
    "print(robot.get_current_state())\n",
    "print(robot.get_joint_names())\n",
    "#'''"
   ]
  },
  {
   "cell_type": "code",
   "execution_count": 7,
   "metadata": {},
   "outputs": [],
   "source": [
    "# provides a remote interface for getting, setting, and updating the robot’s internal understanding of the surrounding world\n",
    "# 플래닝할때, 주변 장애물을 반영할 수 있게, 아래의 object를 통해 환경에 장애물을 추가할 수 있다.\n",
    "scene = moveit_commander.PlanningSceneInterface()"
   ]
  },
  {
   "cell_type": "code",
   "execution_count": 8,
   "metadata": {},
   "outputs": [],
   "source": [
    "# plan 한 trajectory를 rviz화면에 시뮬레이션해줌.\n",
    "# \"roslaunch ur5_moveit_config moveit_rviz.launch config:=true\" 을 통해 미리 rviz를 띄어놔야 함.\n",
    "display_trajectory_publisher = rospy.Publisher('/move_group/display_planned_path',\n",
    "                                               moveit_msgs.msg.DisplayTrajectory,\n",
    "                                               queue_size=20)"
   ]
  },
  {
   "cell_type": "code",
   "execution_count": 9,
   "metadata": {},
   "outputs": [],
   "source": [
    "# move_group 객체를 통해 각 joint(move_element)의 desired states를 지정할 수 있고, moveit은 이 값을 바탕으로 planning을 해줌.\n",
    "group_name = \"manipulator\"\n",
    "move_group = moveit_commander.MoveGroupCommander(group_name)"
   ]
  },
  {
   "cell_type": "code",
   "execution_count": 10,
   "metadata": {},
   "outputs": [
    {
     "name": "stdout",
     "output_type": "stream",
     "text": [
      "============ Planning frame: base_link\n",
      "============ End effector link: tool0\n",
      "============ Available Planning Groups: ['endeffector', 'manipulator']\n",
      "============ Printing robot state\n",
      "joint_state: \n",
      "  header: \n",
      "    seq: 0\n",
      "    stamp: \n",
      "      secs: 0\n",
      "      nsecs:         0\n",
      "    frame_id: \"base_link\"\n",
      "  name: [shoulder_pan_joint, shoulder_lift_joint, elbow_joint, wrist_1_joint, wrist_2_joint,\n",
      "  wrist_3_joint]\n",
      "  position: [-2.0160167852984827, -1.9759071508990687, 1.3394641876220703, -1.0186227003680628, -1.5224550406085413, -3.3945959250079554]\n",
      "  velocity: []\n",
      "  effort: []\n",
      "multi_dof_joint_state: \n",
      "  header: \n",
      "    seq: 0\n",
      "    stamp: \n",
      "      secs: 0\n",
      "      nsecs:         0\n",
      "    frame_id: \"base_link\"\n",
      "  joint_names: []\n",
      "  transforms: []\n",
      "  twist: []\n",
      "  wrench: []\n",
      "attached_collision_objects: []\n",
      "is_diff: False\n",
      "\n"
     ]
    }
   ],
   "source": [
    "# We can get the name of the reference frame for this robot:\n",
    "planning_frame = move_group.get_planning_frame()\n",
    "print(\"============ Planning frame: %s\" % planning_frame)\n",
    "\n",
    "# We can also print the name of the end-effector link for this group:\n",
    "eef_link = move_group.get_end_effector_link()\n",
    "print(\"============ End effector link: %s\" % eef_link)\n",
    "\n",
    "# We can get a list of all the groups in the robot:\n",
    "group_names = robot.get_group_names()\n",
    "print(\"============ Available Planning Groups:\", robot.get_group_names())\n",
    "\n",
    "# Sometimes for debugging it is useful to print the entire state of the\n",
    "# robot:\n",
    "print(\"============ Printing robot state\")\n",
    "print(robot.get_current_state())\n",
    "print(\"\")"
   ]
  },
  {
   "cell_type": "code",
   "execution_count": 12,
   "metadata": {},
   "outputs": [
    {
     "name": "stdout",
     "output_type": "stream",
     "text": [
      "[-2.0158732573138636, -1.9759190718280237, 1.339571475982666, -1.0185626188861292, -1.5224141895711751, -3.3944643179522913]\n"
     ]
    }
   ],
   "source": [
    "joint_goal = move_group.get_current_joint_values()\n",
    "joint_goal[0] -= 0 #pi/12\n",
    "joint_goal[1] += 0\n",
    "joint_goal[2] += 0\n",
    "joint_goal[3] += 0\n",
    "joint_goal[4] -= 0\n",
    "joint_goal[5] += 0 #pi/4 \n",
    "\n",
    "# The go command can be called with joint values, poses, or without any\n",
    "# parameters if you have already set the pose or joint target for the group\n",
    "move_group.go(joint_goal, wait=True)\n",
    "\n",
    "# Calling ``stop()`` ensures that there is no residual movement\n",
    "move_group.stop()\n",
    "\n",
    "print(joint_goal)"
   ]
  },
  {
   "cell_type": "code",
   "execution_count": 15,
   "metadata": {
    "scrolled": true
   },
   "outputs": [
    {
     "name": "stdout",
     "output_type": "stream",
     "text": [
      "[-2.0159810225116175, -1.9758713881122034, 1.3394522666931152, -1.0186227003680628, -1.522442642842428, -3.394524161015646]\n"
     ]
    }
   ],
   "source": [
    "joint_goal = move_group.get_current_joint_values()\n",
    "print(joint_goal)"
   ]
  },
  {
   "cell_type": "code",
   "execution_count": 16,
   "metadata": {},
   "outputs": [
    {
     "data": {
      "text/plain": [
       "position: \n",
       "  x: -0.00521348981236\n",
       "  y: -0.273615042048\n",
       "  z: 0.638948626837\n",
       "orientation: \n",
       "  x: 0.994305238721\n",
       "  y: -0.094869348109\n",
       "  z: 0.008299105385\n",
       "  w: 0.0478332927002"
      ]
     },
     "execution_count": 16,
     "metadata": {},
     "output_type": "execute_result"
    }
   ],
   "source": [
    "move_group.get_current_pose().pose"
   ]
  },
  {
   "cell_type": "code",
   "execution_count": 17,
   "metadata": {},
   "outputs": [],
   "source": [
    "scale = 0.2\n",
    "\n",
    "waypoints = []\n",
    "\n",
    "wpose = move_group.get_current_pose().pose\n",
    "wpose.position.z -= scale * 0.1  # First move up (z)\n",
    "wpose.position.y += scale * 0.2  # and sideways (y)\n",
    "waypoints.append(copy.deepcopy(wpose))\n",
    "\n",
    "wpose.position.x += scale * 0.1  # Second move forward/backwards in (x)\n",
    "waypoints.append(copy.deepcopy(wpose))\n",
    "\n",
    "wpose.position.y -= scale * 0.1  # Third move sideways (y)\n",
    "waypoints.append(copy.deepcopy(wpose))\n",
    "\n",
    "# We want the Cartesian path to be interpolated at a resolution of 1 cm\n",
    "# which is why we will specify 0.01 as the eef_step in Cartesian\n",
    "# translation.  We will disable the jump threshold by setting it to 0.0,\n",
    "# ignoring the check for infeasible jumps in joint space, which is sufficient\n",
    "# for this tutorial.\n",
    "(plan, fraction) = move_group.compute_cartesian_path(\n",
    "                                   waypoints,   # waypoints to follow\n",
    "                                   0.01,        # eef_step\n",
    "                                   0.0)         # jump_threshold"
   ]
  },
  {
   "cell_type": "code",
   "execution_count": 56,
   "metadata": {},
   "outputs": [],
   "source": [
    "display_trajectory = moveit_msgs.msg.DisplayTrajectory()\n",
    "display_trajectory.trajectory_start = robot.get_current_state()\n",
    "display_trajectory.trajectory.append(plan)\n",
    "# Publish\n",
    "display_trajectory_publisher.publish(display_trajectory);"
   ]
  },
  {
   "cell_type": "code",
   "execution_count": 57,
   "metadata": {},
   "outputs": [
    {
     "data": {
      "text/plain": [
       "True"
      ]
     },
     "execution_count": 57,
     "metadata": {},
     "output_type": "execute_result"
    }
   ],
   "source": [
    "move_group.execute(plan, wait=True)"
   ]
  },
  {
   "cell_type": "markdown",
   "metadata": {},
   "source": [
    "## robotiq finger"
   ]
  },
  {
   "cell_type": "code",
   "execution_count": 13,
   "metadata": {},
   "outputs": [],
   "source": [
    "# for gripper\n",
    "from robotiq_2f_gripper_msgs.msg import CommandRobotiqGripperFeedback, CommandRobotiqGripperResult, CommandRobotiqGripperAction, CommandRobotiqGripperGoal\n",
    "from robotiq_2f_gripper_control.robotiq_2f_gripper_driver import Robotiq2FingerGripperDriver as Robotiq\n",
    "import actionlib"
   ]
  },
  {
   "cell_type": "code",
   "execution_count": 14,
   "metadata": {},
   "outputs": [
    {
     "name": "stdout",
     "output_type": "stream",
     "text": [
      "command_robotiq_action\n"
     ]
    }
   ],
   "source": [
    "action_name = rospy.get_param('~action_name', 'command_robotiq_action')\n",
    "print(action_name)"
   ]
  },
  {
   "cell_type": "code",
   "execution_count": 15,
   "metadata": {},
   "outputs": [
    {
     "name": "stdout",
     "output_type": "stream",
     "text": [
      "Client test: Starting sending goals\n"
     ]
    }
   ],
   "source": [
    "robotiq_client = actionlib.SimpleActionClient(action_name, CommandRobotiqGripperAction)\n",
    "robotiq_client.wait_for_server()\n",
    "print(\"Client test: Starting sending goals\")"
   ]
  },
  {
   "cell_type": "code",
   "execution_count": 16,
   "metadata": {},
   "outputs": [
    {
     "data": {
      "text/plain": [
       "True"
      ]
     },
     "execution_count": 16,
     "metadata": {},
     "output_type": "execute_result"
    }
   ],
   "source": [
    "## Manually set all the parameters of the gripper goal state.\n",
    "######################################################################################\n",
    "\n",
    "goal = CommandRobotiqGripperGoal()\n",
    "goal.emergency_release = False\n",
    "goal.stop = False\n",
    "goal.position = 0.1\n",
    "goal.speed = 0.1\n",
    "goal.force = 5.0\n",
    "\n",
    "# Sends the goal to the gripper.\n",
    "robotiq_client.send_goal(goal)\n",
    "# Block processing thread until gripper movement is finished, comment if waiting is not necesary.\n",
    "robotiq_client.wait_for_result()"
   ]
  },
  {
   "cell_type": "code",
   "execution_count": 17,
   "metadata": {},
   "outputs": [
    {
     "data": {
      "text/plain": [
       "True"
      ]
     },
     "execution_count": 17,
     "metadata": {},
     "output_type": "execute_result"
    }
   ],
   "source": [
    "## Manually set all the parameters of the gripper goal state.\n",
    "######################################################################################\n",
    "\n",
    "goal = CommandRobotiqGripperGoal()\n",
    "goal.emergency_release = False\n",
    "goal.stop = False\n",
    "goal.position = 0.0\n",
    "goal.speed = 0.1\n",
    "goal.force = 5.0\n",
    "\n",
    "# Sends the goal to the gripper.\n",
    "robotiq_client.send_goal(goal)\n",
    "# Block processing thread until gripper movement is finished, comment if waiting is not necesary.\n",
    "robotiq_client.wait_for_result()"
   ]
  },
  {
   "cell_type": "code",
   "execution_count": 18,
   "metadata": {},
   "outputs": [
    {
     "name": "stderr",
     "output_type": "stream",
     "text": [
      "[WARN] [1635324432.067435]: Inbound TCP/IP connection failed: connection from sender terminated before handshake header received. 0 bytes were received. Please check sender for additional details.\n"
     ]
    }
   ],
   "source": [
    "move_group.set_max_velocity_scaling_factor = 0.001\n",
    "joint_goal = move_group.get_current_joint_values()\n",
    "joint_goal[0] += 0\n",
    "joint_goal[1] += 0\n",
    "joint_goal[2] += np.pi/12.0\n",
    "joint_goal[3] -= np.pi/12.0\n",
    "joint_goal[4] += 0\n",
    "joint_goal[5] += 0\n",
    "\n",
    "# The go command can be called with joint values, poses, or without any\n",
    "# parameters if you have already set the pose or joint target for the group\n",
    "move_group.go(joint_goal, wait=True)\n",
    "\n",
    "# Calling ``stop()`` ensures that there is no residual movement\n",
    "move_group.stop()"
   ]
  },
  {
   "cell_type": "code",
   "execution_count": 54,
   "metadata": {},
   "outputs": [
    {
     "data": {
      "text/plain": [
       "0.001"
      ]
     },
     "execution_count": 54,
     "metadata": {},
     "output_type": "execute_result"
    }
   ],
   "source": [
    "move_group.set_max_velocity_scaling_factor"
   ]
  },
  {
   "cell_type": "code",
   "execution_count": null,
   "metadata": {},
   "outputs": [],
   "source": [
    "move_group.s"
   ]
  }
 ],
 "metadata": {
  "kernelspec": {
   "display_name": "Python 2",
   "language": "python",
   "name": "python2"
  },
  "language_info": {
   "codemirror_mode": {
    "name": "ipython",
    "version": 3
   },
   "file_extension": ".py",
   "mimetype": "text/x-python",
   "name": "python",
   "nbconvert_exporter": "python",
   "pygments_lexer": "ipython3",
   "version": "3.6.9"
  }
 },
 "nbformat": 4,
 "nbformat_minor": 4
}
