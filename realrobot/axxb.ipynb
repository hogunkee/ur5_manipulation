{
 "cells": [
  {
   "cell_type": "code",
   "execution_count": 7,
   "metadata": {
    "id": "LsWl31Ff7y5x"
   },
   "outputs": [],
   "source": [
    "# source: https://github.com/sp9103/AXXB-Calibration\n",
    "import numpy as np\n",
    "from scipy.spatial.transform import Rotation\n",
    "from scipy.linalg import expm, logm"
   ]
  },
  {
   "cell_type": "code",
   "execution_count": 8,
   "metadata": {
    "colab": {
     "base_uri": "https://localhost:8080/"
    },
    "id": "LWpUPR6y9Le2",
    "outputId": "42bc8e38-1219-4abd-f2a1-e7a599f72402"
   },
   "outputs": [
    {
     "name": "stdout",
     "output_type": "stream",
     "text": [
      "[[ 1.00000000e+00  4.83797787e-17 -9.21361614e-17]\n",
      " [ 4.83797787e-17  1.00000000e+00  1.11766430e-16]\n",
      " [-9.21361614e-17  1.11766430e-16  1.00000000e+00]]\n"
     ]
    }
   ],
   "source": [
    "def RandomRGen():\n",
    "    \"\"\"\n",
    "    Creates random rotation matrix, SO(3)\n",
    "    \"\"\"\n",
    "    RandR = Rotation.random().as_matrix()\n",
    "    return RandR\n",
    "\n",
    "R = RandomRGen()\n",
    "print(R@R.T) # should be identity"
   ]
  },
  {
   "cell_type": "code",
   "execution_count": 9,
   "metadata": {
    "colab": {
     "base_uri": "https://localhost:8080/"
    },
    "id": "mtSpTat17wL5",
    "outputId": "6036267d-a30c-4517-ed54-db30ca33cc73"
   },
   "outputs": [
    {
     "name": "stdout",
     "output_type": "stream",
     "text": [
      "[[ 0.64867817  0.57802121 -0.49508394  0.63308817]\n",
      " [ 0.52261927 -0.8112012  -0.26233892  0.22547292]\n",
      " [-0.55325015 -0.08856688 -0.82829354  0.9935673 ]\n",
      " [ 0.          0.          0.          1.        ]]\n"
     ]
    }
   ],
   "source": [
    "def RandomTGen():\n",
    "    \"\"\"\n",
    "    Creates random transformation matrix, SE(3)\n",
    "    \"\"\"\n",
    "    RandT = np.zeros((4, 4))\n",
    "    RandR = RandomRGen()\n",
    "    t = np.random.rand(3)\n",
    "    RandT[:3, :3] = RandR\n",
    "    RandT[:3, 3] = t\n",
    "    RandT[3, 3] = 1\n",
    "    return RandT\n",
    "\n",
    "T = RandomTGen()\n",
    "print(T)"
   ]
  },
  {
   "cell_type": "code",
   "execution_count": 10,
   "metadata": {
    "colab": {
     "base_uri": "https://localhost:8080/"
    },
    "id": "NsvFhWGo76Qq",
    "outputId": "13ca01a6-bdb9-45eb-b563-348351dde4d0"
   },
   "outputs": [
    {
     "name": "stdout",
     "output_type": "stream",
     "text": [
      "[[ 5.55111512e-17  0.00000000e+00  0.00000000e+00  1.11022302e-16]\n",
      " [-1.38777878e-17  0.00000000e+00 -1.11022302e-16  0.00000000e+00]\n",
      " [ 0.00000000e+00  5.55111512e-17 -4.85722573e-17  0.00000000e+00]\n",
      " [ 0.00000000e+00  0.00000000e+00  0.00000000e+00  0.00000000e+00]]\n"
     ]
    }
   ],
   "source": [
    "def RandAXXBGen(n=2, noisy=False):\n",
    "    \"\"\"\n",
    "    Creates list of matrices As and Bs to solve AX=XB\n",
    "    \"\"\"\n",
    "    X = RandomTGen()\n",
    "    A_set = []\n",
    "    B_set = []\n",
    "    for i in range(n):\n",
    "        A = RandomTGen()\n",
    "        B = np.linalg.inv(X) @ A @ X\n",
    "        if noisy:\n",
    "            B += np.random.normal(0, 0.1, size=(4, 4))\n",
    "        A_set.append(A)\n",
    "        B_set.append(B)\n",
    "    return X, A_set, B_set\n",
    "\n",
    "X, A_set, B_set = RandAXXBGen(n=2, noisy=False)\n",
    "print(A_set[0] @ X - X @ B_set[0]) # should be all zeros"
   ]
  },
  {
   "cell_type": "code",
   "execution_count": 29,
   "metadata": {
    "colab": {
     "base_uri": "https://localhost:8080/"
    },
    "id": "mc1Oh-mMCJen",
    "outputId": "afac1ee7-fd21-48ff-d622-31a78fcd3297"
   },
   "outputs": [
    {
     "name": "stdout",
     "output_type": "stream",
     "text": [
      "True RotX: [[ 0.97916564  0.17705449  0.0994302 ]\n",
      " [-0.19435486  0.95899514  0.20628746]\n",
      " [-0.05882896 -0.22131434  0.97342648]]\n",
      "True tX: [0.28464389 0.04607183 0.58713073]\n",
      "RotX: [[ 0.97916564  0.17705449  0.0994302 ]\n",
      " [-0.19435486  0.95899514  0.20628746]\n",
      " [-0.05882896 -0.22131434  0.97342648]]\n",
      "tX: [0.28464389 0.04607183 0.58713073]\n",
      "[[ 7.77156117e-16 -3.13638004e-15 -2.35922393e-16  1.66533454e-16]\n",
      " [-8.32667268e-17 -6.66133815e-16 -1.22124533e-15 -2.84494650e-16]\n",
      " [-2.63677968e-16  2.08166817e-15 -1.11022302e-16 -3.33066907e-16]\n",
      " [ 0.00000000e+00  0.00000000e+00  0.00000000e+00  0.00000000e+00]]\n"
     ]
    }
   ],
   "source": [
    "def CalcAXXB(A1, B1, A2, B2, verbose=False):\n",
    "    \"\"\"\n",
    "    Calculate unique (analytical) solution for AX=XB. Assumes no noise.\n",
    "    Frank C. Park and Bryan J. Martin, \"Robot Sensor Calibration: Solving AX=XB on the Euclidean Group\", IEEE 1994\n",
    "    * A. Finding a Unique Solution on SO(3)\n",
    "    * B. Solution on SE(3)\n",
    "    \"\"\"\n",
    "    # Get rotation matrices and translation vectors\n",
    "    RotA1 = A1[:3, :3]\n",
    "    RotB1 = B1[:3, :3]\n",
    "    RotA2 = A2[:3, :3]\n",
    "    RotB2 = B2[:3, :3]\n",
    "    tA1 = A1[:3, 3]\n",
    "    tB1 = B1[:3, 3]\n",
    "    tA2 = A2[:3, 3]\n",
    "    tB2 = B2[:3, 3]\n",
    "    # Matrix Logarithm mapping\n",
    "    a1 = np.take(logm(RotA1).reshape(-1), indices=[7, 2, 3])\n",
    "    b1 = np.take(logm(RotB1).reshape(-1), indices=[7, 2, 3])\n",
    "    a2 = np.take(logm(RotA2).reshape(-1), indices=[7, 2, 3])\n",
    "    b2 = np.take(logm(RotB2).reshape(-1), indices=[7, 2, 3])\n",
    "    # Cross product\n",
    "    a1xa2 = np.cross(a1, a2)\n",
    "    b1xb2 = np.cross(b1, b2)\n",
    "    # Unique solution on SO(3)\n",
    "    A_ = np.zeros((3, 3))\n",
    "    B_ = np.zeros((3, 3))\n",
    "    A_[:, 0] = a1\n",
    "    A_[:, 1] = a2\n",
    "    A_[:, 2] = a1xa2\n",
    "    B_[:, 0] = b1\n",
    "    B_[:, 1] = b2\n",
    "    B_[:, 2] = b1xb2\n",
    "    RotX = A_ @ np.linalg.inv(B_)\n",
    "    if verbose:\n",
    "        print(\"RotX:\", RotX)\n",
    "    # Unique solution on SE(3)\n",
    "    Left = np.concatenate([RotA1 - np.eye(3), \n",
    "                           RotA2 - np.eye(3)], axis=0)\n",
    "    Right = np.concatenate([RotX @ tB1 - tA1, \n",
    "                            RotX @ tB2 - tA2], axis=0)\n",
    "    tX = np.linalg.pinv(Left) @ Right\n",
    "    if verbose:\n",
    "        print(\"tX:\", tX)\n",
    "    X = np.zeros((4, 4))\n",
    "    X[:3, :3] = RotX\n",
    "    X[:3, 3] = tX\n",
    "    X[3, 3] = 1\n",
    "    return X\n",
    "\n",
    "\n",
    "X, A_set, B_set = RandAXXBGen(n=2, noisy=False)\n",
    "print(\"True RotX:\", X[:3, :3])\n",
    "print(\"True tX:\", X[:3, 3])\n",
    "X_pred = CalcAXXB(A_set[0], B_set[0], A_set[1], B_set[1], verbose=True)\n",
    "print(X_pred - X) # should be all zeros"
   ]
  },
  {
   "cell_type": "code",
   "execution_count": 42,
   "metadata": {
    "colab": {
     "base_uri": "https://localhost:8080/"
    },
    "id": "HNCpHtO_RHGU",
    "outputId": "b4f2afb6-1490-4d40-c57c-0cd479b2f012"
   },
   "outputs": [
    {
     "name": "stdout",
     "output_type": "stream",
     "text": [
      "True RotX: [[-0.88987968  0.25099431  0.38094095]\n",
      " [-0.24930705  0.43175128 -0.86685456]\n",
      " [-0.3820473  -0.86636753 -0.32163204]]\n",
      "True tX: [0.30055905 0.79560573 0.60009298]\n",
      "RotX: [[-0.87060887  0.34610231  0.34964753]\n",
      " [-0.27971605  0.23643076 -0.93051568]\n",
      " [-0.40472106 -0.90791722 -0.10902834]]\n",
      "tX: [0.31435148 0.81467859 0.54420694]\n",
      "[[ 0.01927082  0.095108   -0.03129342  0.01379243]\n",
      " [-0.030409   -0.19532052 -0.06366112  0.01907286]\n",
      " [-0.02267375 -0.0415497   0.2126037  -0.05588604]\n",
      " [ 0.          0.          0.          0.        ]]\n"
     ]
    }
   ],
   "source": [
    "def NormalizeR(R):\n",
    "    \"\"\"\n",
    "    Normalizes rotation matrix for noisy matrices which do not satisfy properties of SO(3)\n",
    "    *** Need to find a better way to normalize... Sometimes produces error as matrix logarithm gives complex numbers\n",
    "    \"\"\"\n",
    "    assert R.shape == (3, 3)\n",
    "    for i in range(3):\n",
    "        v = R[:, i]\n",
    "        norm = np.linalg.norm(v)\n",
    "        R[:, i] = v / norm\n",
    "    return R\n",
    "\n",
    "def LeastSquaresAXXB(A_set, B_set, verbose=False):\n",
    "    \"\"\"\n",
    "    Calculate least-squares solution for AX=XB with noise.\n",
    "    Frank C. Park and Bryan J. Martin, \"Robot Sensor Calibration: Solving AX=XB on the Euclidean Group\", IEEE 1994\n",
    "    * IV. A Least-Squares Solution\n",
    "    \"\"\"\n",
    "    assert len(A_set) == len(B_set)\n",
    "    n = len(A_set)\n",
    "    M = np.zeros((3, 3))\n",
    "    tA_set = []\n",
    "    tB_set = []\n",
    "    RotA_set = []\n",
    "    for i in range(n):\n",
    "        Ai = A_set[i]\n",
    "        Bi = B_set[i]\n",
    "        # Get rotation matrices and translation vectors\n",
    "        RotAi = NormalizeR(Ai[:3, :3])\n",
    "        RotBi = NormalizeR(Bi[:3, :3])\n",
    "        tAi = Ai[:3, 3]\n",
    "        tBi = Bi[:3, 3]\n",
    "        # Matrix Logarithm mapping\n",
    "        ai = np.take(logm(RotAi).reshape(-1), indices=[7, 2, 3])\n",
    "        bi = np.take(logm(RotBi).reshape(-1), indices=[7, 2, 3])\n",
    "        # Add onto matrix M\n",
    "        M += bi.reshape(3, 1) @ ai.reshape(1, 3)\n",
    "        # Append\n",
    "        tA_set.append(tAi)\n",
    "        tB_set.append(tBi)\n",
    "        RotA_set.append(RotAi)\n",
    "    # Solution on SO(3)\n",
    "    MTM = M.T @ M\n",
    "    w, v = np.linalg.eig(MTM)\n",
    "    w_ = np.power(w, -0.5)\n",
    "    Diag = np.diag(w_)\n",
    "    RotX = v @ Diag @ np.linalg.inv(v) @ M.T\n",
    "    RotX = NormalizeR(RotX)\n",
    "    if verbose:\n",
    "        print(\"RotX:\", RotX)\n",
    "    # Solution on SE(3)\n",
    "    C_set = []\n",
    "    d_set = []\n",
    "    for i in range(n):\n",
    "        Ci = np.eye(3) - RotA_set[i]\n",
    "        di = tA_set[i].reshape(3, 1) - RotX @ tB_set[i].reshape(3, 1)\n",
    "        C_set.append(Ci)\n",
    "        d_set.append(di)\n",
    "    C = np.concatenate(C_set, axis=0)\n",
    "    d = np.concatenate(d_set, axis=0)\n",
    "    tX = (np.linalg.pinv(C) @ d).reshape(-1)\n",
    "    if verbose:\n",
    "        print(\"tX:\", tX)\n",
    "    X = np.zeros((4, 4))\n",
    "    X[:3, :3] = RotX\n",
    "    X[:3, 3] = tX\n",
    "    X[3, 3] = 1\n",
    "    return X\n",
    "\n",
    "X, A_set, B_set = RandAXXBGen(n=10, noisy=True)\n",
    "print(\"True RotX:\", X[:3, :3])\n",
    "print(\"True tX:\", X[:3, 3])\n",
    "X_pred = LeastSquaresAXXB(A_set, B_set, verbose=True)\n",
    "print(X_pred - X) # goal: all zeros (***noisy)"
   ]
  }
 ],
 "metadata": {
  "colab": {
   "collapsed_sections": [],
   "name": "axxb.ipynb",
   "provenance": []
  },
  "kernelspec": {
   "display_name": "Python 3",
   "language": "python",
   "name": "python3"
  },
  "language_info": {
   "codemirror_mode": {
    "name": "ipython",
    "version": 3
   },
   "file_extension": ".py",
   "mimetype": "text/x-python",
   "name": "python",
   "nbconvert_exporter": "python",
   "pygments_lexer": "ipython3",
   "version": "3.6.3"
  }
 },
 "nbformat": 4,
 "nbformat_minor": 1
}
