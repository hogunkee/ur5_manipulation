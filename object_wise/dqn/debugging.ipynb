{
 "cells": [
  {
   "cell_type": "code",
   "execution_count": 17,
   "metadata": {},
   "outputs": [],
   "source": [
    "import numpy as np"
   ]
  },
  {
   "cell_type": "code",
   "execution_count": 23,
   "metadata": {},
   "outputs": [
    {
     "data": {
      "text/plain": [
       "tensor([[1., 0., 0., 0., 0., 0.],\n",
       "        [0., 1., 0., 0., 0., 0.],\n",
       "        [0., 0., 1., 0., 0., 0.],\n",
       "        [0., 0., 0., 0., 0., 0.],\n",
       "        [0., 0., 0., 0., 0., 0.],\n",
       "        [0., 0., 0., 0., 0., 0.]])"
      ]
     },
     "execution_count": 23,
     "metadata": {},
     "output_type": "execute_result"
    }
   ],
   "source": [
    "x = torch.zeros(6, 6)\n",
    "x[:3, :3] = torch.eye(3)\n",
    "x"
   ]
  },
  {
   "cell_type": "code",
   "execution_count": 26,
   "metadata": {},
   "outputs": [],
   "source": [
    "px, py = np.where(x==x.max())"
   ]
  },
  {
   "cell_type": "code",
   "execution_count": 27,
   "metadata": {},
   "outputs": [
    {
     "data": {
      "text/plain": [
       "array([0, 1, 2])"
      ]
     },
     "execution_count": 27,
     "metadata": {},
     "output_type": "execute_result"
    }
   ],
   "source": [
    "px"
   ]
  },
  {
   "cell_type": "code",
   "execution_count": 20,
   "metadata": {},
   "outputs": [
    {
     "data": {
      "text/plain": [
       "array([[1., 0., 0., 0., 0., 0.],\n",
       "       [0., 1., 0., 0., 0., 0.],\n",
       "       [0., 0., 1., 0., 0., 0.],\n",
       "       [0., 0., 0., 1., 0., 0.],\n",
       "       [0., 0., 0., 0., 1., 0.],\n",
       "       [0., 0., 0., 0., 0., 1.]])"
      ]
     },
     "execution_count": 20,
     "metadata": {},
     "output_type": "execute_result"
    }
   ],
   "source": [
    "np.eye(6)"
   ]
  },
  {
   "cell_type": "code",
   "execution_count": 18,
   "metadata": {},
   "outputs": [],
   "source": [
    "x = np.zeros([10, 1])"
   ]
  },
  {
   "cell_type": "code",
   "execution_count": 19,
   "metadata": {},
   "outputs": [
    {
     "data": {
      "text/plain": [
       "array([0.])"
      ]
     },
     "execution_count": 19,
     "metadata": {},
     "output_type": "execute_result"
    }
   ],
   "source": [
    "x[0]"
   ]
  },
  {
   "cell_type": "code",
   "execution_count": 1,
   "metadata": {},
   "outputs": [],
   "source": [
    "import torch"
   ]
  },
  {
   "cell_type": "code",
   "execution_count": 14,
   "metadata": {},
   "outputs": [],
   "source": [
    "adj = torch.rand([3, 6, 6])"
   ]
  },
  {
   "cell_type": "code",
   "execution_count": 15,
   "metadata": {},
   "outputs": [],
   "source": [
    "n = torch.tensor([0, 1, 2, 1, 2])"
   ]
  },
  {
   "cell_type": "code",
   "execution_count": 16,
   "metadata": {},
   "outputs": [
    {
     "data": {
      "text/plain": [
       "tensor([[[0.4837, 0.3565, 0.0156, 0.7746, 0.5161, 0.6821],\n",
       "         [0.3805, 0.3138, 0.5487, 0.5406, 0.0195, 0.6926],\n",
       "         [0.0343, 0.8129, 0.2193, 0.7352, 0.5347, 0.6568],\n",
       "         [0.8064, 0.7008, 0.8004, 0.2045, 0.7831, 0.8990],\n",
       "         [0.6032, 0.0905, 0.7128, 0.1098, 0.4989, 0.7644],\n",
       "         [0.5981, 0.2866, 0.6328, 0.8644, 0.3129, 0.4610]],\n",
       "\n",
       "        [[0.7125, 0.2713, 0.7206, 0.2238, 0.7239, 0.8111],\n",
       "         [0.7241, 0.2444, 0.6763, 0.6520, 0.6885, 0.2843],\n",
       "         [0.8325, 0.5157, 0.7919, 0.6453, 0.6794, 0.3440],\n",
       "         [0.6064, 0.2522, 0.6332, 0.3891, 0.6959, 0.9544],\n",
       "         [0.8017, 0.6308, 0.9765, 0.6074, 0.0486, 0.6188],\n",
       "         [0.4861, 0.7497, 0.9173, 0.8172, 0.5503, 0.9492]],\n",
       "\n",
       "        [[0.5536, 0.1836, 0.8902, 0.9216, 0.5379, 0.3801],\n",
       "         [0.0650, 0.0831, 0.8162, 0.6112, 0.8823, 0.8738],\n",
       "         [0.6763, 0.9252, 0.7871, 0.2791, 0.7544, 0.9244],\n",
       "         [0.4339, 0.1111, 0.8045, 0.5234, 0.4312, 0.0296],\n",
       "         [0.5612, 0.7743, 0.7200, 0.4374, 0.2666, 0.9211],\n",
       "         [0.8060, 0.8130, 0.0614, 0.5211, 0.6394, 0.4798]],\n",
       "\n",
       "        [[0.7125, 0.2713, 0.7206, 0.2238, 0.7239, 0.8111],\n",
       "         [0.7241, 0.2444, 0.6763, 0.6520, 0.6885, 0.2843],\n",
       "         [0.8325, 0.5157, 0.7919, 0.6453, 0.6794, 0.3440],\n",
       "         [0.6064, 0.2522, 0.6332, 0.3891, 0.6959, 0.9544],\n",
       "         [0.8017, 0.6308, 0.9765, 0.6074, 0.0486, 0.6188],\n",
       "         [0.4861, 0.7497, 0.9173, 0.8172, 0.5503, 0.9492]],\n",
       "\n",
       "        [[0.5536, 0.1836, 0.8902, 0.9216, 0.5379, 0.3801],\n",
       "         [0.0650, 0.0831, 0.8162, 0.6112, 0.8823, 0.8738],\n",
       "         [0.6763, 0.9252, 0.7871, 0.2791, 0.7544, 0.9244],\n",
       "         [0.4339, 0.1111, 0.8045, 0.5234, 0.4312, 0.0296],\n",
       "         [0.5612, 0.7743, 0.7200, 0.4374, 0.2666, 0.9211],\n",
       "         [0.8060, 0.8130, 0.0614, 0.5211, 0.6394, 0.4798]]])"
      ]
     },
     "execution_count": 16,
     "metadata": {},
     "output_type": "execute_result"
    }
   ],
   "source": [
    "adj[n]"
   ]
  },
  {
   "cell_type": "code",
   "execution_count": null,
   "metadata": {},
   "outputs": [],
   "source": [
    "torch.cat(adj)"
   ]
  },
  {
   "cell_type": "code",
   "execution_count": null,
   "metadata": {},
   "outputs": [],
   "source": []
  },
  {
   "cell_type": "code",
   "execution_count": null,
   "metadata": {},
   "outputs": [],
   "source": []
  },
  {
   "cell_type": "code",
   "execution_count": 1,
   "metadata": {},
   "outputs": [],
   "source": [
    "import sys\n",
    "sys.path.append('../../ur5_mujoco')"
   ]
  },
  {
   "cell_type": "code",
   "execution_count": 2,
   "metadata": {},
   "outputs": [],
   "source": [
    "from object_env import *"
   ]
  },
  {
   "cell_type": "code",
   "execution_count": 3,
   "metadata": {},
   "outputs": [
    {
     "name": "stdout",
     "output_type": "stream",
     "text": [
      "Creating window glfw\n"
     ]
    }
   ],
   "source": [
    "env = UR5Env(render=False, camera_height=480, camera_width=480, control_freq=5, data_format='NHWC', xml_ver=0)\n",
    "env = objectwise_env(env, num_blocks=3, mov_dist=0.08, detection=True)"
   ]
  },
  {
   "cell_type": "code",
   "execution_count": 4,
   "metadata": {},
   "outputs": [],
   "source": [
    "state = env.reset()"
   ]
  },
  {
   "cell_type": "code",
   "execution_count": 5,
   "metadata": {},
   "outputs": [
    {
     "data": {
      "text/plain": [
       "(480, 480, 3)"
      ]
     },
     "execution_count": 5,
     "metadata": {},
     "output_type": "execute_result"
    }
   ],
   "source": [
    "state[0].shape"
   ]
  },
  {
   "cell_type": "code",
   "execution_count": 6,
   "metadata": {},
   "outputs": [
    {
     "data": {
      "text/plain": [
       "(480, 480, 3)"
      ]
     },
     "execution_count": 6,
     "metadata": {},
     "output_type": "execute_result"
    }
   ],
   "source": [
    "state[1].shape"
   ]
  },
  {
   "cell_type": "code",
   "execution_count": null,
   "metadata": {},
   "outputs": [],
   "source": []
  },
  {
   "cell_type": "code",
   "execution_count": 7,
   "metadata": {},
   "outputs": [],
   "source": [
    "from sdf_module import *"
   ]
  },
  {
   "cell_type": "code",
   "execution_count": 8,
   "metadata": {},
   "outputs": [
    {
     "name": "stderr",
     "output_type": "stream",
     "text": [
      "/home/gun/Desktop/ur5_manipulation/object_wise/dqn/../../UnseenObjectClustering/fcn/config.py:439: YAMLLoadWarning: calling yaml.load() without Loader=... is deprecated, as the default Loader is unsafe. Please read https://msg.pyyaml.org/load for full details.\n",
      "  yaml_cfg = edict(yaml.load(f))\n"
     ]
    },
    {
     "name": "stdout",
     "output_type": "stream",
     "text": [
      "model keys\n",
      "=================================================\n",
      "conv1.weight\n",
      "bn1.weight\n",
      "bn1.bias\n",
      "bn1.running_mean\n",
      "bn1.running_var\n",
      "bn1.num_batches_tracked\n",
      "layer1.0.conv1.weight\n",
      "layer1.0.bn1.weight\n",
      "layer1.0.bn1.bias\n",
      "layer1.0.bn1.running_mean\n",
      "layer1.0.bn1.running_var\n",
      "layer1.0.bn1.num_batches_tracked\n",
      "layer1.0.conv2.weight\n",
      "layer1.0.bn2.weight\n",
      "layer1.0.bn2.bias\n",
      "layer1.0.bn2.running_mean\n",
      "layer1.0.bn2.running_var\n",
      "layer1.0.bn2.num_batches_tracked\n",
      "layer1.1.conv1.weight\n",
      "layer1.1.bn1.weight\n",
      "layer1.1.bn1.bias\n",
      "layer1.1.bn1.running_mean\n",
      "layer1.1.bn1.running_var\n",
      "layer1.1.bn1.num_batches_tracked\n",
      "layer1.1.conv2.weight\n",
      "layer1.1.bn2.weight\n",
      "layer1.1.bn2.bias\n",
      "layer1.1.bn2.running_mean\n",
      "layer1.1.bn2.running_var\n",
      "layer1.1.bn2.num_batches_tracked\n",
      "layer1.2.conv1.weight\n",
      "layer1.2.bn1.weight\n",
      "layer1.2.bn1.bias\n",
      "layer1.2.bn1.running_mean\n",
      "layer1.2.bn1.running_var\n",
      "layer1.2.bn1.num_batches_tracked\n",
      "layer1.2.conv2.weight\n",
      "layer1.2.bn2.weight\n",
      "layer1.2.bn2.bias\n",
      "layer1.2.bn2.running_mean\n",
      "layer1.2.bn2.running_var\n",
      "layer1.2.bn2.num_batches_tracked\n",
      "layer2.0.conv1.weight\n",
      "layer2.0.bn1.weight\n",
      "layer2.0.bn1.bias\n",
      "layer2.0.bn1.running_mean\n",
      "layer2.0.bn1.running_var\n",
      "layer2.0.bn1.num_batches_tracked\n",
      "layer2.0.conv2.weight\n",
      "layer2.0.bn2.weight\n",
      "layer2.0.bn2.bias\n",
      "layer2.0.bn2.running_mean\n",
      "layer2.0.bn2.running_var\n",
      "layer2.0.bn2.num_batches_tracked\n",
      "layer2.0.downsample.0.weight\n",
      "layer2.0.downsample.1.weight\n",
      "layer2.0.downsample.1.bias\n",
      "layer2.0.downsample.1.running_mean\n",
      "layer2.0.downsample.1.running_var\n",
      "layer2.0.downsample.1.num_batches_tracked\n",
      "layer2.1.conv1.weight\n",
      "layer2.1.bn1.weight\n",
      "layer2.1.bn1.bias\n",
      "layer2.1.bn1.running_mean\n",
      "layer2.1.bn1.running_var\n",
      "layer2.1.bn1.num_batches_tracked\n",
      "layer2.1.conv2.weight\n",
      "layer2.1.bn2.weight\n",
      "layer2.1.bn2.bias\n",
      "layer2.1.bn2.running_mean\n",
      "layer2.1.bn2.running_var\n",
      "layer2.1.bn2.num_batches_tracked\n",
      "layer2.2.conv1.weight\n",
      "layer2.2.bn1.weight\n",
      "layer2.2.bn1.bias\n",
      "layer2.2.bn1.running_mean\n",
      "layer2.2.bn1.running_var\n",
      "layer2.2.bn1.num_batches_tracked\n",
      "layer2.2.conv2.weight\n",
      "layer2.2.bn2.weight\n",
      "layer2.2.bn2.bias\n",
      "layer2.2.bn2.running_mean\n",
      "layer2.2.bn2.running_var\n",
      "layer2.2.bn2.num_batches_tracked\n",
      "layer2.3.conv1.weight\n",
      "layer2.3.bn1.weight\n",
      "layer2.3.bn1.bias\n",
      "layer2.3.bn1.running_mean\n",
      "layer2.3.bn1.running_var\n",
      "layer2.3.bn1.num_batches_tracked\n",
      "layer2.3.conv2.weight\n",
      "layer2.3.bn2.weight\n",
      "layer2.3.bn2.bias\n",
      "layer2.3.bn2.running_mean\n",
      "layer2.3.bn2.running_var\n",
      "layer2.3.bn2.num_batches_tracked\n",
      "layer3.0.conv1.weight\n",
      "layer3.0.bn1.weight\n",
      "layer3.0.bn1.bias\n",
      "layer3.0.bn1.running_mean\n",
      "layer3.0.bn1.running_var\n",
      "layer3.0.bn1.num_batches_tracked\n",
      "layer3.0.conv2.weight\n",
      "layer3.0.bn2.weight\n",
      "layer3.0.bn2.bias\n",
      "layer3.0.bn2.running_mean\n",
      "layer3.0.bn2.running_var\n",
      "layer3.0.bn2.num_batches_tracked\n",
      "layer3.0.downsample.0.weight\n",
      "layer3.0.downsample.1.weight\n",
      "layer3.0.downsample.1.bias\n",
      "layer3.0.downsample.1.running_mean\n",
      "layer3.0.downsample.1.running_var\n",
      "layer3.0.downsample.1.num_batches_tracked\n",
      "layer3.1.conv1.weight\n",
      "layer3.1.bn1.weight\n",
      "layer3.1.bn1.bias\n",
      "layer3.1.bn1.running_mean\n",
      "layer3.1.bn1.running_var\n",
      "layer3.1.bn1.num_batches_tracked\n",
      "layer3.1.conv2.weight\n",
      "layer3.1.bn2.weight\n",
      "layer3.1.bn2.bias\n",
      "layer3.1.bn2.running_mean\n",
      "layer3.1.bn2.running_var\n",
      "layer3.1.bn2.num_batches_tracked\n",
      "layer3.2.conv1.weight\n",
      "layer3.2.bn1.weight\n",
      "layer3.2.bn1.bias\n",
      "layer3.2.bn1.running_mean\n",
      "layer3.2.bn1.running_var\n",
      "layer3.2.bn1.num_batches_tracked\n",
      "layer3.2.conv2.weight\n",
      "layer3.2.bn2.weight\n",
      "layer3.2.bn2.bias\n",
      "layer3.2.bn2.running_mean\n",
      "layer3.2.bn2.running_var\n",
      "layer3.2.bn2.num_batches_tracked\n",
      "layer3.3.conv1.weight\n",
      "layer3.3.bn1.weight\n",
      "layer3.3.bn1.bias\n",
      "layer3.3.bn1.running_mean\n",
      "layer3.3.bn1.running_var\n",
      "layer3.3.bn1.num_batches_tracked\n",
      "layer3.3.conv2.weight\n",
      "layer3.3.bn2.weight\n",
      "layer3.3.bn2.bias\n",
      "layer3.3.bn2.running_mean\n",
      "layer3.3.bn2.running_var\n",
      "layer3.3.bn2.num_batches_tracked\n",
      "layer3.4.conv1.weight\n",
      "layer3.4.bn1.weight\n",
      "layer3.4.bn1.bias\n",
      "layer3.4.bn1.running_mean\n",
      "layer3.4.bn1.running_var\n",
      "layer3.4.bn1.num_batches_tracked\n",
      "layer3.4.conv2.weight\n",
      "layer3.4.bn2.weight\n",
      "layer3.4.bn2.bias\n",
      "layer3.4.bn2.running_mean\n",
      "layer3.4.bn2.running_var\n",
      "layer3.4.bn2.num_batches_tracked\n",
      "layer3.5.conv1.weight\n",
      "layer3.5.bn1.weight\n",
      "layer3.5.bn1.bias\n",
      "layer3.5.bn1.running_mean\n",
      "layer3.5.bn1.running_var\n",
      "layer3.5.bn1.num_batches_tracked\n",
      "layer3.5.conv2.weight\n",
      "layer3.5.bn2.weight\n",
      "layer3.5.bn2.bias\n",
      "layer3.5.bn2.running_mean\n",
      "layer3.5.bn2.running_var\n",
      "layer3.5.bn2.num_batches_tracked\n",
      "layer4.0.conv1.weight\n",
      "layer4.0.bn1.weight\n",
      "layer4.0.bn1.bias\n",
      "layer4.0.bn1.running_mean\n",
      "layer4.0.bn1.running_var\n",
      "layer4.0.bn1.num_batches_tracked\n",
      "layer4.0.conv2.weight\n",
      "layer4.0.bn2.weight\n",
      "layer4.0.bn2.bias\n",
      "layer4.0.bn2.running_mean\n",
      "layer4.0.bn2.running_var\n",
      "layer4.0.bn2.num_batches_tracked\n",
      "layer4.0.downsample.0.weight\n",
      "layer4.0.downsample.1.weight\n",
      "layer4.0.downsample.1.bias\n",
      "layer4.0.downsample.1.running_mean\n",
      "layer4.0.downsample.1.running_var\n",
      "layer4.0.downsample.1.num_batches_tracked\n",
      "layer4.1.conv1.weight\n",
      "layer4.1.bn1.weight\n",
      "layer4.1.bn1.bias\n",
      "layer4.1.bn1.running_mean\n",
      "layer4.1.bn1.running_var\n",
      "layer4.1.bn1.num_batches_tracked\n",
      "layer4.1.conv2.weight\n",
      "layer4.1.bn2.weight\n",
      "layer4.1.bn2.bias\n",
      "layer4.1.bn2.running_mean\n",
      "layer4.1.bn2.running_var\n",
      "layer4.1.bn2.num_batches_tracked\n",
      "layer4.2.conv1.weight\n",
      "layer4.2.bn1.weight\n",
      "layer4.2.bn1.bias\n",
      "layer4.2.bn1.running_mean\n",
      "layer4.2.bn1.running_var\n",
      "layer4.2.bn1.num_batches_tracked\n",
      "layer4.2.conv2.weight\n",
      "layer4.2.bn2.weight\n",
      "layer4.2.bn2.bias\n",
      "layer4.2.bn2.running_mean\n",
      "layer4.2.bn2.running_var\n",
      "layer4.2.bn2.num_batches_tracked\n",
      "fc.weight\n",
      "fc.bias\n",
      "=================================================\n",
      "data keys\n",
      "=================================================\n",
      "conv1.weight\n",
      "bn1.running_mean\n",
      "bn1.running_var\n",
      "bn1.weight\n",
      "bn1.bias\n",
      "layer1.0.conv1.weight\n",
      "layer1.0.bn1.running_mean\n",
      "layer1.0.bn1.running_var\n",
      "layer1.0.bn1.weight\n",
      "layer1.0.bn1.bias\n",
      "layer1.0.conv2.weight\n",
      "layer1.0.bn2.running_mean\n",
      "layer1.0.bn2.running_var\n",
      "layer1.0.bn2.weight\n",
      "layer1.0.bn2.bias\n",
      "layer1.1.conv1.weight\n",
      "layer1.1.bn1.running_mean\n",
      "layer1.1.bn1.running_var\n",
      "layer1.1.bn1.weight\n",
      "layer1.1.bn1.bias\n",
      "layer1.1.conv2.weight\n",
      "layer1.1.bn2.running_mean\n",
      "layer1.1.bn2.running_var\n",
      "layer1.1.bn2.weight\n",
      "layer1.1.bn2.bias\n",
      "layer1.2.conv1.weight\n",
      "layer1.2.bn1.running_mean\n",
      "layer1.2.bn1.running_var\n",
      "layer1.2.bn1.weight\n",
      "layer1.2.bn1.bias\n",
      "layer1.2.conv2.weight\n",
      "layer1.2.bn2.running_mean\n",
      "layer1.2.bn2.running_var\n",
      "layer1.2.bn2.weight\n",
      "layer1.2.bn2.bias\n",
      "layer2.0.conv1.weight\n",
      "layer2.0.bn1.running_mean\n",
      "layer2.0.bn1.running_var\n",
      "layer2.0.bn1.weight\n",
      "layer2.0.bn1.bias\n",
      "layer2.0.conv2.weight\n",
      "layer2.0.bn2.running_mean\n",
      "layer2.0.bn2.running_var\n",
      "layer2.0.bn2.weight\n",
      "layer2.0.bn2.bias\n",
      "layer2.0.downsample.0.weight\n",
      "layer2.0.downsample.1.running_mean\n",
      "layer2.0.downsample.1.running_var\n",
      "layer2.0.downsample.1.weight\n",
      "layer2.0.downsample.1.bias\n",
      "layer2.1.conv1.weight\n",
      "layer2.1.bn1.running_mean\n",
      "layer2.1.bn1.running_var\n",
      "layer2.1.bn1.weight\n",
      "layer2.1.bn1.bias\n",
      "layer2.1.conv2.weight\n",
      "layer2.1.bn2.running_mean\n",
      "layer2.1.bn2.running_var\n",
      "layer2.1.bn2.weight\n",
      "layer2.1.bn2.bias\n",
      "layer2.2.conv1.weight\n",
      "layer2.2.bn1.running_mean\n",
      "layer2.2.bn1.running_var\n",
      "layer2.2.bn1.weight\n",
      "layer2.2.bn1.bias\n",
      "layer2.2.conv2.weight\n",
      "layer2.2.bn2.running_mean\n",
      "layer2.2.bn2.running_var\n",
      "layer2.2.bn2.weight\n",
      "layer2.2.bn2.bias\n",
      "layer2.3.conv1.weight\n",
      "layer2.3.bn1.running_mean\n",
      "layer2.3.bn1.running_var\n",
      "layer2.3.bn1.weight\n",
      "layer2.3.bn1.bias\n",
      "layer2.3.conv2.weight\n",
      "layer2.3.bn2.running_mean\n",
      "layer2.3.bn2.running_var\n",
      "layer2.3.bn2.weight\n",
      "layer2.3.bn2.bias\n",
      "layer3.0.conv1.weight\n",
      "layer3.0.bn1.running_mean\n",
      "layer3.0.bn1.running_var\n",
      "layer3.0.bn1.weight\n",
      "layer3.0.bn1.bias\n",
      "layer3.0.conv2.weight\n",
      "layer3.0.bn2.running_mean\n",
      "layer3.0.bn2.running_var\n",
      "layer3.0.bn2.weight\n",
      "layer3.0.bn2.bias\n",
      "layer3.0.downsample.0.weight\n",
      "layer3.0.downsample.1.running_mean\n",
      "layer3.0.downsample.1.running_var\n",
      "layer3.0.downsample.1.weight\n",
      "layer3.0.downsample.1.bias\n",
      "layer3.1.conv1.weight\n",
      "layer3.1.bn1.running_mean\n",
      "layer3.1.bn1.running_var\n",
      "layer3.1.bn1.weight\n",
      "layer3.1.bn1.bias\n",
      "layer3.1.conv2.weight\n",
      "layer3.1.bn2.running_mean\n",
      "layer3.1.bn2.running_var\n",
      "layer3.1.bn2.weight\n",
      "layer3.1.bn2.bias\n",
      "layer3.2.conv1.weight\n",
      "layer3.2.bn1.running_mean\n",
      "layer3.2.bn1.running_var\n",
      "layer3.2.bn1.weight\n",
      "layer3.2.bn1.bias\n",
      "layer3.2.conv2.weight\n",
      "layer3.2.bn2.running_mean\n",
      "layer3.2.bn2.running_var\n",
      "layer3.2.bn2.weight\n",
      "layer3.2.bn2.bias\n",
      "layer3.3.conv1.weight\n",
      "layer3.3.bn1.running_mean\n",
      "layer3.3.bn1.running_var\n",
      "layer3.3.bn1.weight\n",
      "layer3.3.bn1.bias\n",
      "layer3.3.conv2.weight\n",
      "layer3.3.bn2.running_mean\n",
      "layer3.3.bn2.running_var\n",
      "layer3.3.bn2.weight\n",
      "layer3.3.bn2.bias\n",
      "layer3.4.conv1.weight\n",
      "layer3.4.bn1.running_mean\n",
      "layer3.4.bn1.running_var\n",
      "layer3.4.bn1.weight\n",
      "layer3.4.bn1.bias\n",
      "layer3.4.conv2.weight\n",
      "layer3.4.bn2.running_mean\n",
      "layer3.4.bn2.running_var\n",
      "layer3.4.bn2.weight\n",
      "layer3.4.bn2.bias\n",
      "layer3.5.conv1.weight\n",
      "layer3.5.bn1.running_mean\n",
      "layer3.5.bn1.running_var\n",
      "layer3.5.bn1.weight\n",
      "layer3.5.bn1.bias\n",
      "layer3.5.conv2.weight\n",
      "layer3.5.bn2.running_mean\n",
      "layer3.5.bn2.running_var\n",
      "layer3.5.bn2.weight\n",
      "layer3.5.bn2.bias\n",
      "layer4.0.conv1.weight\n",
      "layer4.0.bn1.running_mean\n",
      "layer4.0.bn1.running_var\n",
      "layer4.0.bn1.weight\n",
      "layer4.0.bn1.bias\n",
      "layer4.0.conv2.weight\n",
      "layer4.0.bn2.running_mean\n",
      "layer4.0.bn2.running_var\n",
      "layer4.0.bn2.weight\n",
      "layer4.0.bn2.bias\n",
      "layer4.0.downsample.0.weight\n",
      "layer4.0.downsample.1.running_mean\n",
      "layer4.0.downsample.1.running_var\n",
      "layer4.0.downsample.1.weight\n",
      "layer4.0.downsample.1.bias\n",
      "layer4.1.conv1.weight\n",
      "layer4.1.bn1.running_mean\n",
      "layer4.1.bn1.running_var\n",
      "layer4.1.bn1.weight\n",
      "layer4.1.bn1.bias\n",
      "layer4.1.conv2.weight\n",
      "layer4.1.bn2.running_mean\n",
      "layer4.1.bn2.running_var\n",
      "layer4.1.bn2.weight\n",
      "layer4.1.bn2.bias\n",
      "layer4.2.conv1.weight\n",
      "layer4.2.bn1.running_mean\n",
      "layer4.2.bn1.running_var\n",
      "layer4.2.bn1.weight\n",
      "layer4.2.bn1.bias\n",
      "layer4.2.conv2.weight\n",
      "layer4.2.bn2.running_mean\n",
      "layer4.2.bn2.running_var\n",
      "layer4.2.bn2.weight\n",
      "layer4.2.bn2.bias\n",
      "fc.weight\n",
      "fc.bias\n",
      "=================================================\n",
      "load the following keys from the pretrained model\n",
      "=================================================\n",
      "conv1.weight\n",
      "bn1.running_mean\n",
      "bn1.running_var\n",
      "bn1.weight\n",
      "bn1.bias\n",
      "layer1.0.conv1.weight\n",
      "layer1.0.bn1.running_mean\n",
      "layer1.0.bn1.running_var\n",
      "layer1.0.bn1.weight\n",
      "layer1.0.bn1.bias\n",
      "layer1.0.conv2.weight\n",
      "layer1.0.bn2.running_mean\n",
      "layer1.0.bn2.running_var\n",
      "layer1.0.bn2.weight\n",
      "layer1.0.bn2.bias\n",
      "layer1.1.conv1.weight\n",
      "layer1.1.bn1.running_mean\n",
      "layer1.1.bn1.running_var\n",
      "layer1.1.bn1.weight\n",
      "layer1.1.bn1.bias\n",
      "layer1.1.conv2.weight\n",
      "layer1.1.bn2.running_mean\n",
      "layer1.1.bn2.running_var\n",
      "layer1.1.bn2.weight\n",
      "layer1.1.bn2.bias\n",
      "layer1.2.conv1.weight\n",
      "layer1.2.bn1.running_mean\n",
      "layer1.2.bn1.running_var\n",
      "layer1.2.bn1.weight\n",
      "layer1.2.bn1.bias\n",
      "layer1.2.conv2.weight\n",
      "layer1.2.bn2.running_mean\n",
      "layer1.2.bn2.running_var\n",
      "layer1.2.bn2.weight\n",
      "layer1.2.bn2.bias\n",
      "layer2.0.conv1.weight\n",
      "layer2.0.bn1.running_mean\n",
      "layer2.0.bn1.running_var\n",
      "layer2.0.bn1.weight\n",
      "layer2.0.bn1.bias\n",
      "layer2.0.conv2.weight\n",
      "layer2.0.bn2.running_mean\n",
      "layer2.0.bn2.running_var\n",
      "layer2.0.bn2.weight\n",
      "layer2.0.bn2.bias\n",
      "layer2.0.downsample.0.weight\n",
      "layer2.0.downsample.1.running_mean\n",
      "layer2.0.downsample.1.running_var\n",
      "layer2.0.downsample.1.weight\n",
      "layer2.0.downsample.1.bias\n",
      "layer2.1.conv1.weight\n",
      "layer2.1.bn1.running_mean\n",
      "layer2.1.bn1.running_var\n",
      "layer2.1.bn1.weight\n",
      "layer2.1.bn1.bias\n",
      "layer2.1.conv2.weight\n",
      "layer2.1.bn2.running_mean\n",
      "layer2.1.bn2.running_var\n",
      "layer2.1.bn2.weight\n",
      "layer2.1.bn2.bias\n",
      "layer2.2.conv1.weight\n",
      "layer2.2.bn1.running_mean\n",
      "layer2.2.bn1.running_var\n",
      "layer2.2.bn1.weight\n",
      "layer2.2.bn1.bias\n",
      "layer2.2.conv2.weight\n",
      "layer2.2.bn2.running_mean\n",
      "layer2.2.bn2.running_var\n",
      "layer2.2.bn2.weight\n",
      "layer2.2.bn2.bias\n",
      "layer2.3.conv1.weight\n",
      "layer2.3.bn1.running_mean\n",
      "layer2.3.bn1.running_var\n",
      "layer2.3.bn1.weight\n",
      "layer2.3.bn1.bias\n",
      "layer2.3.conv2.weight\n",
      "layer2.3.bn2.running_mean\n",
      "layer2.3.bn2.running_var\n",
      "layer2.3.bn2.weight\n",
      "layer2.3.bn2.bias\n",
      "layer3.0.conv1.weight\n",
      "layer3.0.bn1.running_mean\n",
      "layer3.0.bn1.running_var\n",
      "layer3.0.bn1.weight\n",
      "layer3.0.bn1.bias\n",
      "layer3.0.conv2.weight\n",
      "layer3.0.bn2.running_mean\n",
      "layer3.0.bn2.running_var\n",
      "layer3.0.bn2.weight\n",
      "layer3.0.bn2.bias\n",
      "layer3.0.downsample.0.weight\n",
      "layer3.0.downsample.1.running_mean\n",
      "layer3.0.downsample.1.running_var\n",
      "layer3.0.downsample.1.weight\n",
      "layer3.0.downsample.1.bias\n",
      "layer3.1.conv1.weight\n",
      "layer3.1.bn1.running_mean\n",
      "layer3.1.bn1.running_var\n",
      "layer3.1.bn1.weight\n",
      "layer3.1.bn1.bias\n",
      "layer3.1.conv2.weight\n",
      "layer3.1.bn2.running_mean\n",
      "layer3.1.bn2.running_var\n",
      "layer3.1.bn2.weight\n",
      "layer3.1.bn2.bias\n",
      "layer3.2.conv1.weight\n",
      "layer3.2.bn1.running_mean\n",
      "layer3.2.bn1.running_var\n",
      "layer3.2.bn1.weight\n",
      "layer3.2.bn1.bias\n",
      "layer3.2.conv2.weight\n",
      "layer3.2.bn2.running_mean\n",
      "layer3.2.bn2.running_var\n",
      "layer3.2.bn2.weight\n",
      "layer3.2.bn2.bias\n",
      "layer3.3.conv1.weight\n",
      "layer3.3.bn1.running_mean\n",
      "layer3.3.bn1.running_var\n",
      "layer3.3.bn1.weight\n",
      "layer3.3.bn1.bias\n",
      "layer3.3.conv2.weight\n",
      "layer3.3.bn2.running_mean\n",
      "layer3.3.bn2.running_var\n",
      "layer3.3.bn2.weight\n",
      "layer3.3.bn2.bias\n",
      "layer3.4.conv1.weight\n",
      "layer3.4.bn1.running_mean\n",
      "layer3.4.bn1.running_var\n",
      "layer3.4.bn1.weight\n",
      "layer3.4.bn1.bias\n",
      "layer3.4.conv2.weight\n",
      "layer3.4.bn2.running_mean\n",
      "layer3.4.bn2.running_var\n",
      "layer3.4.bn2.weight\n",
      "layer3.4.bn2.bias\n",
      "layer3.5.conv1.weight\n",
      "layer3.5.bn1.running_mean\n",
      "layer3.5.bn1.running_var\n",
      "layer3.5.bn1.weight\n",
      "layer3.5.bn1.bias\n",
      "layer3.5.conv2.weight\n",
      "layer3.5.bn2.running_mean\n",
      "layer3.5.bn2.running_var\n",
      "layer3.5.bn2.weight\n",
      "layer3.5.bn2.bias\n",
      "layer4.0.conv1.weight\n",
      "layer4.0.bn1.running_mean\n",
      "layer4.0.bn1.running_var\n",
      "layer4.0.bn1.weight\n",
      "layer4.0.bn1.bias\n",
      "layer4.0.conv2.weight\n",
      "layer4.0.bn2.running_mean\n",
      "layer4.0.bn2.running_var\n",
      "layer4.0.bn2.weight\n",
      "layer4.0.bn2.bias\n",
      "layer4.0.downsample.0.weight\n",
      "layer4.0.downsample.1.running_mean\n",
      "layer4.0.downsample.1.running_var\n",
      "layer4.0.downsample.1.weight\n",
      "layer4.0.downsample.1.bias\n",
      "layer4.1.conv1.weight\n",
      "layer4.1.bn1.running_mean\n",
      "layer4.1.bn1.running_var\n",
      "layer4.1.bn1.weight\n",
      "layer4.1.bn1.bias\n",
      "layer4.1.conv2.weight\n",
      "layer4.1.bn2.running_mean\n",
      "layer4.1.bn2.running_var\n",
      "layer4.1.bn2.weight\n",
      "layer4.1.bn2.bias\n",
      "layer4.2.conv1.weight\n",
      "layer4.2.bn1.running_mean\n",
      "layer4.2.bn1.running_var\n",
      "layer4.2.bn1.weight\n",
      "layer4.2.bn1.bias\n",
      "layer4.2.conv2.weight\n",
      "layer4.2.bn2.running_mean\n",
      "layer4.2.bn2.running_var\n",
      "layer4.2.bn2.weight\n",
      "layer4.2.bn2.bias\n",
      "fc.weight\n",
      "fc.bias\n",
      "=================================================\n",
      "model keys\n",
      "=================================================\n",
      "fcn.resnet34_8s.conv1.weight\n",
      "fcn.resnet34_8s.bn1.weight\n",
      "fcn.resnet34_8s.bn1.bias\n",
      "fcn.resnet34_8s.bn1.running_mean\n",
      "fcn.resnet34_8s.bn1.running_var\n",
      "fcn.resnet34_8s.bn1.num_batches_tracked\n",
      "fcn.resnet34_8s.layer1.0.conv1.weight\n",
      "fcn.resnet34_8s.layer1.0.bn1.weight\n",
      "fcn.resnet34_8s.layer1.0.bn1.bias\n",
      "fcn.resnet34_8s.layer1.0.bn1.running_mean\n",
      "fcn.resnet34_8s.layer1.0.bn1.running_var\n",
      "fcn.resnet34_8s.layer1.0.bn1.num_batches_tracked\n",
      "fcn.resnet34_8s.layer1.0.conv2.weight\n",
      "fcn.resnet34_8s.layer1.0.bn2.weight\n",
      "fcn.resnet34_8s.layer1.0.bn2.bias\n",
      "fcn.resnet34_8s.layer1.0.bn2.running_mean\n",
      "fcn.resnet34_8s.layer1.0.bn2.running_var\n",
      "fcn.resnet34_8s.layer1.0.bn2.num_batches_tracked\n",
      "fcn.resnet34_8s.layer1.1.conv1.weight\n",
      "fcn.resnet34_8s.layer1.1.bn1.weight\n",
      "fcn.resnet34_8s.layer1.1.bn1.bias\n",
      "fcn.resnet34_8s.layer1.1.bn1.running_mean\n",
      "fcn.resnet34_8s.layer1.1.bn1.running_var\n",
      "fcn.resnet34_8s.layer1.1.bn1.num_batches_tracked\n",
      "fcn.resnet34_8s.layer1.1.conv2.weight\n",
      "fcn.resnet34_8s.layer1.1.bn2.weight\n",
      "fcn.resnet34_8s.layer1.1.bn2.bias\n",
      "fcn.resnet34_8s.layer1.1.bn2.running_mean\n",
      "fcn.resnet34_8s.layer1.1.bn2.running_var\n",
      "fcn.resnet34_8s.layer1.1.bn2.num_batches_tracked\n",
      "fcn.resnet34_8s.layer1.2.conv1.weight\n",
      "fcn.resnet34_8s.layer1.2.bn1.weight\n",
      "fcn.resnet34_8s.layer1.2.bn1.bias\n",
      "fcn.resnet34_8s.layer1.2.bn1.running_mean\n",
      "fcn.resnet34_8s.layer1.2.bn1.running_var\n",
      "fcn.resnet34_8s.layer1.2.bn1.num_batches_tracked\n",
      "fcn.resnet34_8s.layer1.2.conv2.weight\n",
      "fcn.resnet34_8s.layer1.2.bn2.weight\n",
      "fcn.resnet34_8s.layer1.2.bn2.bias\n",
      "fcn.resnet34_8s.layer1.2.bn2.running_mean\n",
      "fcn.resnet34_8s.layer1.2.bn2.running_var\n",
      "fcn.resnet34_8s.layer1.2.bn2.num_batches_tracked\n",
      "fcn.resnet34_8s.layer2.0.conv1.weight\n",
      "fcn.resnet34_8s.layer2.0.bn1.weight\n",
      "fcn.resnet34_8s.layer2.0.bn1.bias\n",
      "fcn.resnet34_8s.layer2.0.bn1.running_mean\n",
      "fcn.resnet34_8s.layer2.0.bn1.running_var\n",
      "fcn.resnet34_8s.layer2.0.bn1.num_batches_tracked\n",
      "fcn.resnet34_8s.layer2.0.conv2.weight\n",
      "fcn.resnet34_8s.layer2.0.bn2.weight\n",
      "fcn.resnet34_8s.layer2.0.bn2.bias\n",
      "fcn.resnet34_8s.layer2.0.bn2.running_mean\n",
      "fcn.resnet34_8s.layer2.0.bn2.running_var\n",
      "fcn.resnet34_8s.layer2.0.bn2.num_batches_tracked\n",
      "fcn.resnet34_8s.layer2.0.downsample.0.weight\n",
      "fcn.resnet34_8s.layer2.0.downsample.1.weight\n",
      "fcn.resnet34_8s.layer2.0.downsample.1.bias\n",
      "fcn.resnet34_8s.layer2.0.downsample.1.running_mean\n",
      "fcn.resnet34_8s.layer2.0.downsample.1.running_var\n",
      "fcn.resnet34_8s.layer2.0.downsample.1.num_batches_tracked\n",
      "fcn.resnet34_8s.layer2.1.conv1.weight\n",
      "fcn.resnet34_8s.layer2.1.bn1.weight\n",
      "fcn.resnet34_8s.layer2.1.bn1.bias\n",
      "fcn.resnet34_8s.layer2.1.bn1.running_mean\n",
      "fcn.resnet34_8s.layer2.1.bn1.running_var\n",
      "fcn.resnet34_8s.layer2.1.bn1.num_batches_tracked\n",
      "fcn.resnet34_8s.layer2.1.conv2.weight\n",
      "fcn.resnet34_8s.layer2.1.bn2.weight\n",
      "fcn.resnet34_8s.layer2.1.bn2.bias\n",
      "fcn.resnet34_8s.layer2.1.bn2.running_mean\n",
      "fcn.resnet34_8s.layer2.1.bn2.running_var\n",
      "fcn.resnet34_8s.layer2.1.bn2.num_batches_tracked\n",
      "fcn.resnet34_8s.layer2.2.conv1.weight\n",
      "fcn.resnet34_8s.layer2.2.bn1.weight\n",
      "fcn.resnet34_8s.layer2.2.bn1.bias\n",
      "fcn.resnet34_8s.layer2.2.bn1.running_mean\n",
      "fcn.resnet34_8s.layer2.2.bn1.running_var\n",
      "fcn.resnet34_8s.layer2.2.bn1.num_batches_tracked\n",
      "fcn.resnet34_8s.layer2.2.conv2.weight\n",
      "fcn.resnet34_8s.layer2.2.bn2.weight\n",
      "fcn.resnet34_8s.layer2.2.bn2.bias\n",
      "fcn.resnet34_8s.layer2.2.bn2.running_mean\n",
      "fcn.resnet34_8s.layer2.2.bn2.running_var\n",
      "fcn.resnet34_8s.layer2.2.bn2.num_batches_tracked\n",
      "fcn.resnet34_8s.layer2.3.conv1.weight\n",
      "fcn.resnet34_8s.layer2.3.bn1.weight\n",
      "fcn.resnet34_8s.layer2.3.bn1.bias\n",
      "fcn.resnet34_8s.layer2.3.bn1.running_mean\n",
      "fcn.resnet34_8s.layer2.3.bn1.running_var\n",
      "fcn.resnet34_8s.layer2.3.bn1.num_batches_tracked\n",
      "fcn.resnet34_8s.layer2.3.conv2.weight\n",
      "fcn.resnet34_8s.layer2.3.bn2.weight\n",
      "fcn.resnet34_8s.layer2.3.bn2.bias\n",
      "fcn.resnet34_8s.layer2.3.bn2.running_mean\n",
      "fcn.resnet34_8s.layer2.3.bn2.running_var\n",
      "fcn.resnet34_8s.layer2.3.bn2.num_batches_tracked\n",
      "fcn.resnet34_8s.layer3.0.conv1.weight\n",
      "fcn.resnet34_8s.layer3.0.bn1.weight\n",
      "fcn.resnet34_8s.layer3.0.bn1.bias\n",
      "fcn.resnet34_8s.layer3.0.bn1.running_mean\n",
      "fcn.resnet34_8s.layer3.0.bn1.running_var\n",
      "fcn.resnet34_8s.layer3.0.bn1.num_batches_tracked\n",
      "fcn.resnet34_8s.layer3.0.conv2.weight\n",
      "fcn.resnet34_8s.layer3.0.bn2.weight\n",
      "fcn.resnet34_8s.layer3.0.bn2.bias\n",
      "fcn.resnet34_8s.layer3.0.bn2.running_mean\n",
      "fcn.resnet34_8s.layer3.0.bn2.running_var\n",
      "fcn.resnet34_8s.layer3.0.bn2.num_batches_tracked\n",
      "fcn.resnet34_8s.layer3.0.downsample.0.weight\n",
      "fcn.resnet34_8s.layer3.0.downsample.1.weight\n",
      "fcn.resnet34_8s.layer3.0.downsample.1.bias\n",
      "fcn.resnet34_8s.layer3.0.downsample.1.running_mean\n",
      "fcn.resnet34_8s.layer3.0.downsample.1.running_var\n",
      "fcn.resnet34_8s.layer3.0.downsample.1.num_batches_tracked\n",
      "fcn.resnet34_8s.layer3.1.conv1.weight\n",
      "fcn.resnet34_8s.layer3.1.bn1.weight\n",
      "fcn.resnet34_8s.layer3.1.bn1.bias\n",
      "fcn.resnet34_8s.layer3.1.bn1.running_mean\n",
      "fcn.resnet34_8s.layer3.1.bn1.running_var\n",
      "fcn.resnet34_8s.layer3.1.bn1.num_batches_tracked\n",
      "fcn.resnet34_8s.layer3.1.conv2.weight\n",
      "fcn.resnet34_8s.layer3.1.bn2.weight\n",
      "fcn.resnet34_8s.layer3.1.bn2.bias\n",
      "fcn.resnet34_8s.layer3.1.bn2.running_mean\n",
      "fcn.resnet34_8s.layer3.1.bn2.running_var\n",
      "fcn.resnet34_8s.layer3.1.bn2.num_batches_tracked\n",
      "fcn.resnet34_8s.layer3.2.conv1.weight\n",
      "fcn.resnet34_8s.layer3.2.bn1.weight\n",
      "fcn.resnet34_8s.layer3.2.bn1.bias\n",
      "fcn.resnet34_8s.layer3.2.bn1.running_mean\n",
      "fcn.resnet34_8s.layer3.2.bn1.running_var\n",
      "fcn.resnet34_8s.layer3.2.bn1.num_batches_tracked\n",
      "fcn.resnet34_8s.layer3.2.conv2.weight\n",
      "fcn.resnet34_8s.layer3.2.bn2.weight\n",
      "fcn.resnet34_8s.layer3.2.bn2.bias\n",
      "fcn.resnet34_8s.layer3.2.bn2.running_mean\n",
      "fcn.resnet34_8s.layer3.2.bn2.running_var\n",
      "fcn.resnet34_8s.layer3.2.bn2.num_batches_tracked\n",
      "fcn.resnet34_8s.layer3.3.conv1.weight\n",
      "fcn.resnet34_8s.layer3.3.bn1.weight\n",
      "fcn.resnet34_8s.layer3.3.bn1.bias\n",
      "fcn.resnet34_8s.layer3.3.bn1.running_mean\n",
      "fcn.resnet34_8s.layer3.3.bn1.running_var\n",
      "fcn.resnet34_8s.layer3.3.bn1.num_batches_tracked\n",
      "fcn.resnet34_8s.layer3.3.conv2.weight\n",
      "fcn.resnet34_8s.layer3.3.bn2.weight\n",
      "fcn.resnet34_8s.layer3.3.bn2.bias\n",
      "fcn.resnet34_8s.layer3.3.bn2.running_mean\n",
      "fcn.resnet34_8s.layer3.3.bn2.running_var\n",
      "fcn.resnet34_8s.layer3.3.bn2.num_batches_tracked\n",
      "fcn.resnet34_8s.layer3.4.conv1.weight\n",
      "fcn.resnet34_8s.layer3.4.bn1.weight\n",
      "fcn.resnet34_8s.layer3.4.bn1.bias\n",
      "fcn.resnet34_8s.layer3.4.bn1.running_mean\n",
      "fcn.resnet34_8s.layer3.4.bn1.running_var\n",
      "fcn.resnet34_8s.layer3.4.bn1.num_batches_tracked\n",
      "fcn.resnet34_8s.layer3.4.conv2.weight\n",
      "fcn.resnet34_8s.layer3.4.bn2.weight\n",
      "fcn.resnet34_8s.layer3.4.bn2.bias\n",
      "fcn.resnet34_8s.layer3.4.bn2.running_mean\n",
      "fcn.resnet34_8s.layer3.4.bn2.running_var\n",
      "fcn.resnet34_8s.layer3.4.bn2.num_batches_tracked\n",
      "fcn.resnet34_8s.layer3.5.conv1.weight\n",
      "fcn.resnet34_8s.layer3.5.bn1.weight\n",
      "fcn.resnet34_8s.layer3.5.bn1.bias\n",
      "fcn.resnet34_8s.layer3.5.bn1.running_mean\n",
      "fcn.resnet34_8s.layer3.5.bn1.running_var\n",
      "fcn.resnet34_8s.layer3.5.bn1.num_batches_tracked\n",
      "fcn.resnet34_8s.layer3.5.conv2.weight\n",
      "fcn.resnet34_8s.layer3.5.bn2.weight\n",
      "fcn.resnet34_8s.layer3.5.bn2.bias\n",
      "fcn.resnet34_8s.layer3.5.bn2.running_mean\n",
      "fcn.resnet34_8s.layer3.5.bn2.running_var\n",
      "fcn.resnet34_8s.layer3.5.bn2.num_batches_tracked\n",
      "fcn.resnet34_8s.layer4.0.conv1.weight\n",
      "fcn.resnet34_8s.layer4.0.bn1.weight\n",
      "fcn.resnet34_8s.layer4.0.bn1.bias\n",
      "fcn.resnet34_8s.layer4.0.bn1.running_mean\n",
      "fcn.resnet34_8s.layer4.0.bn1.running_var\n",
      "fcn.resnet34_8s.layer4.0.bn1.num_batches_tracked\n",
      "fcn.resnet34_8s.layer4.0.conv2.weight\n",
      "fcn.resnet34_8s.layer4.0.bn2.weight\n",
      "fcn.resnet34_8s.layer4.0.bn2.bias\n",
      "fcn.resnet34_8s.layer4.0.bn2.running_mean\n",
      "fcn.resnet34_8s.layer4.0.bn2.running_var\n",
      "fcn.resnet34_8s.layer4.0.bn2.num_batches_tracked\n",
      "fcn.resnet34_8s.layer4.0.downsample.0.weight\n",
      "fcn.resnet34_8s.layer4.0.downsample.1.weight\n",
      "fcn.resnet34_8s.layer4.0.downsample.1.bias\n",
      "fcn.resnet34_8s.layer4.0.downsample.1.running_mean\n",
      "fcn.resnet34_8s.layer4.0.downsample.1.running_var\n",
      "fcn.resnet34_8s.layer4.0.downsample.1.num_batches_tracked\n",
      "fcn.resnet34_8s.layer4.1.conv1.weight\n",
      "fcn.resnet34_8s.layer4.1.bn1.weight\n",
      "fcn.resnet34_8s.layer4.1.bn1.bias\n",
      "fcn.resnet34_8s.layer4.1.bn1.running_mean\n",
      "fcn.resnet34_8s.layer4.1.bn1.running_var\n",
      "fcn.resnet34_8s.layer4.1.bn1.num_batches_tracked\n",
      "fcn.resnet34_8s.layer4.1.conv2.weight\n",
      "fcn.resnet34_8s.layer4.1.bn2.weight\n",
      "fcn.resnet34_8s.layer4.1.bn2.bias\n",
      "fcn.resnet34_8s.layer4.1.bn2.running_mean\n",
      "fcn.resnet34_8s.layer4.1.bn2.running_var\n",
      "fcn.resnet34_8s.layer4.1.bn2.num_batches_tracked\n",
      "fcn.resnet34_8s.layer4.2.conv1.weight\n",
      "fcn.resnet34_8s.layer4.2.bn1.weight\n",
      "fcn.resnet34_8s.layer4.2.bn1.bias\n",
      "fcn.resnet34_8s.layer4.2.bn1.running_mean\n",
      "fcn.resnet34_8s.layer4.2.bn1.running_var\n",
      "fcn.resnet34_8s.layer4.2.bn1.num_batches_tracked\n",
      "fcn.resnet34_8s.layer4.2.conv2.weight\n",
      "fcn.resnet34_8s.layer4.2.bn2.weight\n",
      "fcn.resnet34_8s.layer4.2.bn2.bias\n",
      "fcn.resnet34_8s.layer4.2.bn2.running_mean\n",
      "fcn.resnet34_8s.layer4.2.bn2.running_var\n",
      "fcn.resnet34_8s.layer4.2.bn2.num_batches_tracked\n",
      "fcn.resnet34_8s.fc.weight\n",
      "fcn.resnet34_8s.fc.bias\n",
      "=================================================\n",
      "data keys\n",
      "=================================================\n",
      "fcn.resnet34_8s.conv1.weight\n",
      "fcn.resnet34_8s.bn1.weight\n",
      "fcn.resnet34_8s.bn1.bias\n",
      "fcn.resnet34_8s.bn1.running_mean\n",
      "fcn.resnet34_8s.bn1.running_var\n",
      "fcn.resnet34_8s.bn1.num_batches_tracked\n",
      "fcn.resnet34_8s.layer1.0.conv1.weight\n",
      "fcn.resnet34_8s.layer1.0.bn1.weight\n",
      "fcn.resnet34_8s.layer1.0.bn1.bias\n",
      "fcn.resnet34_8s.layer1.0.bn1.running_mean\n",
      "fcn.resnet34_8s.layer1.0.bn1.running_var\n",
      "fcn.resnet34_8s.layer1.0.bn1.num_batches_tracked\n",
      "fcn.resnet34_8s.layer1.0.conv2.weight\n",
      "fcn.resnet34_8s.layer1.0.bn2.weight\n",
      "fcn.resnet34_8s.layer1.0.bn2.bias\n",
      "fcn.resnet34_8s.layer1.0.bn2.running_mean\n",
      "fcn.resnet34_8s.layer1.0.bn2.running_var\n",
      "fcn.resnet34_8s.layer1.0.bn2.num_batches_tracked\n",
      "fcn.resnet34_8s.layer1.1.conv1.weight\n",
      "fcn.resnet34_8s.layer1.1.bn1.weight\n",
      "fcn.resnet34_8s.layer1.1.bn1.bias\n",
      "fcn.resnet34_8s.layer1.1.bn1.running_mean\n",
      "fcn.resnet34_8s.layer1.1.bn1.running_var\n",
      "fcn.resnet34_8s.layer1.1.bn1.num_batches_tracked\n",
      "fcn.resnet34_8s.layer1.1.conv2.weight\n",
      "fcn.resnet34_8s.layer1.1.bn2.weight\n",
      "fcn.resnet34_8s.layer1.1.bn2.bias\n",
      "fcn.resnet34_8s.layer1.1.bn2.running_mean\n",
      "fcn.resnet34_8s.layer1.1.bn2.running_var\n",
      "fcn.resnet34_8s.layer1.1.bn2.num_batches_tracked\n",
      "fcn.resnet34_8s.layer1.2.conv1.weight\n",
      "fcn.resnet34_8s.layer1.2.bn1.weight\n",
      "fcn.resnet34_8s.layer1.2.bn1.bias\n",
      "fcn.resnet34_8s.layer1.2.bn1.running_mean\n",
      "fcn.resnet34_8s.layer1.2.bn1.running_var\n",
      "fcn.resnet34_8s.layer1.2.bn1.num_batches_tracked\n",
      "fcn.resnet34_8s.layer1.2.conv2.weight\n",
      "fcn.resnet34_8s.layer1.2.bn2.weight\n",
      "fcn.resnet34_8s.layer1.2.bn2.bias\n",
      "fcn.resnet34_8s.layer1.2.bn2.running_mean\n",
      "fcn.resnet34_8s.layer1.2.bn2.running_var\n",
      "fcn.resnet34_8s.layer1.2.bn2.num_batches_tracked\n",
      "fcn.resnet34_8s.layer2.0.conv1.weight\n",
      "fcn.resnet34_8s.layer2.0.bn1.weight\n",
      "fcn.resnet34_8s.layer2.0.bn1.bias\n",
      "fcn.resnet34_8s.layer2.0.bn1.running_mean\n",
      "fcn.resnet34_8s.layer2.0.bn1.running_var\n",
      "fcn.resnet34_8s.layer2.0.bn1.num_batches_tracked\n",
      "fcn.resnet34_8s.layer2.0.conv2.weight\n",
      "fcn.resnet34_8s.layer2.0.bn2.weight\n",
      "fcn.resnet34_8s.layer2.0.bn2.bias\n",
      "fcn.resnet34_8s.layer2.0.bn2.running_mean\n",
      "fcn.resnet34_8s.layer2.0.bn2.running_var\n",
      "fcn.resnet34_8s.layer2.0.bn2.num_batches_tracked\n",
      "fcn.resnet34_8s.layer2.0.downsample.0.weight\n",
      "fcn.resnet34_8s.layer2.0.downsample.1.weight\n",
      "fcn.resnet34_8s.layer2.0.downsample.1.bias\n",
      "fcn.resnet34_8s.layer2.0.downsample.1.running_mean\n",
      "fcn.resnet34_8s.layer2.0.downsample.1.running_var\n",
      "fcn.resnet34_8s.layer2.0.downsample.1.num_batches_tracked\n",
      "fcn.resnet34_8s.layer2.1.conv1.weight\n",
      "fcn.resnet34_8s.layer2.1.bn1.weight\n",
      "fcn.resnet34_8s.layer2.1.bn1.bias\n",
      "fcn.resnet34_8s.layer2.1.bn1.running_mean\n",
      "fcn.resnet34_8s.layer2.1.bn1.running_var\n",
      "fcn.resnet34_8s.layer2.1.bn1.num_batches_tracked\n",
      "fcn.resnet34_8s.layer2.1.conv2.weight\n",
      "fcn.resnet34_8s.layer2.1.bn2.weight\n",
      "fcn.resnet34_8s.layer2.1.bn2.bias\n",
      "fcn.resnet34_8s.layer2.1.bn2.running_mean\n",
      "fcn.resnet34_8s.layer2.1.bn2.running_var\n",
      "fcn.resnet34_8s.layer2.1.bn2.num_batches_tracked\n",
      "fcn.resnet34_8s.layer2.2.conv1.weight\n",
      "fcn.resnet34_8s.layer2.2.bn1.weight\n",
      "fcn.resnet34_8s.layer2.2.bn1.bias\n",
      "fcn.resnet34_8s.layer2.2.bn1.running_mean\n",
      "fcn.resnet34_8s.layer2.2.bn1.running_var\n",
      "fcn.resnet34_8s.layer2.2.bn1.num_batches_tracked\n",
      "fcn.resnet34_8s.layer2.2.conv2.weight\n",
      "fcn.resnet34_8s.layer2.2.bn2.weight\n",
      "fcn.resnet34_8s.layer2.2.bn2.bias\n",
      "fcn.resnet34_8s.layer2.2.bn2.running_mean\n",
      "fcn.resnet34_8s.layer2.2.bn2.running_var\n",
      "fcn.resnet34_8s.layer2.2.bn2.num_batches_tracked\n",
      "fcn.resnet34_8s.layer2.3.conv1.weight\n",
      "fcn.resnet34_8s.layer2.3.bn1.weight\n",
      "fcn.resnet34_8s.layer2.3.bn1.bias\n",
      "fcn.resnet34_8s.layer2.3.bn1.running_mean\n",
      "fcn.resnet34_8s.layer2.3.bn1.running_var\n",
      "fcn.resnet34_8s.layer2.3.bn1.num_batches_tracked\n",
      "fcn.resnet34_8s.layer2.3.conv2.weight\n",
      "fcn.resnet34_8s.layer2.3.bn2.weight\n",
      "fcn.resnet34_8s.layer2.3.bn2.bias\n",
      "fcn.resnet34_8s.layer2.3.bn2.running_mean\n",
      "fcn.resnet34_8s.layer2.3.bn2.running_var\n",
      "fcn.resnet34_8s.layer2.3.bn2.num_batches_tracked\n",
      "fcn.resnet34_8s.layer3.0.conv1.weight\n",
      "fcn.resnet34_8s.layer3.0.bn1.weight\n",
      "fcn.resnet34_8s.layer3.0.bn1.bias\n",
      "fcn.resnet34_8s.layer3.0.bn1.running_mean\n",
      "fcn.resnet34_8s.layer3.0.bn1.running_var\n",
      "fcn.resnet34_8s.layer3.0.bn1.num_batches_tracked\n",
      "fcn.resnet34_8s.layer3.0.conv2.weight\n",
      "fcn.resnet34_8s.layer3.0.bn2.weight\n",
      "fcn.resnet34_8s.layer3.0.bn2.bias\n",
      "fcn.resnet34_8s.layer3.0.bn2.running_mean\n",
      "fcn.resnet34_8s.layer3.0.bn2.running_var\n",
      "fcn.resnet34_8s.layer3.0.bn2.num_batches_tracked\n",
      "fcn.resnet34_8s.layer3.0.downsample.0.weight\n",
      "fcn.resnet34_8s.layer3.0.downsample.1.weight\n",
      "fcn.resnet34_8s.layer3.0.downsample.1.bias\n",
      "fcn.resnet34_8s.layer3.0.downsample.1.running_mean\n",
      "fcn.resnet34_8s.layer3.0.downsample.1.running_var\n",
      "fcn.resnet34_8s.layer3.0.downsample.1.num_batches_tracked\n",
      "fcn.resnet34_8s.layer3.1.conv1.weight\n",
      "fcn.resnet34_8s.layer3.1.bn1.weight\n",
      "fcn.resnet34_8s.layer3.1.bn1.bias\n",
      "fcn.resnet34_8s.layer3.1.bn1.running_mean\n",
      "fcn.resnet34_8s.layer3.1.bn1.running_var\n",
      "fcn.resnet34_8s.layer3.1.bn1.num_batches_tracked\n",
      "fcn.resnet34_8s.layer3.1.conv2.weight\n",
      "fcn.resnet34_8s.layer3.1.bn2.weight\n",
      "fcn.resnet34_8s.layer3.1.bn2.bias\n",
      "fcn.resnet34_8s.layer3.1.bn2.running_mean\n",
      "fcn.resnet34_8s.layer3.1.bn2.running_var\n",
      "fcn.resnet34_8s.layer3.1.bn2.num_batches_tracked\n",
      "fcn.resnet34_8s.layer3.2.conv1.weight\n",
      "fcn.resnet34_8s.layer3.2.bn1.weight\n",
      "fcn.resnet34_8s.layer3.2.bn1.bias\n",
      "fcn.resnet34_8s.layer3.2.bn1.running_mean\n",
      "fcn.resnet34_8s.layer3.2.bn1.running_var\n",
      "fcn.resnet34_8s.layer3.2.bn1.num_batches_tracked\n",
      "fcn.resnet34_8s.layer3.2.conv2.weight\n",
      "fcn.resnet34_8s.layer3.2.bn2.weight\n",
      "fcn.resnet34_8s.layer3.2.bn2.bias\n",
      "fcn.resnet34_8s.layer3.2.bn2.running_mean\n",
      "fcn.resnet34_8s.layer3.2.bn2.running_var\n",
      "fcn.resnet34_8s.layer3.2.bn2.num_batches_tracked\n",
      "fcn.resnet34_8s.layer3.3.conv1.weight\n",
      "fcn.resnet34_8s.layer3.3.bn1.weight\n",
      "fcn.resnet34_8s.layer3.3.bn1.bias\n",
      "fcn.resnet34_8s.layer3.3.bn1.running_mean\n",
      "fcn.resnet34_8s.layer3.3.bn1.running_var\n",
      "fcn.resnet34_8s.layer3.3.bn1.num_batches_tracked\n",
      "fcn.resnet34_8s.layer3.3.conv2.weight\n",
      "fcn.resnet34_8s.layer3.3.bn2.weight\n",
      "fcn.resnet34_8s.layer3.3.bn2.bias\n",
      "fcn.resnet34_8s.layer3.3.bn2.running_mean\n",
      "fcn.resnet34_8s.layer3.3.bn2.running_var\n",
      "fcn.resnet34_8s.layer3.3.bn2.num_batches_tracked\n",
      "fcn.resnet34_8s.layer3.4.conv1.weight\n",
      "fcn.resnet34_8s.layer3.4.bn1.weight\n",
      "fcn.resnet34_8s.layer3.4.bn1.bias\n",
      "fcn.resnet34_8s.layer3.4.bn1.running_mean\n",
      "fcn.resnet34_8s.layer3.4.bn1.running_var\n",
      "fcn.resnet34_8s.layer3.4.bn1.num_batches_tracked\n",
      "fcn.resnet34_8s.layer3.4.conv2.weight\n",
      "fcn.resnet34_8s.layer3.4.bn2.weight\n",
      "fcn.resnet34_8s.layer3.4.bn2.bias\n",
      "fcn.resnet34_8s.layer3.4.bn2.running_mean\n",
      "fcn.resnet34_8s.layer3.4.bn2.running_var\n",
      "fcn.resnet34_8s.layer3.4.bn2.num_batches_tracked\n",
      "fcn.resnet34_8s.layer3.5.conv1.weight\n",
      "fcn.resnet34_8s.layer3.5.bn1.weight\n",
      "fcn.resnet34_8s.layer3.5.bn1.bias\n",
      "fcn.resnet34_8s.layer3.5.bn1.running_mean\n",
      "fcn.resnet34_8s.layer3.5.bn1.running_var\n",
      "fcn.resnet34_8s.layer3.5.bn1.num_batches_tracked\n",
      "fcn.resnet34_8s.layer3.5.conv2.weight\n",
      "fcn.resnet34_8s.layer3.5.bn2.weight\n",
      "fcn.resnet34_8s.layer3.5.bn2.bias\n",
      "fcn.resnet34_8s.layer3.5.bn2.running_mean\n",
      "fcn.resnet34_8s.layer3.5.bn2.running_var\n",
      "fcn.resnet34_8s.layer3.5.bn2.num_batches_tracked\n",
      "fcn.resnet34_8s.layer4.0.conv1.weight\n",
      "fcn.resnet34_8s.layer4.0.bn1.weight\n",
      "fcn.resnet34_8s.layer4.0.bn1.bias\n",
      "fcn.resnet34_8s.layer4.0.bn1.running_mean\n",
      "fcn.resnet34_8s.layer4.0.bn1.running_var\n",
      "fcn.resnet34_8s.layer4.0.bn1.num_batches_tracked\n",
      "fcn.resnet34_8s.layer4.0.conv2.weight\n",
      "fcn.resnet34_8s.layer4.0.bn2.weight\n",
      "fcn.resnet34_8s.layer4.0.bn2.bias\n",
      "fcn.resnet34_8s.layer4.0.bn2.running_mean\n",
      "fcn.resnet34_8s.layer4.0.bn2.running_var\n",
      "fcn.resnet34_8s.layer4.0.bn2.num_batches_tracked\n",
      "fcn.resnet34_8s.layer4.0.downsample.0.weight\n",
      "fcn.resnet34_8s.layer4.0.downsample.1.weight\n",
      "fcn.resnet34_8s.layer4.0.downsample.1.bias\n",
      "fcn.resnet34_8s.layer4.0.downsample.1.running_mean\n",
      "fcn.resnet34_8s.layer4.0.downsample.1.running_var\n",
      "fcn.resnet34_8s.layer4.0.downsample.1.num_batches_tracked\n",
      "fcn.resnet34_8s.layer4.1.conv1.weight\n",
      "fcn.resnet34_8s.layer4.1.bn1.weight\n",
      "fcn.resnet34_8s.layer4.1.bn1.bias\n",
      "fcn.resnet34_8s.layer4.1.bn1.running_mean\n",
      "fcn.resnet34_8s.layer4.1.bn1.running_var\n",
      "fcn.resnet34_8s.layer4.1.bn1.num_batches_tracked\n",
      "fcn.resnet34_8s.layer4.1.conv2.weight\n",
      "fcn.resnet34_8s.layer4.1.bn2.weight\n",
      "fcn.resnet34_8s.layer4.1.bn2.bias\n",
      "fcn.resnet34_8s.layer4.1.bn2.running_mean\n",
      "fcn.resnet34_8s.layer4.1.bn2.running_var\n",
      "fcn.resnet34_8s.layer4.1.bn2.num_batches_tracked\n",
      "fcn.resnet34_8s.layer4.2.conv1.weight\n",
      "fcn.resnet34_8s.layer4.2.bn1.weight\n",
      "fcn.resnet34_8s.layer4.2.bn1.bias\n",
      "fcn.resnet34_8s.layer4.2.bn1.running_mean\n",
      "fcn.resnet34_8s.layer4.2.bn1.running_var\n",
      "fcn.resnet34_8s.layer4.2.bn1.num_batches_tracked\n",
      "fcn.resnet34_8s.layer4.2.conv2.weight\n",
      "fcn.resnet34_8s.layer4.2.bn2.weight\n",
      "fcn.resnet34_8s.layer4.2.bn2.bias\n",
      "fcn.resnet34_8s.layer4.2.bn2.running_mean\n",
      "fcn.resnet34_8s.layer4.2.bn2.running_var\n",
      "fcn.resnet34_8s.layer4.2.bn2.num_batches_tracked\n",
      "fcn.resnet34_8s.fc.weight\n",
      "fcn.resnet34_8s.fc.bias\n",
      "=================================================\n",
      "load the following keys from the pretrained model\n",
      "=================================================\n",
      "fcn.resnet34_8s.conv1.weight\n",
      "fcn.resnet34_8s.bn1.weight\n",
      "fcn.resnet34_8s.bn1.bias\n",
      "fcn.resnet34_8s.bn1.running_mean\n",
      "fcn.resnet34_8s.bn1.running_var\n",
      "fcn.resnet34_8s.bn1.num_batches_tracked\n",
      "fcn.resnet34_8s.layer1.0.conv1.weight\n",
      "fcn.resnet34_8s.layer1.0.bn1.weight\n",
      "fcn.resnet34_8s.layer1.0.bn1.bias\n",
      "fcn.resnet34_8s.layer1.0.bn1.running_mean\n",
      "fcn.resnet34_8s.layer1.0.bn1.running_var\n",
      "fcn.resnet34_8s.layer1.0.bn1.num_batches_tracked\n",
      "fcn.resnet34_8s.layer1.0.conv2.weight\n",
      "fcn.resnet34_8s.layer1.0.bn2.weight\n",
      "fcn.resnet34_8s.layer1.0.bn2.bias\n",
      "fcn.resnet34_8s.layer1.0.bn2.running_mean\n",
      "fcn.resnet34_8s.layer1.0.bn2.running_var\n",
      "fcn.resnet34_8s.layer1.0.bn2.num_batches_tracked\n",
      "fcn.resnet34_8s.layer1.1.conv1.weight\n",
      "fcn.resnet34_8s.layer1.1.bn1.weight\n",
      "fcn.resnet34_8s.layer1.1.bn1.bias\n",
      "fcn.resnet34_8s.layer1.1.bn1.running_mean\n",
      "fcn.resnet34_8s.layer1.1.bn1.running_var\n",
      "fcn.resnet34_8s.layer1.1.bn1.num_batches_tracked\n",
      "fcn.resnet34_8s.layer1.1.conv2.weight\n",
      "fcn.resnet34_8s.layer1.1.bn2.weight\n",
      "fcn.resnet34_8s.layer1.1.bn2.bias\n",
      "fcn.resnet34_8s.layer1.1.bn2.running_mean\n",
      "fcn.resnet34_8s.layer1.1.bn2.running_var\n",
      "fcn.resnet34_8s.layer1.1.bn2.num_batches_tracked\n",
      "fcn.resnet34_8s.layer1.2.conv1.weight\n",
      "fcn.resnet34_8s.layer1.2.bn1.weight\n",
      "fcn.resnet34_8s.layer1.2.bn1.bias\n",
      "fcn.resnet34_8s.layer1.2.bn1.running_mean\n",
      "fcn.resnet34_8s.layer1.2.bn1.running_var\n",
      "fcn.resnet34_8s.layer1.2.bn1.num_batches_tracked\n",
      "fcn.resnet34_8s.layer1.2.conv2.weight\n",
      "fcn.resnet34_8s.layer1.2.bn2.weight\n",
      "fcn.resnet34_8s.layer1.2.bn2.bias\n",
      "fcn.resnet34_8s.layer1.2.bn2.running_mean\n",
      "fcn.resnet34_8s.layer1.2.bn2.running_var\n",
      "fcn.resnet34_8s.layer1.2.bn2.num_batches_tracked\n",
      "fcn.resnet34_8s.layer2.0.conv1.weight\n",
      "fcn.resnet34_8s.layer2.0.bn1.weight\n",
      "fcn.resnet34_8s.layer2.0.bn1.bias\n",
      "fcn.resnet34_8s.layer2.0.bn1.running_mean\n",
      "fcn.resnet34_8s.layer2.0.bn1.running_var\n",
      "fcn.resnet34_8s.layer2.0.bn1.num_batches_tracked\n",
      "fcn.resnet34_8s.layer2.0.conv2.weight\n",
      "fcn.resnet34_8s.layer2.0.bn2.weight\n",
      "fcn.resnet34_8s.layer2.0.bn2.bias\n",
      "fcn.resnet34_8s.layer2.0.bn2.running_mean\n",
      "fcn.resnet34_8s.layer2.0.bn2.running_var\n",
      "fcn.resnet34_8s.layer2.0.bn2.num_batches_tracked\n",
      "fcn.resnet34_8s.layer2.0.downsample.0.weight\n",
      "fcn.resnet34_8s.layer2.0.downsample.1.weight\n",
      "fcn.resnet34_8s.layer2.0.downsample.1.bias\n",
      "fcn.resnet34_8s.layer2.0.downsample.1.running_mean\n",
      "fcn.resnet34_8s.layer2.0.downsample.1.running_var\n",
      "fcn.resnet34_8s.layer2.0.downsample.1.num_batches_tracked\n",
      "fcn.resnet34_8s.layer2.1.conv1.weight\n",
      "fcn.resnet34_8s.layer2.1.bn1.weight\n",
      "fcn.resnet34_8s.layer2.1.bn1.bias\n",
      "fcn.resnet34_8s.layer2.1.bn1.running_mean\n",
      "fcn.resnet34_8s.layer2.1.bn1.running_var\n",
      "fcn.resnet34_8s.layer2.1.bn1.num_batches_tracked\n",
      "fcn.resnet34_8s.layer2.1.conv2.weight\n",
      "fcn.resnet34_8s.layer2.1.bn2.weight\n",
      "fcn.resnet34_8s.layer2.1.bn2.bias\n",
      "fcn.resnet34_8s.layer2.1.bn2.running_mean\n",
      "fcn.resnet34_8s.layer2.1.bn2.running_var\n",
      "fcn.resnet34_8s.layer2.1.bn2.num_batches_tracked\n",
      "fcn.resnet34_8s.layer2.2.conv1.weight\n",
      "fcn.resnet34_8s.layer2.2.bn1.weight\n",
      "fcn.resnet34_8s.layer2.2.bn1.bias\n",
      "fcn.resnet34_8s.layer2.2.bn1.running_mean\n",
      "fcn.resnet34_8s.layer2.2.bn1.running_var\n",
      "fcn.resnet34_8s.layer2.2.bn1.num_batches_tracked\n",
      "fcn.resnet34_8s.layer2.2.conv2.weight\n",
      "fcn.resnet34_8s.layer2.2.bn2.weight\n",
      "fcn.resnet34_8s.layer2.2.bn2.bias\n",
      "fcn.resnet34_8s.layer2.2.bn2.running_mean\n",
      "fcn.resnet34_8s.layer2.2.bn2.running_var\n",
      "fcn.resnet34_8s.layer2.2.bn2.num_batches_tracked\n",
      "fcn.resnet34_8s.layer2.3.conv1.weight\n",
      "fcn.resnet34_8s.layer2.3.bn1.weight\n",
      "fcn.resnet34_8s.layer2.3.bn1.bias\n",
      "fcn.resnet34_8s.layer2.3.bn1.running_mean\n",
      "fcn.resnet34_8s.layer2.3.bn1.running_var\n",
      "fcn.resnet34_8s.layer2.3.bn1.num_batches_tracked\n",
      "fcn.resnet34_8s.layer2.3.conv2.weight\n",
      "fcn.resnet34_8s.layer2.3.bn2.weight\n",
      "fcn.resnet34_8s.layer2.3.bn2.bias\n",
      "fcn.resnet34_8s.layer2.3.bn2.running_mean\n",
      "fcn.resnet34_8s.layer2.3.bn2.running_var\n",
      "fcn.resnet34_8s.layer2.3.bn2.num_batches_tracked\n",
      "fcn.resnet34_8s.layer3.0.conv1.weight\n",
      "fcn.resnet34_8s.layer3.0.bn1.weight\n",
      "fcn.resnet34_8s.layer3.0.bn1.bias\n",
      "fcn.resnet34_8s.layer3.0.bn1.running_mean\n",
      "fcn.resnet34_8s.layer3.0.bn1.running_var\n",
      "fcn.resnet34_8s.layer3.0.bn1.num_batches_tracked\n",
      "fcn.resnet34_8s.layer3.0.conv2.weight\n",
      "fcn.resnet34_8s.layer3.0.bn2.weight\n",
      "fcn.resnet34_8s.layer3.0.bn2.bias\n",
      "fcn.resnet34_8s.layer3.0.bn2.running_mean\n",
      "fcn.resnet34_8s.layer3.0.bn2.running_var\n",
      "fcn.resnet34_8s.layer3.0.bn2.num_batches_tracked\n",
      "fcn.resnet34_8s.layer3.0.downsample.0.weight\n",
      "fcn.resnet34_8s.layer3.0.downsample.1.weight\n",
      "fcn.resnet34_8s.layer3.0.downsample.1.bias\n",
      "fcn.resnet34_8s.layer3.0.downsample.1.running_mean\n",
      "fcn.resnet34_8s.layer3.0.downsample.1.running_var\n",
      "fcn.resnet34_8s.layer3.0.downsample.1.num_batches_tracked\n",
      "fcn.resnet34_8s.layer3.1.conv1.weight\n",
      "fcn.resnet34_8s.layer3.1.bn1.weight\n",
      "fcn.resnet34_8s.layer3.1.bn1.bias\n",
      "fcn.resnet34_8s.layer3.1.bn1.running_mean\n",
      "fcn.resnet34_8s.layer3.1.bn1.running_var\n",
      "fcn.resnet34_8s.layer3.1.bn1.num_batches_tracked\n",
      "fcn.resnet34_8s.layer3.1.conv2.weight\n",
      "fcn.resnet34_8s.layer3.1.bn2.weight\n",
      "fcn.resnet34_8s.layer3.1.bn2.bias\n",
      "fcn.resnet34_8s.layer3.1.bn2.running_mean\n",
      "fcn.resnet34_8s.layer3.1.bn2.running_var\n",
      "fcn.resnet34_8s.layer3.1.bn2.num_batches_tracked\n",
      "fcn.resnet34_8s.layer3.2.conv1.weight\n",
      "fcn.resnet34_8s.layer3.2.bn1.weight\n",
      "fcn.resnet34_8s.layer3.2.bn1.bias\n",
      "fcn.resnet34_8s.layer3.2.bn1.running_mean\n",
      "fcn.resnet34_8s.layer3.2.bn1.running_var\n",
      "fcn.resnet34_8s.layer3.2.bn1.num_batches_tracked\n",
      "fcn.resnet34_8s.layer3.2.conv2.weight\n",
      "fcn.resnet34_8s.layer3.2.bn2.weight\n",
      "fcn.resnet34_8s.layer3.2.bn2.bias\n",
      "fcn.resnet34_8s.layer3.2.bn2.running_mean\n",
      "fcn.resnet34_8s.layer3.2.bn2.running_var\n",
      "fcn.resnet34_8s.layer3.2.bn2.num_batches_tracked\n",
      "fcn.resnet34_8s.layer3.3.conv1.weight\n",
      "fcn.resnet34_8s.layer3.3.bn1.weight\n",
      "fcn.resnet34_8s.layer3.3.bn1.bias\n",
      "fcn.resnet34_8s.layer3.3.bn1.running_mean\n",
      "fcn.resnet34_8s.layer3.3.bn1.running_var\n",
      "fcn.resnet34_8s.layer3.3.bn1.num_batches_tracked\n",
      "fcn.resnet34_8s.layer3.3.conv2.weight\n",
      "fcn.resnet34_8s.layer3.3.bn2.weight\n",
      "fcn.resnet34_8s.layer3.3.bn2.bias\n",
      "fcn.resnet34_8s.layer3.3.bn2.running_mean\n",
      "fcn.resnet34_8s.layer3.3.bn2.running_var\n",
      "fcn.resnet34_8s.layer3.3.bn2.num_batches_tracked\n",
      "fcn.resnet34_8s.layer3.4.conv1.weight\n",
      "fcn.resnet34_8s.layer3.4.bn1.weight\n",
      "fcn.resnet34_8s.layer3.4.bn1.bias\n",
      "fcn.resnet34_8s.layer3.4.bn1.running_mean\n",
      "fcn.resnet34_8s.layer3.4.bn1.running_var\n",
      "fcn.resnet34_8s.layer3.4.bn1.num_batches_tracked\n",
      "fcn.resnet34_8s.layer3.4.conv2.weight\n",
      "fcn.resnet34_8s.layer3.4.bn2.weight\n",
      "fcn.resnet34_8s.layer3.4.bn2.bias\n",
      "fcn.resnet34_8s.layer3.4.bn2.running_mean\n",
      "fcn.resnet34_8s.layer3.4.bn2.running_var\n",
      "fcn.resnet34_8s.layer3.4.bn2.num_batches_tracked\n",
      "fcn.resnet34_8s.layer3.5.conv1.weight\n",
      "fcn.resnet34_8s.layer3.5.bn1.weight\n",
      "fcn.resnet34_8s.layer3.5.bn1.bias\n",
      "fcn.resnet34_8s.layer3.5.bn1.running_mean\n",
      "fcn.resnet34_8s.layer3.5.bn1.running_var\n",
      "fcn.resnet34_8s.layer3.5.bn1.num_batches_tracked\n",
      "fcn.resnet34_8s.layer3.5.conv2.weight\n",
      "fcn.resnet34_8s.layer3.5.bn2.weight\n",
      "fcn.resnet34_8s.layer3.5.bn2.bias\n",
      "fcn.resnet34_8s.layer3.5.bn2.running_mean\n",
      "fcn.resnet34_8s.layer3.5.bn2.running_var\n",
      "fcn.resnet34_8s.layer3.5.bn2.num_batches_tracked\n",
      "fcn.resnet34_8s.layer4.0.conv1.weight\n",
      "fcn.resnet34_8s.layer4.0.bn1.weight\n",
      "fcn.resnet34_8s.layer4.0.bn1.bias\n",
      "fcn.resnet34_8s.layer4.0.bn1.running_mean\n",
      "fcn.resnet34_8s.layer4.0.bn1.running_var\n",
      "fcn.resnet34_8s.layer4.0.bn1.num_batches_tracked\n",
      "fcn.resnet34_8s.layer4.0.conv2.weight\n",
      "fcn.resnet34_8s.layer4.0.bn2.weight\n",
      "fcn.resnet34_8s.layer4.0.bn2.bias\n",
      "fcn.resnet34_8s.layer4.0.bn2.running_mean\n",
      "fcn.resnet34_8s.layer4.0.bn2.running_var\n",
      "fcn.resnet34_8s.layer4.0.bn2.num_batches_tracked\n",
      "fcn.resnet34_8s.layer4.0.downsample.0.weight\n",
      "fcn.resnet34_8s.layer4.0.downsample.1.weight\n",
      "fcn.resnet34_8s.layer4.0.downsample.1.bias\n",
      "fcn.resnet34_8s.layer4.0.downsample.1.running_mean\n",
      "fcn.resnet34_8s.layer4.0.downsample.1.running_var\n",
      "fcn.resnet34_8s.layer4.0.downsample.1.num_batches_tracked\n",
      "fcn.resnet34_8s.layer4.1.conv1.weight\n",
      "fcn.resnet34_8s.layer4.1.bn1.weight\n",
      "fcn.resnet34_8s.layer4.1.bn1.bias\n",
      "fcn.resnet34_8s.layer4.1.bn1.running_mean\n",
      "fcn.resnet34_8s.layer4.1.bn1.running_var\n",
      "fcn.resnet34_8s.layer4.1.bn1.num_batches_tracked\n",
      "fcn.resnet34_8s.layer4.1.conv2.weight\n",
      "fcn.resnet34_8s.layer4.1.bn2.weight\n",
      "fcn.resnet34_8s.layer4.1.bn2.bias\n",
      "fcn.resnet34_8s.layer4.1.bn2.running_mean\n",
      "fcn.resnet34_8s.layer4.1.bn2.running_var\n",
      "fcn.resnet34_8s.layer4.1.bn2.num_batches_tracked\n",
      "fcn.resnet34_8s.layer4.2.conv1.weight\n",
      "fcn.resnet34_8s.layer4.2.bn1.weight\n",
      "fcn.resnet34_8s.layer4.2.bn1.bias\n",
      "fcn.resnet34_8s.layer4.2.bn1.running_mean\n",
      "fcn.resnet34_8s.layer4.2.bn1.running_var\n",
      "fcn.resnet34_8s.layer4.2.bn1.num_batches_tracked\n",
      "fcn.resnet34_8s.layer4.2.conv2.weight\n",
      "fcn.resnet34_8s.layer4.2.bn2.weight\n",
      "fcn.resnet34_8s.layer4.2.bn2.bias\n",
      "fcn.resnet34_8s.layer4.2.bn2.running_mean\n",
      "fcn.resnet34_8s.layer4.2.bn2.running_var\n",
      "fcn.resnet34_8s.layer4.2.bn2.num_batches_tracked\n",
      "fcn.resnet34_8s.fc.weight\n",
      "fcn.resnet34_8s.fc.bias\n",
      "=================================================\n"
     ]
    }
   ],
   "source": [
    "sdf = SDFModule()"
   ]
  },
  {
   "cell_type": "code",
   "execution_count": 8,
   "metadata": {},
   "outputs": [
    {
     "name": "stderr",
     "output_type": "stream",
     "text": [
      "/home/gun/anaconda3/envs/py3_gpu/lib/python3.6/site-packages/torch/nn/functional.py:2589: UserWarning: nn.functional.upsample_bilinear is deprecated. Use nn.functional.interpolate instead.\n",
      "  warnings.warn(\"nn.functional.upsample_bilinear is deprecated. Use nn.functional.interpolate instead.\")\n"
     ]
    },
    {
     "ename": "ValueError",
     "evalue": "too many values to unpack (expected 2)",
     "output_type": "error",
     "traceback": [
      "\u001b[0;31m---------------------------------------------------------------------------\u001b[0m",
      "\u001b[0;31mValueError\u001b[0m                                Traceback (most recent call last)",
      "\u001b[0;32m<ipython-input-8-828afdb57419>\u001b[0m in \u001b[0;36m<module>\u001b[0;34m\u001b[0m\n\u001b[1;32m      1\u001b[0m \u001b[0mst\u001b[0m \u001b[0;34m=\u001b[0m \u001b[0mtime\u001b[0m\u001b[0;34m.\u001b[0m\u001b[0mtime\u001b[0m\u001b[0;34m(\u001b[0m\u001b[0;34m)\u001b[0m\u001b[0;34m\u001b[0m\u001b[0m\n\u001b[0;32m----> 2\u001b[0;31m \u001b[0ms0\u001b[0m\u001b[0;34m,\u001b[0m \u001b[0;34m(\u001b[0m\u001b[0mr0\u001b[0m\u001b[0;34m,\u001b[0m \u001b[0mf0\u001b[0m\u001b[0;34m)\u001b[0m \u001b[0;34m=\u001b[0m \u001b[0msdf\u001b[0m\u001b[0;34m.\u001b[0m\u001b[0mget_sdf_features\u001b[0m\u001b[0;34m(\u001b[0m\u001b[0mstate\u001b[0m\u001b[0;34m[\u001b[0m\u001b[0;36m0\u001b[0m\u001b[0;34m]\u001b[0m\u001b[0;34m)\u001b[0m\u001b[0;34m\u001b[0m\u001b[0m\n\u001b[0m\u001b[1;32m      3\u001b[0m \u001b[0msg\u001b[0m\u001b[0;34m,\u001b[0m \u001b[0;34m(\u001b[0m\u001b[0mrg\u001b[0m\u001b[0;34m,\u001b[0m \u001b[0mfg\u001b[0m\u001b[0;34m)\u001b[0m \u001b[0;34m=\u001b[0m \u001b[0msdf\u001b[0m\u001b[0;34m.\u001b[0m\u001b[0mget_sdf_features\u001b[0m\u001b[0;34m(\u001b[0m\u001b[0mstate\u001b[0m\u001b[0;34m[\u001b[0m\u001b[0;36m1\u001b[0m\u001b[0;34m]\u001b[0m\u001b[0;34m)\u001b[0m\u001b[0;34m\u001b[0m\u001b[0m\n\u001b[1;32m      4\u001b[0m \u001b[0met\u001b[0m \u001b[0;34m=\u001b[0m \u001b[0mtime\u001b[0m\u001b[0;34m.\u001b[0m\u001b[0mtime\u001b[0m\u001b[0;34m(\u001b[0m\u001b[0;34m)\u001b[0m\u001b[0;34m\u001b[0m\u001b[0m\n\u001b[1;32m      5\u001b[0m \u001b[0mprint\u001b[0m\u001b[0;34m(\u001b[0m\u001b[0met\u001b[0m\u001b[0;34m-\u001b[0m\u001b[0mst\u001b[0m\u001b[0;34m)\u001b[0m\u001b[0;34m\u001b[0m\u001b[0m\n",
      "\u001b[0;31mValueError\u001b[0m: too many values to unpack (expected 2)"
     ]
    }
   ],
   "source": [
    "st = time.time()\n",
    "s0, (r0, f0) = sdf.get_sdf_features(state[0])\n",
    "sg, (rg, fg) = sdf.get_sdf_features(state[1])\n",
    "et = time.time()\n",
    "print(et-st)"
   ]
  },
  {
   "cell_type": "code",
   "execution_count": 10,
   "metadata": {
    "scrolled": false
   },
   "outputs": [
    {
     "name": "stdout",
     "output_type": "stream",
     "text": [
      "0.3435251712799072\n"
     ]
    }
   ],
   "source": [
    "st = time.time()\n",
    "_ = sdf.get_masks(state[0])\n",
    "_ = sdf.get_masks(state[1])\n",
    "et = time.time()\n",
    "print(et-st)"
   ]
  },
  {
   "cell_type": "code",
   "execution_count": 21,
   "metadata": {
    "scrolled": false
   },
   "outputs": [
    {
     "name": "stdout",
     "output_type": "stream",
     "text": [
      "0.15015101432800293\n"
     ]
    }
   ],
   "source": [
    "st = time.time()\n",
    "image = state[0]\n",
    "# image = image.transpose([2, 0, 1])\n",
    "\n",
    "im_tensor = torch.from_numpy(image).type(torch.float32).permute(2, 0, 1).unsqueeze(0).cuda()\n",
    "features = sdf.network(im_tensor, None).detach()\n",
    "out_label, selected_pixels = clustering_features(features, num_seeds=100)\n",
    "\n",
    "et = time.time()\n",
    "print(et-st)"
   ]
  },
  {
   "cell_type": "code",
   "execution_count": 12,
   "metadata": {
    "scrolled": true
   },
   "outputs": [
    {
     "data": {
      "text/plain": [
       "<matplotlib.image.AxesImage at 0x7ff43c2450b8>"
      ]
     },
     "execution_count": 12,
     "metadata": {},
     "output_type": "execute_result"
    },
    {
     "data": {
      "image/png": "[encoded data removed]",
      "text/plain": [
       "<Figure size 432x288 with 1 Axes>"
      ]
     },
     "metadata": {
      "needs_background": "light"
     },
     "output_type": "display_data"
    }
   ],
   "source": [
    "plt.imshow(state[0])"
   ]
  },
  {
   "cell_type": "code",
   "execution_count": 13,
   "metadata": {},
   "outputs": [
    {
     "name": "stderr",
     "output_type": "stream",
     "text": [
      "Clipping input data to the valid range for imshow with RGB data ([0..1] for floats or [0..255] for integers).\n"
     ]
    },
    {
     "data": {
      "text/plain": [
       "<matplotlib.image.AxesImage at 0x7ff43c1cb320>"
      ]
     },
     "execution_count": 13,
     "metadata": {},
     "output_type": "execute_result"
    },
    {
     "data": {
      "image/png": "[encoded data removed]",
      "text/plain": [
       "<Figure size 432x288 with 1 Axes>"
      ]
     },
     "metadata": {
      "needs_background": "light"
     },
     "output_type": "display_data"
    }
   ],
   "source": [
    "plt.imshow(s0.transpose([1,2,0]))"
   ]
  },
  {
   "cell_type": "code",
   "execution_count": 14,
   "metadata": {},
   "outputs": [
    {
     "data": {
      "text/plain": [
       "<matplotlib.image.AxesImage at 0x7ff43c1a6470>"
      ]
     },
     "execution_count": 14,
     "metadata": {},
     "output_type": "execute_result"
    },
    {
     "data": {
      "image/png": "[encoded data removed]",
      "text/plain": [
       "<Figure size 432x288 with 1 Axes>"
      ]
     },
     "metadata": {
      "needs_background": "light"
     },
     "output_type": "display_data"
    }
   ],
   "source": [
    "plt.imshow(state[1])"
   ]
  },
  {
   "cell_type": "code",
   "execution_count": 15,
   "metadata": {},
   "outputs": [
    {
     "name": "stderr",
     "output_type": "stream",
     "text": [
      "Clipping input data to the valid range for imshow with RGB data ([0..1] for floats or [0..255] for integers).\n"
     ]
    },
    {
     "data": {
      "text/plain": [
       "<matplotlib.image.AxesImage at 0x7ff43c0fc518>"
      ]
     },
     "execution_count": 15,
     "metadata": {},
     "output_type": "execute_result"
    },
    {
     "data": {
      "image/png": "[encoded data removed]",
      "text/plain": [
       "<Figure size 432x288 with 1 Axes>"
      ]
     },
     "metadata": {
      "needs_background": "light"
     },
     "output_type": "display_data"
    }
   ],
   "source": [
    "plt.imshow(sg[:3].transpose([1,2,0]))"
   ]
  },
  {
   "cell_type": "code",
   "execution_count": 16,
   "metadata": {},
   "outputs": [
    {
     "data": {
      "text/plain": [
       "array([[ 2.8219196e-01,  2.5478610e-01, -9.6765935e-02],\n",
       "       [-2.6748586e-02, -1.1365465e-01,  3.9999077e-01],\n",
       "       [ 2.7088821e-04,  5.2567434e-01, -1.9726381e-02]], dtype=float32)"
      ]
     },
     "execution_count": 16,
     "metadata": {},
     "output_type": "execute_result"
    }
   ],
   "source": [
    "np.array(f0).dot(np.array(fg).T)"
   ]
  },
  {
   "cell_type": "code",
   "execution_count": 17,
   "metadata": {},
   "outputs": [],
   "source": [
    "xn = f0 / np.linalg.norm(f0, axis=1).reshape(3, 1)\n",
    "yn = fg / np.linalg.norm(fg, axis=1).reshape(3, 1)"
   ]
  },
  {
   "cell_type": "code",
   "execution_count": 18,
   "metadata": {},
   "outputs": [
    {
     "data": {
      "text/plain": [
       "array([[ 3.0446315e-01,  2.7491707e-01, -1.0439561e-01],\n",
       "       [-2.8659426e-02, -1.2178399e-01,  4.2853534e-01],\n",
       "       [ 2.9028580e-04,  5.6337273e-01, -2.1137826e-02]], dtype=float32)"
      ]
     },
     "execution_count": 18,
     "metadata": {},
     "output_type": "execute_result"
    }
   ],
   "source": [
    "xn.dot(yn.T)"
   ]
  },
  {
   "cell_type": "code",
   "execution_count": 19,
   "metadata": {},
   "outputs": [
    {
     "data": {
      "text/plain": [
       "array([0, 2, 1])"
      ]
     },
     "execution_count": 19,
     "metadata": {},
     "output_type": "execute_result"
    }
   ],
   "source": [
    "xn.dot(yn.T).argmax(1)"
   ]
  },
  {
   "cell_type": "code",
   "execution_count": 20,
   "metadata": {},
   "outputs": [],
   "source": [
    "r0n = r0 / np.linalg.norm(r0, axis=1).reshape(3, 1)\n",
    "rgn = rg / np.linalg.norm(rg, axis=1).reshape(3, 1)"
   ]
  },
  {
   "cell_type": "code",
   "execution_count": 21,
   "metadata": {},
   "outputs": [
    {
     "data": {
      "text/plain": [
       "array([[0.90995183, 0.89605821, 0.9983021 ],\n",
       "       [0.90698796, 0.99928713, 0.88806753],\n",
       "       [0.99574963, 0.85417046, 0.84884378]])"
      ]
     },
     "execution_count": 21,
     "metadata": {},
     "output_type": "execute_result"
    }
   ],
   "source": [
    "r0n.dot(rgn.T)"
   ]
  },
  {
   "cell_type": "code",
   "execution_count": 22,
   "metadata": {},
   "outputs": [
    {
     "data": {
      "text/plain": [
       "array([2, 1, 0])"
      ]
     },
     "execution_count": 22,
     "metadata": {},
     "output_type": "execute_result"
    }
   ],
   "source": [
    "r0n.dot(rgn.T).argmax(1)"
   ]
  },
  {
   "cell_type": "code",
   "execution_count": 23,
   "metadata": {},
   "outputs": [],
   "source": [
    "new0 = np.concatenate([r0, f0], axis=1)\n",
    "newg = np.concatenate([rg, fg], axis=1)"
   ]
  },
  {
   "cell_type": "code",
   "execution_count": 24,
   "metadata": {},
   "outputs": [],
   "source": [
    "new0n = new0 / np.linalg.norm(new0, axis=1).reshape(3, 1)\n",
    "newgn = newg / np.linalg.norm(newg, axis=1).reshape(3, 1)"
   ]
  },
  {
   "cell_type": "code",
   "execution_count": 25,
   "metadata": {},
   "outputs": [
    {
     "data": {
      "text/plain": [
       "array([[0.65731094, 0.63809326, 0.5212285 ],\n",
       "       [0.50072723, 0.51461945, 0.68156287],\n",
       "       [0.56184808, 0.72777208, 0.4565355 ]])"
      ]
     },
     "execution_count": 25,
     "metadata": {},
     "output_type": "execute_result"
    }
   ],
   "source": [
    "new0n.dot(newgn.T)"
   ]
  },
  {
   "cell_type": "code",
   "execution_count": 26,
   "metadata": {},
   "outputs": [
    {
     "data": {
      "text/plain": [
       "array([0, 2, 1])"
      ]
     },
     "execution_count": 26,
     "metadata": {},
     "output_type": "execute_result"
    }
   ],
   "source": [
    "new0n.dot(newgn.T).argmax(1)"
   ]
  },
  {
   "cell_type": "code",
   "execution_count": 27,
   "metadata": {},
   "outputs": [
    {
     "data": {
      "text/plain": [
       "array([0, 1, 2])"
      ]
     },
     "execution_count": 27,
     "metadata": {},
     "output_type": "execute_result"
    }
   ],
   "source": [
    "idx = new0n.dot(newgn.T).argmax(1)\n",
    "new0n.dot(newgn[idx].T).argmax(1)"
   ]
  },
  {
   "cell_type": "code",
   "execution_count": 28,
   "metadata": {},
   "outputs": [],
   "source": [
    "ss, sg = sdf.get_aligned_sdfs(state[0], state[1])"
   ]
  },
  {
   "cell_type": "code",
   "execution_count": 29,
   "metadata": {},
   "outputs": [
    {
     "name": "stderr",
     "output_type": "stream",
     "text": [
      "Clipping input data to the valid range for imshow with RGB data ([0..1] for floats or [0..255] for integers).\n"
     ]
    },
    {
     "data": {
      "text/plain": [
       "<matplotlib.image.AxesImage at 0x7ff43c0d37b8>"
      ]
     },
     "execution_count": 29,
     "metadata": {},
     "output_type": "execute_result"
    },
    {
     "data": {
      "image/png": "[encoded data removed]",
      "text/plain": [
       "<Figure size 432x288 with 1 Axes>"
      ]
     },
     "metadata": {
      "needs_background": "light"
     },
     "output_type": "display_data"
    }
   ],
   "source": [
    "plt.imshow(ss.transpose([1,2,0]))"
   ]
  },
  {
   "cell_type": "code",
   "execution_count": 30,
   "metadata": {},
   "outputs": [
    {
     "name": "stderr",
     "output_type": "stream",
     "text": [
      "Clipping input data to the valid range for imshow with RGB data ([0..1] for floats or [0..255] for integers).\n"
     ]
    },
    {
     "data": {
      "text/plain": [
       "<matplotlib.image.AxesImage at 0x7ff43c0ab518>"
      ]
     },
     "execution_count": 30,
     "metadata": {},
     "output_type": "execute_result"
    },
    {
     "data": {
      "image/png": "[encoded data removed]",
      "text/plain": [
       "<Figure size 432x288 with 1 Axes>"
      ]
     },
     "metadata": {
      "needs_background": "light"
     },
     "output_type": "display_data"
    }
   ],
   "source": [
    "plt.imshow(sg.transpose([1,2,0]))"
   ]
  },
  {
   "cell_type": "code",
   "execution_count": 37,
   "metadata": {},
   "outputs": [],
   "source": [
    "import cv2"
   ]
  },
  {
   "cell_type": "code",
   "execution_count": 44,
   "metadata": {},
   "outputs": [
    {
     "data": {
      "text/plain": [
       "<matplotlib.image.AxesImage at 0x7f8294105ba8>"
      ]
     },
     "execution_count": 44,
     "metadata": {},
     "output_type": "execute_result"
    },
    {
     "data": {
      "image/png": "[encoded data removed]",
      "text/plain": [
       "<Figure size 432x288 with 1 Axes>"
      ]
     },
     "metadata": {
      "needs_background": "light"
     },
     "output_type": "display_data"
    }
   ],
   "source": [
    "plt.imshow(state[0][:,:,0])"
   ]
  },
  {
   "cell_type": "code",
   "execution_count": 45,
   "metadata": {},
   "outputs": [
    {
     "data": {
      "text/plain": [
       "<matplotlib.image.AxesImage at 0x7f82940d9b00>"
      ]
     },
     "execution_count": 45,
     "metadata": {},
     "output_type": "execute_result"
    },
    {
     "data": {
      "image/png": "[encoded data removed]",
      "text/plain": [
       "<Figure size 432x288 with 1 Axes>"
      ]
     },
     "metadata": {
      "needs_background": "light"
     },
     "output_type": "display_data"
    }
   ],
   "source": [
    "x = cv2.resize(state[0][:,:,0], (96, 96))\n",
    "plt.imshow(x)"
   ]
  },
  {
   "cell_type": "code",
   "execution_count": 48,
   "metadata": {},
   "outputs": [
    {
     "data": {
      "text/plain": [
       "(96, 96)"
      ]
     },
     "execution_count": 48,
     "metadata": {},
     "output_type": "execute_result"
    }
   ],
   "source": [
    "x.shape"
   ]
  },
  {
   "cell_type": "code",
   "execution_count": 50,
   "metadata": {},
   "outputs": [
    {
     "data": {
      "text/plain": [
       "<matplotlib.image.AxesImage at 0x7f821e204278>"
      ]
     },
     "execution_count": 50,
     "metadata": {},
     "output_type": "execute_result"
    },
    {
     "data": {
      "image/png": "[encoded data removed]",
      "text/plain": [
       "<Figure size 432x288 with 1 Axes>"
      ]
     },
     "metadata": {
      "needs_background": "light"
     },
     "output_type": "display_data"
    }
   ],
   "source": [
    "x = cv2.resize(s0[0], (96, 96))\n",
    "plt.imshow(x)"
   ]
  },
  {
   "cell_type": "code",
   "execution_count": 46,
   "metadata": {},
   "outputs": [
    {
     "data": {
      "text/plain": [
       "(3, 480, 480)"
      ]
     },
     "execution_count": 46,
     "metadata": {},
     "output_type": "execute_result"
    }
   ],
   "source": [
    "s0.shape"
   ]
  },
  {
   "cell_type": "code",
   "execution_count": 44,
   "metadata": {},
   "outputs": [
    {
     "data": {
      "text/plain": [
       "<matplotlib.image.AxesImage at 0x7ff42cf841d0>"
      ]
     },
     "execution_count": 44,
     "metadata": {},
     "output_type": "execute_result"
    },
    {
     "data": {
      "image/png": "[encoded data removed]",
      "text/plain": [
       "<Figure size 432x288 with 1 Axes>"
      ]
     },
     "metadata": {
      "needs_background": "light"
     },
     "output_type": "display_data"
    }
   ],
   "source": [
    "plt.imshow(s0[1]>0)"
   ]
  },
  {
   "cell_type": "code",
   "execution_count": 45,
   "metadata": {},
   "outputs": [],
   "source": [
    "[px], [py] = np.where(s0[1]==s0[1].max())"
   ]
  },
  {
   "cell_type": "code",
   "execution_count": 46,
   "metadata": {},
   "outputs": [
    {
     "data": {
      "text/plain": [
       "(68, 38)"
      ]
     },
     "execution_count": 46,
     "metadata": {},
     "output_type": "execute_result"
    }
   ],
   "source": [
    "px, py"
   ]
  },
  {
   "cell_type": "code",
   "execution_count": 47,
   "metadata": {},
   "outputs": [
    {
     "data": {
      "text/plain": [
       "<matplotlib.image.AxesImage at 0x7ff434085d68>"
      ]
     },
     "execution_count": 47,
     "metadata": {},
     "output_type": "execute_result"
    },
    {
     "data": {
      "image/png": "[encoded data removed]",
      "text/plain": [
       "<Figure size 432x288 with 1 Axes>"
      ]
     },
     "metadata": {
      "needs_background": "light"
     },
     "output_type": "display_data"
    }
   ],
   "source": [
    "z = np.zeros([96, 96])\n",
    "z[px, py] = 1\n",
    "plt.imshow(z)"
   ]
  },
  {
   "cell_type": "code",
   "execution_count": null,
   "metadata": {},
   "outputs": [],
   "source": []
  },
  {
   "cell_type": "code",
   "execution_count": null,
   "metadata": {},
   "outputs": [],
   "source": []
  },
  {
   "cell_type": "code",
   "execution_count": 2,
   "metadata": {},
   "outputs": [],
   "source": [
    "import numpy as np"
   ]
  },
  {
   "cell_type": "code",
   "execution_count": 35,
   "metadata": {},
   "outputs": [],
   "source": [
    "x = np.random.random([4, 5])\n",
    "y = np.random.random([3, 5])"
   ]
  },
  {
   "cell_type": "code",
   "execution_count": 36,
   "metadata": {},
   "outputs": [
    {
     "data": {
      "text/plain": [
       "array([[0.32760297, 0.0727951 , 0.18478654, 0.32826542, 0.42338854],\n",
       "       [0.80688885, 0.31765814, 0.46727169, 0.88493521, 0.08802706],\n",
       "       [0.35412284, 0.40088037, 0.57078666, 0.07389149, 0.65739878],\n",
       "       [0.88349289, 0.80072712, 0.42438855, 0.89977359, 0.27898198]])"
      ]
     },
     "execution_count": 36,
     "metadata": {},
     "output_type": "execute_result"
    }
   ],
   "source": [
    "x"
   ]
  },
  {
   "cell_type": "code",
   "execution_count": 37,
   "metadata": {},
   "outputs": [
    {
     "data": {
      "text/plain": [
       "array([[0.06244564, 0.29301556, 0.06735517, 0.69928376, 0.60767946],\n",
       "       [0.59664235, 0.22515784, 0.49826215, 0.71546733, 0.57226945],\n",
       "       [0.12389847, 0.39324521, 0.64589465, 0.07616206, 0.93208619]])"
      ]
     },
     "execution_count": 37,
     "metadata": {},
     "output_type": "execute_result"
    }
   ],
   "source": [
    "y"
   ]
  },
  {
   "cell_type": "code",
   "execution_count": 38,
   "metadata": {},
   "outputs": [
    {
     "data": {
      "text/plain": [
       "array([[0.541069  , 0.78107985, 0.60820445],\n",
       "       [0.84725169, 1.46928851, 0.67614541],\n",
       "       [0.62918191, 1.01502362, 1.18856766],\n",
       "       [1.11710923, 1.72228749, 1.02701967]])"
      ]
     },
     "execution_count": 38,
     "metadata": {},
     "output_type": "execute_result"
    }
   ],
   "source": [
    "x.dot(y.T)"
   ]
  },
  {
   "cell_type": "code",
   "execution_count": 39,
   "metadata": {},
   "outputs": [
    {
     "data": {
      "text/plain": [
       "array([1, 1, 2, 1])"
      ]
     },
     "execution_count": 39,
     "metadata": {},
     "output_type": "execute_result"
    }
   ],
   "source": [
    "x.dot(y.T).argmax(1)"
   ]
  },
  {
   "cell_type": "code",
   "execution_count": 40,
   "metadata": {},
   "outputs": [
    {
     "data": {
      "text/plain": [
       "array([3, 3, 2])"
      ]
     },
     "execution_count": 40,
     "metadata": {},
     "output_type": "execute_result"
    }
   ],
   "source": [
    "x.dot(y.T).argmax(0)"
   ]
  },
  {
   "cell_type": "code",
   "execution_count": 41,
   "metadata": {},
   "outputs": [
    {
     "data": {
      "text/plain": [
       "array([[0.88349289, 0.80072712, 0.42438855, 0.89977359, 0.27898198],\n",
       "       [0.88349289, 0.80072712, 0.42438855, 0.89977359, 0.27898198],\n",
       "       [0.35412284, 0.40088037, 0.57078666, 0.07389149, 0.65739878]])"
      ]
     },
     "execution_count": 41,
     "metadata": {},
     "output_type": "execute_result"
    }
   ],
   "source": [
    "x[x.dot(y.T).argmax(0)]"
   ]
  },
  {
   "cell_type": "code",
   "execution_count": 63,
   "metadata": {},
   "outputs": [],
   "source": [
    "xn = x / np.linalg.norm(x, axis=1).reshape(4, 1)\n",
    "yn = y / np.linalg.norm(y, axis=1).reshape(3, 1)"
   ]
  },
  {
   "cell_type": "code",
   "execution_count": 64,
   "metadata": {},
   "outputs": [
    {
     "data": {
      "text/plain": [
       "array([[0.68603269, 0.89357979, 0.79795091],\n",
       "       [0.66681712, 0.76665397, 0.7141124 ],\n",
       "       [0.67188906, 0.72310934, 0.73731868],\n",
       "       [0.68371166, 0.83301717, 0.91036777]])"
      ]
     },
     "execution_count": 64,
     "metadata": {},
     "output_type": "execute_result"
    }
   ],
   "source": [
    "xn.dot(yn.T)"
   ]
  },
  {
   "cell_type": "code",
   "execution_count": 65,
   "metadata": {},
   "outputs": [
    {
     "data": {
      "text/plain": [
       "array([1, 1, 2, 2])"
      ]
     },
     "execution_count": 65,
     "metadata": {},
     "output_type": "execute_result"
    }
   ],
   "source": [
    "xn.dot(yn.T).argmax(1)"
   ]
  },
  {
   "cell_type": "code",
   "execution_count": null,
   "metadata": {},
   "outputs": [],
   "source": []
  }
 ],
 "metadata": {
  "kernelspec": {
   "display_name": "Python 3",
   "language": "python",
   "name": "python3"
  },
  "language_info": {
   "codemirror_mode": {
    "name": "ipython",
    "version": 3
   },
   "file_extension": ".py",
   "mimetype": "text/x-python",
   "name": "python",
   "nbconvert_exporter": "python",
   "pygments_lexer": "ipython3",
   "version": "3.6.3"
  }
 },
 "nbformat": 4,
 "nbformat_minor": 2
}
