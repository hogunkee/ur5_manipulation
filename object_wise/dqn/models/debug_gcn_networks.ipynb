{
 "cells": [
  {
   "cell_type": "code",
   "execution_count": 1,
   "id": "121b0393",
   "metadata": {},
   "outputs": [],
   "source": [
    "import time\n",
    "from sdf_dqn import *"
   ]
  },
  {
   "cell_type": "code",
   "execution_count": 19,
   "id": "d5923427",
   "metadata": {},
   "outputs": [],
   "source": [
    "def count_params(model):\n",
    "    model_parameters = filter(lambda p: p.requires_grad, model.parameters())\n",
    "    params = sum([np.prod(p.size()) for p in model_parameters])\n",
    "    return params"
   ]
  },
  {
   "cell_type": "code",
   "execution_count": 2,
   "id": "0bbaf31a",
   "metadata": {},
   "outputs": [],
   "source": [
    "bs = 7\n",
    "nb = 3\n",
    "h, w = 96, 96\n",
    "\n",
    "x = torch.ones([bs, 2*nb, h, w])"
   ]
  },
  {
   "cell_type": "code",
   "execution_count": 21,
   "id": "101ad07a",
   "metadata": {},
   "outputs": [
    {
     "data": {
      "text/plain": [
       "503048"
      ]
     },
     "execution_count": 21,
     "metadata": {},
     "output_type": "execute_result"
    }
   ],
   "source": [
    "cnn1 = SDFCNNQNetV1(3, 8, 16, False)\n",
    "count_params(cnn1)"
   ]
  },
  {
   "cell_type": "code",
   "execution_count": 26,
   "id": "6ddbd7b1",
   "metadata": {},
   "outputs": [
    {
     "name": "stdout",
     "output_type": "stream",
     "text": [
      "0.3349130153656006 seconds.\n"
     ]
    }
   ],
   "source": [
    "st = time.time()\n",
    "cnn1(x).shape\n",
    "et = time.time()\n",
    "print(et - st, 'seconds.')"
   ]
  },
  {
   "cell_type": "code",
   "execution_count": 22,
   "id": "e5665a7c",
   "metadata": {},
   "outputs": [
    {
     "data": {
      "text/plain": [
       "498360"
      ]
     },
     "execution_count": 22,
     "metadata": {},
     "output_type": "execute_result"
    }
   ],
   "source": [
    "cnn2 = SDFCNNQNetV2(3, 8, 16, False)\n",
    "count_params(cnn2)"
   ]
  },
  {
   "cell_type": "code",
   "execution_count": 27,
   "id": "547d024f",
   "metadata": {},
   "outputs": [
    {
     "name": "stdout",
     "output_type": "stream",
     "text": [
      "0.8609120845794678 seconds.\n"
     ]
    }
   ],
   "source": [
    "st = time.time()\n",
    "cnn2(x).shape\n",
    "et = time.time()\n",
    "print(et - st, 'seconds.')"
   ]
  },
  {
   "cell_type": "code",
   "execution_count": 23,
   "id": "165f2425",
   "metadata": {},
   "outputs": [
    {
     "data": {
      "text/plain": [
       "928584"
      ]
     },
     "execution_count": 23,
     "metadata": {},
     "output_type": "execute_result"
    }
   ],
   "source": [
    "gcn1 = SDFGCNQNetV1(3, 8, 16)\n",
    "count_params(gcn1)"
   ]
  },
  {
   "cell_type": "code",
   "execution_count": 28,
   "id": "70d0aefc",
   "metadata": {},
   "outputs": [
    {
     "name": "stdout",
     "output_type": "stream",
     "text": [
      "3.4843060970306396 seconds.\n"
     ]
    }
   ],
   "source": [
    "st = time.time()\n",
    "gcn1(x).shape\n",
    "et = time.time()\n",
    "print(et - st, 'seconds.')"
   ]
  },
  {
   "cell_type": "code",
   "execution_count": 24,
   "id": "6303d746",
   "metadata": {},
   "outputs": [
    {
     "data": {
      "text/plain": [
       "928872"
      ]
     },
     "execution_count": 24,
     "metadata": {},
     "output_type": "execute_result"
    }
   ],
   "source": [
    "gcn2 = SDFGCNQNetV2(3, 8, 16)\n",
    "count_params(gcn2)"
   ]
  },
  {
   "cell_type": "code",
   "execution_count": 29,
   "id": "7930805f",
   "metadata": {},
   "outputs": [
    {
     "name": "stdout",
     "output_type": "stream",
     "text": [
      "1.7209579944610596 seconds.\n"
     ]
    }
   ],
   "source": [
    "st = time.time()\n",
    "gcn2(x).shape\n",
    "et = time.time()\n",
    "print(et - st, 'seconds.')"
   ]
  },
  {
   "cell_type": "code",
   "execution_count": null,
   "id": "9dd9d0ec",
   "metadata": {},
   "outputs": [],
   "source": []
  }
 ],
 "metadata": {
  "kernelspec": {
   "display_name": "Python 3",
   "language": "python",
   "name": "python3"
  },
  "language_info": {
   "codemirror_mode": {
    "name": "ipython",
    "version": 3
   },
   "file_extension": ".py",
   "mimetype": "text/x-python",
   "name": "python",
   "nbconvert_exporter": "python",
   "pygments_lexer": "ipython3",
   "version": "3.6.13"
  }
 },
 "nbformat": 4,
 "nbformat_minor": 5
}
