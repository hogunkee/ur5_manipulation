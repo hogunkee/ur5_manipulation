{
 "cells": [
  {
   "cell_type": "code",
   "execution_count": 1,
   "id": "fafab1b1",
   "metadata": {},
   "outputs": [],
   "source": [
    "import time\n",
    "from sdf_dqn import *"
   ]
  },
  {
   "cell_type": "code",
   "execution_count": 2,
   "id": "d7c45ced",
   "metadata": {},
   "outputs": [],
   "source": [
    "def count_params(model):\n",
    "    model_parameters = filter(lambda p: p.requires_grad, model.parameters())\n",
    "    params = sum([np.prod(p.size()) for p in model_parameters])\n",
    "    return params"
   ]
  },
  {
   "cell_type": "code",
   "execution_count": 3,
   "id": "35c439d1",
   "metadata": {},
   "outputs": [
    {
     "name": "stdout",
     "output_type": "stream",
     "text": [
      "torch.Size([7, 6, 96, 96])\n"
     ]
    }
   ],
   "source": [
    "dtype = torch.cuda.FloatTensor if torch.cuda.is_available() else torch.FloatTensor\n",
    "bs = 7\n",
    "nb = 3\n",
    "h, w = 96, 96\n",
    "x = torch.ones([bs, 2*nb, h, w]).type(dtype)\n",
    "print(x.shape)"
   ]
  },
  {
   "cell_type": "code",
   "execution_count": 4,
   "id": "b81f21c3",
   "metadata": {},
   "outputs": [
    {
     "name": "stdout",
     "output_type": "stream",
     "text": [
      "torch.Size([7, 4, 96, 96])\n"
     ]
    }
   ],
   "source": [
    "nb = 2\n",
    "y = torch.ones([bs, 2*nb, h, w]).type(dtype)\n",
    "print(y.shape)"
   ]
  },
  {
   "cell_type": "code",
   "execution_count": 5,
   "id": "d051b453",
   "metadata": {},
   "outputs": [
    {
     "data": {
      "text/plain": [
       "503048"
      ]
     },
     "execution_count": 5,
     "metadata": {},
     "output_type": "execute_result"
    }
   ],
   "source": [
    "cnn1 = SDFCNNQNetV1(3, 8, 16, False).type(dtype)\n",
    "count_params(cnn1)"
   ]
  },
  {
   "cell_type": "code",
   "execution_count": 6,
   "id": "bd166a6e",
   "metadata": {},
   "outputs": [
    {
     "name": "stdout",
     "output_type": "stream",
     "text": [
      "torch.Size([7, 3, 8])\n",
      "0.32205986976623535 seconds.\n"
     ]
    }
   ],
   "source": [
    "st = time.time()\n",
    "print(cnn1(x).shape)\n",
    "et = time.time()\n",
    "print(et - st, 'seconds.')"
   ]
  },
  {
   "cell_type": "code",
   "execution_count": 7,
   "id": "571c6dd5",
   "metadata": {},
   "outputs": [
    {
     "data": {
      "text/plain": [
       "498360"
      ]
     },
     "execution_count": 7,
     "metadata": {},
     "output_type": "execute_result"
    }
   ],
   "source": [
    "cnn2 = SDFCNNQNetV2(3, 8, 16, False).type(dtype)\n",
    "count_params(cnn2)"
   ]
  },
  {
   "cell_type": "code",
   "execution_count": 8,
   "id": "e0316611",
   "metadata": {},
   "outputs": [
    {
     "name": "stdout",
     "output_type": "stream",
     "text": [
      "torch.Size([7, 3, 8])\n",
      "0.8759570121765137 seconds.\n"
     ]
    }
   ],
   "source": [
    "st = time.time()\n",
    "print(cnn2(x).shape)\n",
    "et = time.time()\n",
    "print(et - st, 'seconds.')"
   ]
  },
  {
   "cell_type": "code",
   "execution_count": 9,
   "id": "c89a5d20",
   "metadata": {},
   "outputs": [
    {
     "data": {
      "text/plain": [
       "928584"
      ]
     },
     "execution_count": 9,
     "metadata": {},
     "output_type": "execute_result"
    }
   ],
   "source": [
    "gcn1 = SDFGCNQNetV1(3, 8, 16).type(dtype)\n",
    "count_params(gcn1)"
   ]
  },
  {
   "cell_type": "code",
   "execution_count": 10,
   "id": "add4ffdc",
   "metadata": {},
   "outputs": [
    {
     "name": "stdout",
     "output_type": "stream",
     "text": [
      "torch.Size([7, 3, 8])\n",
      "3.4590017795562744 seconds.\n"
     ]
    }
   ],
   "source": [
    "st = time.time()\n",
    "print(gcn1(x).shape)\n",
    "et = time.time()\n",
    "print(et - st, 'seconds.')"
   ]
  },
  {
   "cell_type": "code",
   "execution_count": 11,
   "id": "c776d9d8",
   "metadata": {},
   "outputs": [
    {
     "name": "stdout",
     "output_type": "stream",
     "text": [
      "torch.Size([7, 2, 8])\n",
      "2.241379976272583 seconds.\n"
     ]
    }
   ],
   "source": [
    "st = time.time()\n",
    "print(gcn1(y).shape)\n",
    "et = time.time()\n",
    "print(et - st, 'seconds.')"
   ]
  },
  {
   "cell_type": "code",
   "execution_count": 12,
   "id": "0f04eee9",
   "metadata": {},
   "outputs": [
    {
     "data": {
      "text/plain": [
       "928872"
      ]
     },
     "execution_count": 12,
     "metadata": {},
     "output_type": "execute_result"
    }
   ],
   "source": [
    "gcn2 = SDFGCNQNetV2(3, 8, 16).type(dtype)\n",
    "count_params(gcn2)"
   ]
  },
  {
   "cell_type": "code",
   "execution_count": 13,
   "id": "4018c918",
   "metadata": {},
   "outputs": [
    {
     "name": "stdout",
     "output_type": "stream",
     "text": [
      "torch.Size([7, 3, 8])\n",
      "1.6769487857818604 seconds.\n"
     ]
    }
   ],
   "source": [
    "st = time.time()\n",
    "print(gcn2(x).shape)\n",
    "et = time.time()\n",
    "print(et - st, 'seconds.')"
   ]
  },
  {
   "cell_type": "code",
   "execution_count": 14,
   "id": "52aea6bd",
   "metadata": {},
   "outputs": [
    {
     "name": "stdout",
     "output_type": "stream",
     "text": [
      "torch.Size([7, 2, 8])\n",
      "1.1203069686889648 seconds.\n"
     ]
    }
   ],
   "source": [
    "st = time.time()\n",
    "print(gcn2(y).shape)\n",
    "et = time.time()\n",
    "print(et - st, 'seconds.')"
   ]
  }
 ],
 "metadata": {
  "kernelspec": {
   "display_name": "Python 3",
   "language": "python",
   "name": "python3"
  },
  "language_info": {
   "codemirror_mode": {
    "name": "ipython",
    "version": 3
   },
   "file_extension": ".py",
   "mimetype": "text/x-python",
   "name": "python",
   "nbconvert_exporter": "python",
   "pygments_lexer": "ipython3",
   "version": "3.6.13"
  }
 },
 "nbformat": 4,
 "nbformat_minor": 5
}
