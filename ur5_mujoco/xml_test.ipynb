{
 "cells": [
  {
   "cell_type": "code",
   "execution_count": 1,
   "id": "a31a021f-e0c7-4870-84ba-9cfe4eca96e1",
   "metadata": {},
   "outputs": [],
   "source": [
    "from realobjects_env import *"
   ]
  },
  {
   "cell_type": "code",
   "execution_count": 2,
   "id": "fb24346f-66ac-4671-8ed4-35639651a537",
   "metadata": {},
   "outputs": [
    {
     "name": "stdout",
     "output_type": "stream",
     "text": [
      "Creating window glfw\n"
     ]
    }
   ],
   "source": [
    "env = UR5Env(camera_height=512, camera_width=512, dataset=\"test\", small=True, render=False, gpu=0)"
   ]
  },
  {
   "cell_type": "code",
   "execution_count": 5,
   "id": "c0bf93cf-a59d-4286-8ab1-cba15252631b",
   "metadata": {},
   "outputs": [
    {
     "data": {
      "text/plain": [
       "<mujoco_py.cymj.MjRenderContextOffscreen at 0x556e0e5941c8>"
      ]
     },
     "execution_count": 5,
     "metadata": {},
     "output_type": "execute_result"
    }
   ],
   "source": [
    "env.viewer"
   ]
  },
  {
   "cell_type": "code",
   "execution_count": 3,
   "id": "bbbe8a52-c350-4ffb-bf6d-35f16ea12367",
   "metadata": {},
   "outputs": [],
   "source": [
    "sim = MjSim(env.mjpy_model, nsubsteps=20)"
   ]
  },
  {
   "cell_type": "code",
   "execution_count": 7,
   "id": "4afd7eb3-f0cb-4ee5-a9f6-cf6cf02bc85d",
   "metadata": {},
   "outputs": [
    {
     "name": "stdout",
     "output_type": "stream",
     "text": [
      "Creating window glfw\n"
     ]
    }
   ],
   "source": [
    "viewer = MjViewer(sim)"
   ]
  },
  {
   "cell_type": "code",
   "execution_count": 4,
   "id": "24e0b39d-c2ec-4a04-afae-4c6ff29b2b6b",
   "metadata": {},
   "outputs": [
    {
     "name": "stdout",
     "output_type": "stream",
     "text": [
      "Creating window glfw\n"
     ]
    }
   ],
   "source": [
    "viewer = MjRenderContextOffscreen(sim, 0)"
   ]
  },
  {
   "cell_type": "code",
   "execution_count": 11,
   "id": "df318c9f-6eb4-4bb5-a749-ed7653dfbf63",
   "metadata": {},
   "outputs": [
    {
     "data": {
      "text/plain": [
       "<glfw.LP__GLFWwindow at 0x7f556676df28>"
      ]
     },
     "execution_count": 11,
     "metadata": {},
     "output_type": "execute_result"
    }
   ],
   "source": [
    "viewer.opengl_context.window"
   ]
  },
  {
   "cell_type": "code",
   "execution_count": 12,
   "id": "1033cdd7-10cb-4006-91fb-0e7ee1cc749f",
   "metadata": {},
   "outputs": [],
   "source": [
    "glfw.destroy_window(viewer.opengl_context.window)"
   ]
  },
  {
   "cell_type": "code",
   "execution_count": 8,
   "id": "5dc02fd5-2c06-4b27-9ead-9054388eb765",
   "metadata": {},
   "outputs": [
    {
     "data": {
      "text/plain": [
       "['__class__',\n",
       " '__delattr__',\n",
       " '__dir__',\n",
       " '__doc__',\n",
       " '__eq__',\n",
       " '__format__',\n",
       " '__ge__',\n",
       " '__getattribute__',\n",
       " '__gt__',\n",
       " '__hash__',\n",
       " '__init__',\n",
       " '__init_subclass__',\n",
       " '__le__',\n",
       " '__lt__',\n",
       " '__ne__',\n",
       " '__new__',\n",
       " '__pyx_vtable__',\n",
       " '__reduce__',\n",
       " '__reduce_ex__',\n",
       " '__repr__',\n",
       " '__setattr__',\n",
       " '__setstate__',\n",
       " '__sizeof__',\n",
       " '__str__',\n",
       " '__subclasshook__',\n",
       " '_render_context_offscreen',\n",
       " '_render_context_window',\n",
       " '_udd_callback',\n",
       " 'add_render_context',\n",
       " 'data',\n",
       " 'extras',\n",
       " 'forward',\n",
       " 'get_state',\n",
       " 'model',\n",
       " 'nsubsteps',\n",
       " 'ray',\n",
       " 'ray_fast_group',\n",
       " 'ray_fast_nogroup',\n",
       " 'render',\n",
       " 'render_callback',\n",
       " 'render_contexts',\n",
       " 'reset',\n",
       " 'save',\n",
       " 'set_constants',\n",
       " 'set_state',\n",
       " 'set_state_from_flattened',\n",
       " 'set_substep_callback',\n",
       " 'step',\n",
       " 'step_udd',\n",
       " 'substep_callback',\n",
       " 'substep_callback_ptr',\n",
       " 'udd_callback',\n",
       " 'udd_state']"
      ]
     },
     "execution_count": 8,
     "metadata": {},
     "output_type": "execute_result"
    }
   ],
   "source": [
    "dir(viewer.sim)"
   ]
  },
  {
   "cell_type": "code",
   "execution_count": 7,
   "id": "665c469f-26b5-492f-b137-7a6056a660f8",
   "metadata": {},
   "outputs": [
    {
     "data": {
      "text/plain": [
       "['__class__',\n",
       " '__delattr__',\n",
       " '__dir__',\n",
       " '__doc__',\n",
       " '__eq__',\n",
       " '__format__',\n",
       " '__ge__',\n",
       " '__getattribute__',\n",
       " '__gt__',\n",
       " '__hash__',\n",
       " '__init__',\n",
       " '__init_subclass__',\n",
       " '__le__',\n",
       " '__lt__',\n",
       " '__ne__',\n",
       " '__new__',\n",
       " '__pyx_vtable__',\n",
       " '__reduce__',\n",
       " '__reduce_ex__',\n",
       " '__repr__',\n",
       " '__setattr__',\n",
       " '__setstate__',\n",
       " '__sizeof__',\n",
       " '__str__',\n",
       " '__subclasshook__',\n",
       " '_render_context_offscreen',\n",
       " '_render_context_window',\n",
       " '_udd_callback',\n",
       " 'add_render_context',\n",
       " 'data',\n",
       " 'extras',\n",
       " 'forward',\n",
       " 'get_state',\n",
       " 'model',\n",
       " 'nsubsteps',\n",
       " 'ray',\n",
       " 'ray_fast_group',\n",
       " 'ray_fast_nogroup',\n",
       " 'render',\n",
       " 'render_callback',\n",
       " 'render_contexts',\n",
       " 'reset',\n",
       " 'save',\n",
       " 'set_constants',\n",
       " 'set_state',\n",
       " 'set_state_from_flattened',\n",
       " 'set_substep_callback',\n",
       " 'step',\n",
       " 'step_udd',\n",
       " 'substep_callback',\n",
       " 'substep_callback_ptr',\n",
       " 'udd_callback',\n",
       " 'udd_state']"
      ]
     },
     "execution_count": 7,
     "metadata": {},
     "output_type": "execute_result"
    }
   ],
   "source": [
    "dir(sim)"
   ]
  },
  {
   "cell_type": "code",
   "execution_count": 6,
   "id": "e45c0e0d-11ed-41cd-aeb1-963b91684b58",
   "metadata": {},
   "outputs": [],
   "source": [
    "env.destroy_viewer()"
   ]
  },
  {
   "cell_type": "code",
   "execution_count": 7,
   "id": "ff16e5f4-82fc-49d3-a1c7-3b6d9e804ec1",
   "metadata": {},
   "outputs": [],
   "source": [
    "env.render=False"
   ]
  },
  {
   "cell_type": "code",
   "execution_count": null,
   "id": "a87afdce-e8d4-47f4-85e3-5ac4fa703843",
   "metadata": {},
   "outputs": [],
   "source": [
    "env.reset_viewer()"
   ]
  },
  {
   "cell_type": "code",
   "execution_count": null,
   "id": "c1b3da6a-d072-4060-b895-45ef2d0b8d81",
   "metadata": {},
   "outputs": [],
   "source": []
  },
  {
   "cell_type": "code",
   "execution_count": 2,
   "id": "f8231e9a-3913-4ac7-9e68-36facf5b1581",
   "metadata": {},
   "outputs": [
    {
     "name": "stdout",
     "output_type": "stream",
     "text": [
      "[0.16483334 0.00552883 0.2       ] [-0.12180357 -0.56144786  0.4698514  -0.6702088 ]\n",
      "[-0.08525138 -0.01716076  0.2       ] [-0.84226507 -0.37209746  0.32515588 -0.21542217]\n",
      "[ 0.13597775 -0.07510119  0.2       ] [-0.98217857 -0.00102406 -0.17593625  0.06611104]\n",
      "[-0.17160304  0.22966549  0.2       ] [ 0.43780994 -0.8879973   0.08467118  0.11231212]\n",
      "[0.04332359 0.07668072 0.2       ] [-0.15729995 -0.22801901  0.5814612  -0.7649621 ]\n",
      "Creating window glfw\n"
     ]
    }
   ],
   "source": [
    "env = UR5Env(render=True)\n",
    "env.move_to_pos()"
   ]
  },
  {
   "cell_type": "code",
   "execution_count": 6,
   "id": "293edd9f-dda8-4e10-8ad5-bcd7e3221fcb",
   "metadata": {},
   "outputs": [
    {
     "name": "stdout",
     "output_type": "stream",
     "text": [
      "compiler {'angle': 'radian'}\n",
      "size {'njmax': '5000', 'nconmax': '2000'}\n",
      "option {'timestep': '0.002'}\n",
      "option {'gravity': '0 0 -9.8'}\n",
      "default {'class': 'gripper'}\n",
      "asset {}\n",
      "worldbody {}\n",
      "equality {}\n",
      "actuator {}\n",
      "contact {}\n",
      "sensor {}\n"
     ]
    }
   ],
   "source": [
    "root = env.model.root\n",
    "for c in root:\n",
    "    print(c.tag, c.attrib)"
   ]
  },
  {
   "cell_type": "code",
   "execution_count": 7,
   "id": "0b9ca673-a81a-4fae-a98d-9a1e12b214c1",
   "metadata": {},
   "outputs": [
    {
     "name": "stdout",
     "output_type": "stream",
     "text": [
      "body {'mocap': 'true', 'name': 'robot0:mocap', 'pos': '0 0 0'}\n",
      "body {'name': 'box_link', 'pos': '0 0 0.435'}\n",
      "body {'name': 'base_link', 'pos': '0 -0.4 0.435'}\n",
      "body {'name': 'shoulder_link', 'pos': '0 0 0.089159', 'quat': '0 0 0 1'}\n",
      "body {'name': 'upper_arm_link', 'pos': '0 0 0', 'quat': '0.707107 0.707107 0 0'}\n",
      "body {'name': 'forearm_link', 'pos': '-0.425 0 0'}\n",
      "body {'name': 'wrist_1_link', 'pos': '-0.39225 0 0.10915'}\n",
      "body {'name': 'wrist_2_link', 'pos': '0 -0.09465 -1.9413e-11', 'quat': '0.707107 0.707107 0 0'}\n",
      "body {'name': 'wrist_3_link', 'pos': '0 0.0823 -1.688e-11', 'quat': '0.707107 -0.707107 0 0'}\n",
      "body {'name': 'left_outer_knuckle', 'pos': '-0.0306011 0 0.062904', 'quat': '0.707107 0 0 0.707107', 'childclass': 'gripper'}\n",
      "body {'name': 'left_inner_finger', 'pos': '0 0.0376 0.043'}\n",
      "body {'name': 'left_inner_knuckle', 'pos': '-0.0127 0 0.06942', 'quat': '0.707107 0 0 0.707107', 'childclass': 'gripper'}\n",
      "body {'name': 'right_outer_knuckle', 'pos': '0.0306011 0 0.062904', 'quat': '0.707107 0 0 -0.707107', 'childclass': 'gripper'}\n",
      "body {'name': 'right_inner_finger', 'pos': '0 0.0376 0.043'}\n",
      "body {'name': 'right_inner_knuckle', 'pos': '0.0127 0 0.06942', 'quat': '0.707107 0 0 -0.707107', 'childclass': 'gripper'}\n",
      "body {'name': 'mug_0', 'pos': '0.16483334225432744 0.005528834052906231 0.2', 'quat': '-0.12180357426404953 -0.5614478588104248 0.46985140442848206 -0.6702088117599487'}\n",
      "body {'name': 'milk_0', 'pos': '-0.08525138306852016 -0.0171607601857406 0.2', 'quat': '-0.8422650694847107 -0.3720974624156952 0.3251558840274811 -0.21542216837406158'}\n",
      "body {'name': 'lemon_0', 'pos': '0.1359777487309306 -0.07510118579365557 0.2', 'quat': '-0.9821785688400269 -0.0010240573901683092 -0.1759362518787384 0.06611104309558868'}\n",
      "body {'name': 'concaveobj_0', 'pos': '-0.17160303941439403 0.22966548847149168 0.2', 'quat': '0.43780994415283203 -0.8879973292350769 0.08467118442058563 0.11231211572885513'}\n",
      "body {'name': 'cereal_0', 'pos': '0.04332359291808441 0.07668072183514699 0.2', 'quat': '-0.1572999507188797 -0.22801901400089264 0.5814611911773682 -0.7649620771408081'}\n"
     ]
    }
   ],
   "source": [
    "for b in root.iter('body'):\n",
    "    print(b.tag, b.attrib)"
   ]
  },
  {
   "cell_type": "code",
   "execution_count": 11,
   "id": "e10bd617-058a-45f0-812b-06e446e9786c",
   "metadata": {},
   "outputs": [
    {
     "name": "stdout",
     "output_type": "stream",
     "text": [
      "geom {'pos': '0 0 0', 'mesh': 'mug_mesh', 'type': 'mesh', 'solimp': '0.998 0.998 0.001', 'solref': '0.001 1', 'density': '100', 'friction': '0.95 0.3 0.1', 'rgba': '0.878 0 0 1', 'group': '1', 'condim': '4', 'name': 'mug_0'}\n",
      "joint {'name': 'mug_0', 'type': 'free', 'damping': '0.0005'}\n",
      "\n",
      "geom {'pos': '0 0 0', 'mesh': 'milk_mesh', 'type': 'mesh', 'solimp': '0.998 0.998 0.001', 'solref': '0.001 1', 'density': '100', 'friction': '0.95 0.3 0.1', 'rgba': '0.85 0.85 1 1', 'group': '1', 'condim': '4', 'name': 'milk_0'}\n",
      "joint {'name': 'milk_0', 'type': 'free', 'damping': '0.0005'}\n",
      "\n",
      "geom {'pos': '0 0 0', 'mesh': 'lemon_mesh', 'type': 'mesh', 'solimp': '0.998 0.998 0.001', 'solref': '0.001 1', 'density': '50', 'friction': '0.95 0.3 0.1', 'material': 'lemon', 'group': '1', 'condim': '4', 'name': 'lemon_0'}\n",
      "joint {'name': 'lemon_0', 'type': 'free', 'damping': '0.0005'}\n",
      "\n",
      "geom {'pos': '-0.013 0 0', 'size': '0.012 0.025 0.017', 'type': 'box', 'solimp': '0.998 0.998 0.001', 'solref': '0.02 1', 'density': '100', 'friction': '0.95 0.3 0.2', 'rgba': '0 0 1 1', 'group': '1', 'condim': '4', 'name': 'concaveobj_0-0'}\n",
      "geom {'pos': '0.0 0.013 0', 'size': '0.025 0.012 0.017', 'type': 'box', 'solimp': '0.998 0.998 0.001', 'solref': '0.02 1', 'density': '100', 'friction': '0.95 0.3 0.1', 'rgba': '0 0 1 1', 'group': '1', 'condim': '4', 'name': 'concaveobj_0-1'}\n",
      "joint {'name': 'concaveobj_0', 'type': 'free', 'damping': '0.0005'}\n",
      "\n",
      "geom {'pos': '0 0 0', 'mesh': 'cereal_mesh', 'type': 'mesh', 'solimp': '0.998 0.998 0.001', 'solref': '0.001 1', 'density': '150', 'friction': '0.95 0.3 0.1', 'material': 'cereal', 'group': '1', 'condim': '4', 'name': 'cereal_0'}\n",
      "joint {'name': 'cereal_0', 'type': 'free', 'damping': '0.0005'}\n",
      "\n"
     ]
    }
   ],
   "source": [
    "for o in env.model.objects:\n",
    "    for c in o:\n",
    "        print(c.tag, c.attrib)\n",
    "    print()"
   ]
  },
  {
   "cell_type": "code",
   "execution_count": 14,
   "id": "ef8ef14a-6031-456a-815a-8eba57f13999",
   "metadata": {},
   "outputs": [],
   "source": [
    "env.model.objects[0].find('geom').set('mass', '0.02')"
   ]
  },
  {
   "cell_type": "code",
   "execution_count": 17,
   "id": "152332dd-1094-46df-a22e-44db728bc070",
   "metadata": {},
   "outputs": [],
   "source": [
    "for o in env.model.objects:\n",
    "    o.find('geom').set('mass', '0.02')"
   ]
  },
  {
   "cell_type": "code",
   "execution_count": 18,
   "id": "ad3cb6c0-57a3-43de-a6f8-50082390e758",
   "metadata": {},
   "outputs": [
    {
     "name": "stdout",
     "output_type": "stream",
     "text": [
      "geom {'pos': '0 0 0', 'mesh': 'mug_mesh', 'type': 'mesh', 'solimp': '0.998 0.998 0.001', 'solref': '0.001 1', 'density': '100', 'friction': '0.95 0.3 0.1', 'rgba': '0.878 0 0 1', 'group': '1', 'condim': '4', 'name': 'mug_0', 'mass': '0.02'}\n",
      "joint {'name': 'mug_0', 'type': 'free', 'damping': '0.0005'}\n",
      "\n",
      "geom {'pos': '0 0 0', 'mesh': 'milk_mesh', 'type': 'mesh', 'solimp': '0.998 0.998 0.001', 'solref': '0.001 1', 'density': '100', 'friction': '0.95 0.3 0.1', 'rgba': '0.85 0.85 1 1', 'group': '1', 'condim': '4', 'name': 'milk_0', 'mass': '0.02'}\n",
      "joint {'name': 'milk_0', 'type': 'free', 'damping': '0.0005'}\n",
      "\n",
      "geom {'pos': '0 0 0', 'mesh': 'lemon_mesh', 'type': 'mesh', 'solimp': '0.998 0.998 0.001', 'solref': '0.001 1', 'density': '50', 'friction': '0.95 0.3 0.1', 'material': 'lemon', 'group': '1', 'condim': '4', 'name': 'lemon_0', 'mass': '0.02'}\n",
      "joint {'name': 'lemon_0', 'type': 'free', 'damping': '0.0005'}\n",
      "\n",
      "geom {'pos': '-0.013 0 0', 'size': '0.012 0.025 0.017', 'type': 'box', 'solimp': '0.998 0.998 0.001', 'solref': '0.02 1', 'density': '100', 'friction': '0.95 0.3 0.2', 'rgba': '0 0 1 1', 'group': '1', 'condim': '4', 'name': 'concaveobj_0-0', 'mass': '0.02'}\n",
      "geom {'pos': '0.0 0.013 0', 'size': '0.025 0.012 0.017', 'type': 'box', 'solimp': '0.998 0.998 0.001', 'solref': '0.02 1', 'density': '100', 'friction': '0.95 0.3 0.1', 'rgba': '0 0 1 1', 'group': '1', 'condim': '4', 'name': 'concaveobj_0-1'}\n",
      "joint {'name': 'concaveobj_0', 'type': 'free', 'damping': '0.0005'}\n",
      "\n",
      "geom {'pos': '0 0 0', 'mesh': 'cereal_mesh', 'type': 'mesh', 'solimp': '0.998 0.998 0.001', 'solref': '0.001 1', 'density': '150', 'friction': '0.95 0.3 0.1', 'material': 'cereal', 'group': '1', 'condim': '4', 'name': 'cereal_0', 'mass': '0.02'}\n",
      "joint {'name': 'cereal_0', 'type': 'free', 'damping': '0.0005'}\n",
      "\n"
     ]
    }
   ],
   "source": [
    "for o in env.model.objects:\n",
    "    for c in o:\n",
    "        print(c.tag, c.attrib)\n",
    "    print()"
   ]
  },
  {
   "cell_type": "code",
   "execution_count": null,
   "id": "a5d7d2db-050e-4155-885e-4c85dd032339",
   "metadata": {},
   "outputs": [],
   "source": []
  },
  {
   "cell_type": "code",
   "execution_count": null,
   "id": "6e5ecf8a-ee78-42c9-80c7-c484bcbf4ae0",
   "metadata": {},
   "outputs": [],
   "source": []
  },
  {
   "cell_type": "code",
   "execution_count": 8,
   "id": "7b6b98de-ee5e-4d2a-84dd-c8e6d2b0c810",
   "metadata": {},
   "outputs": [
    {
     "name": "stderr",
     "output_type": "stream",
     "text": [
      "\n",
      "Bad key savefig.frameon in file /home/gun/anaconda3/envs/py3_gpu/lib/python3.6/site-packages/matplotlib/mpl-data/stylelib/_classic_test.mplstyle, line 421 ('savefig.frameon : True')\n",
      "You probably need to get an updated matplotlibrc file from\n",
      "https://github.com/matplotlib/matplotlib/blob/v3.3.4/matplotlibrc.template\n",
      "or from the matplotlib source distribution\n",
      "\n",
      "Bad key verbose.level in file /home/gun/anaconda3/envs/py3_gpu/lib/python3.6/site-packages/matplotlib/mpl-data/stylelib/_classic_test.mplstyle, line 472 ('verbose.level  : silent      # one of silent, helpful, debug, debug-annoying')\n",
      "You probably need to get an updated matplotlibrc file from\n",
      "https://github.com/matplotlib/matplotlib/blob/v3.3.4/matplotlibrc.template\n",
      "or from the matplotlib source distribution\n",
      "\n",
      "Bad key verbose.fileo in file /home/gun/anaconda3/envs/py3_gpu/lib/python3.6/site-packages/matplotlib/mpl-data/stylelib/_classic_test.mplstyle, line 473 ('verbose.fileo  : sys.stdout  # a log filename, sys.stdout or sys.stderr')\n",
      "You probably need to get an updated matplotlibrc file from\n",
      "https://github.com/matplotlib/matplotlib/blob/v3.3.4/matplotlibrc.template\n",
      "or from the matplotlib source distribution\n",
      "In /home/gun/anaconda3/envs/py3_gpu/lib/python3.6/site-packages/matplotlib/mpl-data/stylelib/_classic_test.mplstyle: \n",
      "The text.latex.preview rcparam was deprecated in Matplotlib 3.3 and will be removed two minor releases later.\n",
      "In /home/gun/anaconda3/envs/py3_gpu/lib/python3.6/site-packages/matplotlib/mpl-data/stylelib/_classic_test.mplstyle: \n",
      "The mathtext.fallback_to_cm rcparam was deprecated in Matplotlib 3.3 and will be removed two minor releases later.\n",
      "In /home/gun/anaconda3/envs/py3_gpu/lib/python3.6/site-packages/matplotlib/mpl-data/stylelib/_classic_test.mplstyle: Support for setting the 'mathtext.fallback_to_cm' rcParam is deprecated since 3.3 and will be removed two minor releases later; use 'mathtext.fallback : 'cm' instead.\n",
      "In /home/gun/anaconda3/envs/py3_gpu/lib/python3.6/site-packages/matplotlib/mpl-data/stylelib/_classic_test.mplstyle: \n",
      "The validate_bool_maybe_none function was deprecated in Matplotlib 3.3 and will be removed two minor releases later.\n",
      "In /home/gun/anaconda3/envs/py3_gpu/lib/python3.6/site-packages/matplotlib/mpl-data/stylelib/_classic_test.mplstyle: \n",
      "The savefig.jpeg_quality rcparam was deprecated in Matplotlib 3.3 and will be removed two minor releases later.\n",
      "In /home/gun/anaconda3/envs/py3_gpu/lib/python3.6/site-packages/matplotlib/mpl-data/stylelib/_classic_test.mplstyle: \n",
      "The keymap.all_axes rcparam was deprecated in Matplotlib 3.3 and will be removed two minor releases later.\n",
      "In /home/gun/anaconda3/envs/py3_gpu/lib/python3.6/site-packages/matplotlib/mpl-data/stylelib/_classic_test.mplstyle: \n",
      "The animation.avconv_path rcparam was deprecated in Matplotlib 3.3 and will be removed two minor releases later.\n",
      "In /home/gun/anaconda3/envs/py3_gpu/lib/python3.6/site-packages/matplotlib/mpl-data/stylelib/_classic_test.mplstyle: \n",
      "The animation.avconv_args rcparam was deprecated in Matplotlib 3.3 and will be removed two minor releases later.\n"
     ]
    }
   ],
   "source": [
    "from push_task import *"
   ]
  },
  {
   "cell_type": "code",
   "execution_count": 9,
   "id": "8e7f3b35-7c97-4814-ae88-9e8aab3e53b8",
   "metadata": {},
   "outputs": [
    {
     "name": "stdout",
     "output_type": "stream",
     "text": [
      "InstantSoup\n",
      "Rusk\n",
      "FlowerCup\n",
      "bread\n",
      "CoffeeBox\n",
      "bread\n",
      "CoffeeBox\n",
      "InstantSoup\n",
      "FlowerCup\n",
      "FlowerCup\n",
      "[ 0.19661471 -0.01272267  1.04861938] [-0.2583053   0.5995791  -0.23784725  0.71917444]\n",
      "[0.07034325 0.29523093 1.02728985] [ 0.47538763 -0.17305121  0.80925983 -0.29859403]\n",
      "[-0.17129763  0.02099996  1.02701573] [-0.09573163 -0.78859425 -0.10682642 -0.59794873]\n",
      "[-0.01273428  0.06759356  1.04042275] [-0.03825763 -0.19734108 -0.49291983  0.8465358 ]\n",
      "[0.15342554 0.14637582 1.01049147] [-0.44477928  0.02876761 -0.19030716  0.8747154 ]\n",
      "[-0.01274831  0.22325497  1.02431197] [ 0.38700315  0.7634376  -0.5169448  -0.01263253]\n",
      "[-0.08353204 -0.09489585  1.03792106] [ 0.3978768  -0.42636052  0.10313834  0.8057749 ]\n",
      "[-0.01914713 -0.01391398  1.01995858] [-0.7954126   0.07218757  0.37565547 -0.47009653]\n",
      "[0.07269467 0.21578094 1.03988556] [ 0.62458986  0.5193863  -0.52768004 -0.24835289]\n",
      "[-0.1816769   0.28855608  1.04033899] [ 0.6282738   0.16566427 -0.6800766  -0.3395927 ]\n",
      "Creating window glfw\n"
     ]
    }
   ],
   "source": [
    "env = UR5Env(, camera_height=512, camera_width=512)"
   ]
  },
  {
   "cell_type": "code",
   "execution_count": 12,
   "id": "d9f74ed1-9a77-4a62-a602-001b60e49a92",
   "metadata": {},
   "outputs": [
    {
     "data": {
      "text/plain": [
       "['__class__',\n",
       " '__delattr__',\n",
       " '__dir__',\n",
       " '__doc__',\n",
       " '__eq__',\n",
       " '__format__',\n",
       " '__ge__',\n",
       " '__getattribute__',\n",
       " '__gt__',\n",
       " '__hash__',\n",
       " '__init__',\n",
       " '__init_subclass__',\n",
       " '__le__',\n",
       " '__lt__',\n",
       " '__ne__',\n",
       " '__new__',\n",
       " '__pyx_vtable__',\n",
       " '__reduce__',\n",
       " '__reduce_ex__',\n",
       " '__repr__',\n",
       " '__setattr__',\n",
       " '__setstate__',\n",
       " '__sizeof__',\n",
       " '__str__',\n",
       " '__subclasshook__',\n",
       " '_actuator_id2name',\n",
       " '_actuator_name2id',\n",
       " '_body_id2name',\n",
       " '_body_name2id',\n",
       " '_camera_id2name',\n",
       " '_camera_name2id',\n",
       " '_geom_id2name',\n",
       " '_geom_name2id',\n",
       " '_joint_id2name',\n",
       " '_joint_name2id',\n",
       " '_light_id2name',\n",
       " '_light_name2id',\n",
       " '_mesh_id2name',\n",
       " '_mesh_name2id',\n",
       " '_sensor_id2name',\n",
       " '_sensor_name2id',\n",
       " '_site_id2name',\n",
       " '_site_name2id',\n",
       " '_tendon_id2name',\n",
       " '_tendon_name2id',\n",
       " '_userdata_id2name',\n",
       " '_userdata_name2id',\n",
       " 'actuator_acc0',\n",
       " 'actuator_biasprm',\n",
       " 'actuator_biastype',\n",
       " 'actuator_cranklength',\n",
       " 'actuator_ctrllimited',\n",
       " 'actuator_ctrlrange',\n",
       " 'actuator_dynprm',\n",
       " 'actuator_dyntype',\n",
       " 'actuator_forcelimited',\n",
       " 'actuator_forcerange',\n",
       " 'actuator_gainprm',\n",
       " 'actuator_gaintype',\n",
       " 'actuator_gear',\n",
       " 'actuator_group',\n",
       " 'actuator_id2name',\n",
       " 'actuator_length0',\n",
       " 'actuator_lengthrange',\n",
       " 'actuator_name2id',\n",
       " 'actuator_names',\n",
       " 'actuator_trnid',\n",
       " 'actuator_trntype',\n",
       " 'actuator_user',\n",
       " 'body_dofadr',\n",
       " 'body_dofnum',\n",
       " 'body_geomadr',\n",
       " 'body_geomnum',\n",
       " 'body_id2name',\n",
       " 'body_inertia',\n",
       " 'body_invweight0',\n",
       " 'body_ipos',\n",
       " 'body_iquat',\n",
       " 'body_jntadr',\n",
       " 'body_jntnum',\n",
       " 'body_mass',\n",
       " 'body_mocapid',\n",
       " 'body_name2id',\n",
       " 'body_names',\n",
       " 'body_parentid',\n",
       " 'body_pos',\n",
       " 'body_quat',\n",
       " 'body_rootid',\n",
       " 'body_sameframe',\n",
       " 'body_simple',\n",
       " 'body_subtreemass',\n",
       " 'body_user',\n",
       " 'body_weldid',\n",
       " 'cam_bodyid',\n",
       " 'cam_fovy',\n",
       " 'cam_ipd',\n",
       " 'cam_mat0',\n",
       " 'cam_mode',\n",
       " 'cam_pos',\n",
       " 'cam_pos0',\n",
       " 'cam_poscom0',\n",
       " 'cam_quat',\n",
       " 'cam_targetbodyid',\n",
       " 'cam_user',\n",
       " 'camera_id2name',\n",
       " 'camera_name2id',\n",
       " 'camera_names',\n",
       " 'dof_M0',\n",
       " 'dof_Madr',\n",
       " 'dof_armature',\n",
       " 'dof_bodyid',\n",
       " 'dof_damping',\n",
       " 'dof_frictionloss',\n",
       " 'dof_invweight0',\n",
       " 'dof_jntid',\n",
       " 'dof_parentid',\n",
       " 'dof_simplenum',\n",
       " 'dof_solimp',\n",
       " 'dof_solref',\n",
       " 'eq_active',\n",
       " 'eq_data',\n",
       " 'eq_obj1id',\n",
       " 'eq_obj2id',\n",
       " 'eq_solimp',\n",
       " 'eq_solref',\n",
       " 'eq_type',\n",
       " 'exclude_signature',\n",
       " 'geom_bodyid',\n",
       " 'geom_conaffinity',\n",
       " 'geom_condim',\n",
       " 'geom_contype',\n",
       " 'geom_dataid',\n",
       " 'geom_friction',\n",
       " 'geom_gap',\n",
       " 'geom_group',\n",
       " 'geom_id2name',\n",
       " 'geom_margin',\n",
       " 'geom_matid',\n",
       " 'geom_name2id',\n",
       " 'geom_names',\n",
       " 'geom_pos',\n",
       " 'geom_priority',\n",
       " 'geom_quat',\n",
       " 'geom_rbound',\n",
       " 'geom_rgba',\n",
       " 'geom_sameframe',\n",
       " 'geom_size',\n",
       " 'geom_solimp',\n",
       " 'geom_solmix',\n",
       " 'geom_solref',\n",
       " 'geom_type',\n",
       " 'geom_user',\n",
       " 'get_joint_qpos_addr',\n",
       " 'get_joint_qvel_addr',\n",
       " 'get_mjb',\n",
       " 'get_xml',\n",
       " 'hfield_adr',\n",
       " 'hfield_data',\n",
       " 'hfield_ncol',\n",
       " 'hfield_nrow',\n",
       " 'hfield_size',\n",
       " 'jnt_axis',\n",
       " 'jnt_bodyid',\n",
       " 'jnt_dofadr',\n",
       " 'jnt_group',\n",
       " 'jnt_limited',\n",
       " 'jnt_margin',\n",
       " 'jnt_pos',\n",
       " 'jnt_qposadr',\n",
       " 'jnt_range',\n",
       " 'jnt_solimp',\n",
       " 'jnt_solref',\n",
       " 'jnt_stiffness',\n",
       " 'jnt_type',\n",
       " 'jnt_user',\n",
       " 'joint_id2name',\n",
       " 'joint_name2id',\n",
       " 'joint_names',\n",
       " 'key_act',\n",
       " 'key_qpos',\n",
       " 'key_qvel',\n",
       " 'key_time',\n",
       " 'light_active',\n",
       " 'light_ambient',\n",
       " 'light_attenuation',\n",
       " 'light_bodyid',\n",
       " 'light_castshadow',\n",
       " 'light_cutoff',\n",
       " 'light_diffuse',\n",
       " 'light_dir',\n",
       " 'light_dir0',\n",
       " 'light_directional',\n",
       " 'light_exponent',\n",
       " 'light_id2name',\n",
       " 'light_mode',\n",
       " 'light_name2id',\n",
       " 'light_names',\n",
       " 'light_pos',\n",
       " 'light_pos0',\n",
       " 'light_poscom0',\n",
       " 'light_specular',\n",
       " 'light_targetbodyid',\n",
       " 'mat_emission',\n",
       " 'mat_reflectance',\n",
       " 'mat_rgba',\n",
       " 'mat_shininess',\n",
       " 'mat_specular',\n",
       " 'mat_texid',\n",
       " 'mat_texrepeat',\n",
       " 'mat_texuniform',\n",
       " 'mesh_face',\n",
       " 'mesh_faceadr',\n",
       " 'mesh_facenum',\n",
       " 'mesh_graph',\n",
       " 'mesh_graphadr',\n",
       " 'mesh_id2name',\n",
       " 'mesh_name2id',\n",
       " 'mesh_names',\n",
       " 'mesh_normal',\n",
       " 'mesh_texcoord',\n",
       " 'mesh_texcoordadr',\n",
       " 'mesh_vert',\n",
       " 'mesh_vertadr',\n",
       " 'mesh_vertnum',\n",
       " 'nM',\n",
       " 'na',\n",
       " 'name_actuatoradr',\n",
       " 'name_bodyadr',\n",
       " 'name_camadr',\n",
       " 'name_eqadr',\n",
       " 'name_excludeadr',\n",
       " 'name_geomadr',\n",
       " 'name_hfieldadr',\n",
       " 'name_jntadr',\n",
       " 'name_keyadr',\n",
       " 'name_lightadr',\n",
       " 'name_matadr',\n",
       " 'name_meshadr',\n",
       " 'name_numericadr',\n",
       " 'name_pairadr',\n",
       " 'name_sensoradr',\n",
       " 'name_siteadr',\n",
       " 'name_skinadr',\n",
       " 'name_tendonadr',\n",
       " 'name_texadr',\n",
       " 'name_textadr',\n",
       " 'name_tupleadr',\n",
       " 'names',\n",
       " 'nbody',\n",
       " 'nbuffer',\n",
       " 'ncam',\n",
       " 'nconmax',\n",
       " 'nemax',\n",
       " 'neq',\n",
       " 'nexclude',\n",
       " 'ngeom',\n",
       " 'nhfield',\n",
       " 'nhfielddata',\n",
       " 'njmax',\n",
       " 'njnt',\n",
       " 'nkey',\n",
       " 'nlight',\n",
       " 'nmat',\n",
       " 'nmesh',\n",
       " 'nmeshface',\n",
       " 'nmeshgraph',\n",
       " 'nmeshtexvert',\n",
       " 'nmeshvert',\n",
       " 'nmocap',\n",
       " 'nnames',\n",
       " 'nnumeric',\n",
       " 'nnumericdata',\n",
       " 'npair',\n",
       " 'nq',\n",
       " 'nsensor',\n",
       " 'nsensordata',\n",
       " 'nsite',\n",
       " 'nskin',\n",
       " 'nskinbone',\n",
       " 'nskinbonevert',\n",
       " 'nskinface',\n",
       " 'nskintexvert',\n",
       " 'nskinvert',\n",
       " 'nstack',\n",
       " 'ntendon',\n",
       " 'ntex',\n",
       " 'ntexdata',\n",
       " 'ntext',\n",
       " 'ntextdata',\n",
       " 'ntuple',\n",
       " 'ntupledata',\n",
       " 'nu',\n",
       " 'numeric_adr',\n",
       " 'numeric_data',\n",
       " 'numeric_size',\n",
       " 'nuser_actuator',\n",
       " 'nuser_body',\n",
       " 'nuser_cam',\n",
       " 'nuser_geom',\n",
       " 'nuser_jnt',\n",
       " 'nuser_sensor',\n",
       " 'nuser_site',\n",
       " 'nuser_tendon',\n",
       " 'nuserdata',\n",
       " 'nv',\n",
       " 'nwrap',\n",
       " 'opt',\n",
       " 'pair_dim',\n",
       " 'pair_friction',\n",
       " 'pair_gap',\n",
       " 'pair_geom1',\n",
       " 'pair_geom2',\n",
       " 'pair_margin',\n",
       " 'pair_signature',\n",
       " 'pair_solimp',\n",
       " 'pair_solref',\n",
       " 'qpos0',\n",
       " 'qpos_spring',\n",
       " 'sensor_adr',\n",
       " 'sensor_cutoff',\n",
       " 'sensor_datatype',\n",
       " 'sensor_dim',\n",
       " 'sensor_id2name',\n",
       " 'sensor_name2id',\n",
       " 'sensor_names',\n",
       " 'sensor_needstage',\n",
       " 'sensor_noise',\n",
       " 'sensor_objid',\n",
       " 'sensor_objtype',\n",
       " 'sensor_type',\n",
       " 'sensor_user',\n",
       " 'set_userdata_names',\n",
       " 'site_bodyid',\n",
       " 'site_group',\n",
       " 'site_id2name',\n",
       " 'site_matid',\n",
       " 'site_name2id',\n",
       " 'site_names',\n",
       " 'site_pos',\n",
       " 'site_quat',\n",
       " 'site_rgba',\n",
       " 'site_sameframe',\n",
       " 'site_size',\n",
       " 'site_type',\n",
       " 'site_user',\n",
       " 'skin_boneadr',\n",
       " 'skin_bonebindpos',\n",
       " 'skin_bonebindquat',\n",
       " 'skin_bonebodyid',\n",
       " 'skin_bonenum',\n",
       " 'skin_bonevertadr',\n",
       " 'skin_bonevertid',\n",
       " 'skin_bonevertnum',\n",
       " 'skin_bonevertweight',\n",
       " 'skin_face',\n",
       " 'skin_faceadr',\n",
       " 'skin_facenum',\n",
       " 'skin_inflate',\n",
       " 'skin_matid',\n",
       " 'skin_rgba',\n",
       " 'skin_texcoord',\n",
       " 'skin_texcoordadr',\n",
       " 'skin_vert',\n",
       " 'skin_vertadr',\n",
       " 'skin_vertnum',\n",
       " 'stat',\n",
       " 'tendon_adr',\n",
       " 'tendon_damping',\n",
       " 'tendon_frictionloss',\n",
       " 'tendon_group',\n",
       " 'tendon_id2name',\n",
       " 'tendon_invweight0',\n",
       " 'tendon_length0',\n",
       " 'tendon_lengthspring',\n",
       " 'tendon_limited',\n",
       " 'tendon_margin',\n",
       " 'tendon_matid',\n",
       " 'tendon_name2id',\n",
       " 'tendon_names',\n",
       " 'tendon_num',\n",
       " 'tendon_range',\n",
       " 'tendon_rgba',\n",
       " 'tendon_solimp_fri',\n",
       " 'tendon_solimp_lim',\n",
       " 'tendon_solref_fri',\n",
       " 'tendon_solref_lim',\n",
       " 'tendon_stiffness',\n",
       " 'tendon_user',\n",
       " 'tendon_width',\n",
       " 'tex_adr',\n",
       " 'tex_height',\n",
       " 'tex_rgb',\n",
       " 'tex_type',\n",
       " 'tex_width',\n",
       " 'text_adr',\n",
       " 'text_data',\n",
       " 'text_size',\n",
       " 'tuple_adr',\n",
       " 'tuple_objid',\n",
       " 'tuple_objprm',\n",
       " 'tuple_objtype',\n",
       " 'tuple_size',\n",
       " 'uintptr',\n",
       " 'userdata_id2name',\n",
       " 'userdata_name2id',\n",
       " 'userdata_names',\n",
       " 'vis',\n",
       " 'wrap_objid',\n",
       " 'wrap_prm',\n",
       " 'wrap_type']"
      ]
     },
     "execution_count": 12,
     "metadata": {},
     "output_type": "execute_result"
    }
   ],
   "source": [
    "dir(env.sim.model)"
   ]
  },
  {
   "cell_type": "code",
   "execution_count": 29,
   "id": "c9c70abf-1d81-4dc6-bcd4-d3df3d6f0120",
   "metadata": {},
   "outputs": [
    {
     "data": {
      "text/plain": [
       "['__class__',\n",
       " '__copy__',\n",
       " '__deepcopy__',\n",
       " '__delattr__',\n",
       " '__delitem__',\n",
       " '__dir__',\n",
       " '__doc__',\n",
       " '__eq__',\n",
       " '__format__',\n",
       " '__ge__',\n",
       " '__getattribute__',\n",
       " '__getitem__',\n",
       " '__getstate__',\n",
       " '__gt__',\n",
       " '__hash__',\n",
       " '__init__',\n",
       " '__init_subclass__',\n",
       " '__le__',\n",
       " '__len__',\n",
       " '__lt__',\n",
       " '__ne__',\n",
       " '__new__',\n",
       " '__reduce__',\n",
       " '__reduce_ex__',\n",
       " '__repr__',\n",
       " '__setattr__',\n",
       " '__setitem__',\n",
       " '__setstate__',\n",
       " '__sizeof__',\n",
       " '__str__',\n",
       " '__subclasshook__',\n",
       " 'append',\n",
       " 'attrib',\n",
       " 'clear',\n",
       " 'extend',\n",
       " 'find',\n",
       " 'findall',\n",
       " 'findtext',\n",
       " 'get',\n",
       " 'getchildren',\n",
       " 'getiterator',\n",
       " 'insert',\n",
       " 'items',\n",
       " 'iter',\n",
       " 'iterfind',\n",
       " 'itertext',\n",
       " 'keys',\n",
       " 'makeelement',\n",
       " 'remove',\n",
       " 'set',\n",
       " 'tag',\n",
       " 'tail',\n",
       " 'text']"
      ]
     },
     "execution_count": 29,
     "metadata": {},
     "output_type": "execute_result"
    }
   ],
   "source": [
    "dir(env.model.objects[0])"
   ]
  },
  {
   "cell_type": "code",
   "execution_count": null,
   "id": "d5bbea56-2890-4d3b-9ead-940b284a03c1",
   "metadata": {},
   "outputs": [],
   "source": []
  },
  {
   "cell_type": "code",
   "execution_count": 30,
   "id": "6f2cd91b-d218-45ea-9834-c5229f6ac356",
   "metadata": {},
   "outputs": [],
   "source": [
    "env.model.objects[0].set(\"rgba\", \"1 0 0 0\")"
   ]
  },
  {
   "cell_type": "code",
   "execution_count": null,
   "id": "76b213d8-09f7-467a-9414-93ea0d55a54b",
   "metadata": {},
   "outputs": [],
   "source": [
    "for i in range(100):\n",
    "    env.sim.forward()\n",
    "    action = 0.1 * np.random.random(3)\n",
    "    frame = env.move_pos_diff(action, grasp=0.0)\n",
    "    frame = env.move_pos_diff(-action, grasp=0.0)"
   ]
  },
  {
   "cell_type": "code",
   "execution_count": null,
   "id": "95e784f1-a0eb-4fba-9f61-e4fe197a81f0",
   "metadata": {},
   "outputs": [],
   "source": []
  },
  {
   "cell_type": "code",
   "execution_count": 1,
   "id": "1fccd006-0366-48ac-abbe-281a6db918d6",
   "metadata": {},
   "outputs": [],
   "source": [
    "import mujoco_py\n",
    "from mujoco_py import MjSim, MjViewer\n",
    "from base import MujocoXML"
   ]
  },
  {
   "cell_type": "code",
   "execution_count": 2,
   "id": "5a3f72a7-1229-4313-bc8c-66ba1dc13af6",
   "metadata": {},
   "outputs": [],
   "source": [
    "ur5_path = 'make_urdf/meshes_mujoco/ur5_robotiq.xml'\n",
    "obj1_path = 'make_urdf/objects/dounut.xml'"
   ]
  },
  {
   "cell_type": "code",
   "execution_count": 3,
   "id": "2289e472-648f-4c1e-a901-68232e1faa08",
   "metadata": {},
   "outputs": [],
   "source": [
    "ur5 = MujocoXML(ur5_path)\n",
    "obj1 = MujocoXML(obj1_path)"
   ]
  },
  {
   "cell_type": "code",
   "execution_count": 4,
   "id": "74c227b4-59a6-49c3-8bbd-3b2f0d55d745",
   "metadata": {},
   "outputs": [],
   "source": [
    "ur5.merge(obj1)"
   ]
  },
  {
   "cell_type": "code",
   "execution_count": 5,
   "id": "48c11d8e-2bd6-4b42-81aa-3e5aef8d6efa",
   "metadata": {},
   "outputs": [
    {
     "name": "stdout",
     "output_type": "stream",
     "text": [
      "Creating window glfw\n"
     ]
    }
   ],
   "source": [
    "mjpy_model = ur5.get_model(mode='mujoco_py')\n",
    "sim = MjSim(mjpy_model)\n",
    "viewer = MjViewer(sim)\n",
    "sim.render(mode='window')"
   ]
  },
  {
   "cell_type": "code",
   "execution_count": 7,
   "id": "5e18350d-3c66-4a28-894d-d4deb1d8e8eb",
   "metadata": {},
   "outputs": [
    {
     "name": "stdout",
     "output_type": "stream",
     "text": [
      "<base.MujocoXML object at 0x7f965c8deb00>\n"
     ]
    }
   ],
   "source": [
    "print(obj1)"
   ]
  },
  {
   "cell_type": "code",
   "execution_count": 6,
   "id": "6672a764-e07d-4d63-991a-040e086f58df",
   "metadata": {},
   "outputs": [
    {
     "ename": "AttributeError",
     "evalue": "'MujocoXML' object has no attribute 'set'",
     "output_type": "error",
     "traceback": [
      "\u001b[0;31m---------------------------------------------------------------------------\u001b[0m",
      "\u001b[0;31mAttributeError\u001b[0m                            Traceback (most recent call last)",
      "\u001b[0;32m<ipython-input-6-2ea82737caf1>\u001b[0m in \u001b[0;36m<module>\u001b[0;34m\u001b[0m\n\u001b[0;32m----> 1\u001b[0;31m \u001b[0mobj1\u001b[0m\u001b[0;34m.\u001b[0m\u001b[0mset\u001b[0m\u001b[0;34m\u001b[0m\u001b[0m\n\u001b[0m",
      "\u001b[0;31mAttributeError\u001b[0m: 'MujocoXML' object has no attribute 'set'"
     ]
    }
   ],
   "source": [
    "obj1.set"
   ]
  },
  {
   "cell_type": "code",
   "execution_count": 6,
   "id": "169c666c-fd99-48f1-b6d1-19aa139dc3e8",
   "metadata": {},
   "outputs": [
    {
     "ename": "KeyboardInterrupt",
     "evalue": "",
     "output_type": "error",
     "traceback": [
      "\u001b[0;31m---------------------------------------------------------------------------\u001b[0m",
      "\u001b[0;31mKeyboardInterrupt\u001b[0m                         Traceback (most recent call last)",
      "\u001b[0;32m<ipython-input-6-6bb9dc963c7d>\u001b[0m in \u001b[0;36m<module>\u001b[0;34m\u001b[0m\n\u001b[1;32m      1\u001b[0m \u001b[0;32mfor\u001b[0m \u001b[0m_\u001b[0m \u001b[0;32min\u001b[0m \u001b[0mrange\u001b[0m\u001b[0;34m(\u001b[0m\u001b[0;36m10000\u001b[0m\u001b[0;34m)\u001b[0m\u001b[0;34m:\u001b[0m\u001b[0;34m\u001b[0m\u001b[0m\n\u001b[1;32m      2\u001b[0m     \u001b[0msim\u001b[0m\u001b[0;34m.\u001b[0m\u001b[0mstep\u001b[0m\u001b[0;34m(\u001b[0m\u001b[0;34m)\u001b[0m\u001b[0;34m\u001b[0m\u001b[0m\n\u001b[0;32m----> 3\u001b[0;31m     \u001b[0mviewer\u001b[0m\u001b[0;34m.\u001b[0m\u001b[0mrender\u001b[0m\u001b[0;34m(\u001b[0m\u001b[0;34m)\u001b[0m\u001b[0;34m\u001b[0m\u001b[0m\n\u001b[0m",
      "\u001b[0;32m~/anaconda3/envs/py3_gpu/lib/python3.6/site-packages/mujoco_py/mjviewer.py\u001b[0m in \u001b[0;36mrender\u001b[0;34m(self)\u001b[0m\n\u001b[1;32m    204\u001b[0m                 \u001b[0mself\u001b[0m\u001b[0;34m.\u001b[0m\u001b[0m_loop_count\u001b[0m \u001b[0;34m=\u001b[0m \u001b[0;36m1\u001b[0m\u001b[0;34m\u001b[0m\u001b[0m\n\u001b[1;32m    205\u001b[0m             \u001b[0;32mwhile\u001b[0m \u001b[0mself\u001b[0m\u001b[0;34m.\u001b[0m\u001b[0m_loop_count\u001b[0m \u001b[0;34m>\u001b[0m \u001b[0;36m0\u001b[0m\u001b[0;34m:\u001b[0m\u001b[0;34m\u001b[0m\u001b[0m\n\u001b[0;32m--> 206\u001b[0;31m                 \u001b[0mrender_inner_loop\u001b[0m\u001b[0;34m(\u001b[0m\u001b[0mself\u001b[0m\u001b[0;34m)\u001b[0m\u001b[0;34m\u001b[0m\u001b[0m\n\u001b[0m\u001b[1;32m    207\u001b[0m                 \u001b[0mself\u001b[0m\u001b[0;34m.\u001b[0m\u001b[0m_loop_count\u001b[0m \u001b[0;34m-=\u001b[0m \u001b[0;36m1\u001b[0m\u001b[0;34m\u001b[0m\u001b[0m\n\u001b[1;32m    208\u001b[0m         \u001b[0;31m# Markers and overlay are regenerated in every pass.\u001b[0m\u001b[0;34m\u001b[0m\u001b[0;34m\u001b[0m\u001b[0m\n",
      "\u001b[0;32m~/anaconda3/envs/py3_gpu/lib/python3.6/site-packages/mujoco_py/mjviewer.py\u001b[0m in \u001b[0;36mrender_inner_loop\u001b[0;34m(self)\u001b[0m\n\u001b[1;32m    180\u001b[0m                     \u001b[0mself\u001b[0m\u001b[0;34m.\u001b[0m\u001b[0m_overlay\u001b[0m\u001b[0;34m[\u001b[0m\u001b[0mk\u001b[0m\u001b[0;34m]\u001b[0m \u001b[0;34m=\u001b[0m \u001b[0mcopy\u001b[0m\u001b[0;34m.\u001b[0m\u001b[0mdeepcopy\u001b[0m\u001b[0;34m(\u001b[0m\u001b[0mv\u001b[0m\u001b[0;34m)\u001b[0m\u001b[0;34m\u001b[0m\u001b[0m\n\u001b[1;32m    181\u001b[0m                 \u001b[0mself\u001b[0m\u001b[0;34m.\u001b[0m\u001b[0m_create_full_overlay\u001b[0m\u001b[0;34m(\u001b[0m\u001b[0;34m)\u001b[0m\u001b[0;34m\u001b[0m\u001b[0m\n\u001b[0;32m--> 182\u001b[0;31m             \u001b[0msuper\u001b[0m\u001b[0;34m(\u001b[0m\u001b[0;34m)\u001b[0m\u001b[0;34m.\u001b[0m\u001b[0mrender\u001b[0m\u001b[0;34m(\u001b[0m\u001b[0;34m)\u001b[0m\u001b[0;34m\u001b[0m\u001b[0m\n\u001b[0m\u001b[1;32m    183\u001b[0m             \u001b[0;32mif\u001b[0m \u001b[0mself\u001b[0m\u001b[0;34m.\u001b[0m\u001b[0m_record_video\u001b[0m\u001b[0;34m:\u001b[0m\u001b[0;34m\u001b[0m\u001b[0m\n\u001b[1;32m    184\u001b[0m                 \u001b[0mframe\u001b[0m \u001b[0;34m=\u001b[0m \u001b[0mself\u001b[0m\u001b[0;34m.\u001b[0m\u001b[0m_read_pixels_as_in_window\u001b[0m\u001b[0;34m(\u001b[0m\u001b[0;34m)\u001b[0m\u001b[0;34m\u001b[0m\u001b[0m\n",
      "\u001b[0;32m~/anaconda3/envs/py3_gpu/lib/python3.6/site-packages/mujoco_py/mjviewer.py\u001b[0m in \u001b[0;36mrender\u001b[0;34m(self)\u001b[0m\n\u001b[1;32m     56\u001b[0m \u001b[0;34m\u001b[0m\u001b[0m\n\u001b[1;32m     57\u001b[0m         \u001b[0;32mwith\u001b[0m \u001b[0mself\u001b[0m\u001b[0;34m.\u001b[0m\u001b[0m_gui_lock\u001b[0m\u001b[0;34m:\u001b[0m\u001b[0;34m\u001b[0m\u001b[0m\n\u001b[0;32m---> 58\u001b[0;31m             \u001b[0msuper\u001b[0m\u001b[0;34m(\u001b[0m\u001b[0;34m)\u001b[0m\u001b[0;34m.\u001b[0m\u001b[0mrender\u001b[0m\u001b[0;34m(\u001b[0m\u001b[0;34m)\u001b[0m\u001b[0;34m\u001b[0m\u001b[0m\n\u001b[0m\u001b[1;32m     59\u001b[0m \u001b[0;34m\u001b[0m\u001b[0m\n\u001b[1;32m     60\u001b[0m         \u001b[0mglfw\u001b[0m\u001b[0;34m.\u001b[0m\u001b[0mpoll_events\u001b[0m\u001b[0;34m(\u001b[0m\u001b[0;34m)\u001b[0m\u001b[0;34m\u001b[0m\u001b[0m\n",
      "\u001b[0;32m~/anaconda3/envs/py3_gpu/lib/python3.6/site-packages/mujoco_py/mjrendercontext.pyx\u001b[0m in \u001b[0;36mmujoco_py.cymj.MjRenderContextWindow.render\u001b[0;34m()\u001b[0m\n",
      "\u001b[0;32m~/anaconda3/envs/py3_gpu/lib/python3.6/site-packages/glfw/__init__.py\u001b[0m in \u001b[0;36mswap_buffers\u001b[0;34m(window)\u001b[0m\n\u001b[1;32m   2244\u001b[0m         \u001b[0mvoid\u001b[0m \u001b[0mglfwSwapBuffers\u001b[0m\u001b[0;34m(\u001b[0m\u001b[0mGLFWwindow\u001b[0m\u001b[0;34m*\u001b[0m \u001b[0mwindow\u001b[0m\u001b[0;34m)\u001b[0m\u001b[0;34m;\u001b[0m\u001b[0;34m\u001b[0m\u001b[0m\n\u001b[1;32m   2245\u001b[0m     \"\"\"\n\u001b[0;32m-> 2246\u001b[0;31m     \u001b[0m_glfw\u001b[0m\u001b[0;34m.\u001b[0m\u001b[0mglfwSwapBuffers\u001b[0m\u001b[0;34m(\u001b[0m\u001b[0mwindow\u001b[0m\u001b[0;34m)\u001b[0m\u001b[0;34m\u001b[0m\u001b[0m\n\u001b[0m\u001b[1;32m   2247\u001b[0m \u001b[0;34m\u001b[0m\u001b[0m\n\u001b[1;32m   2248\u001b[0m \u001b[0m_glfw\u001b[0m\u001b[0;34m.\u001b[0m\u001b[0mglfwSwapInterval\u001b[0m\u001b[0;34m.\u001b[0m\u001b[0mrestype\u001b[0m \u001b[0;34m=\u001b[0m \u001b[0;32mNone\u001b[0m\u001b[0;34m\u001b[0m\u001b[0m\n",
      "\u001b[0;32m~/anaconda3/envs/py3_gpu/lib/python3.6/site-packages/glfw/__init__.py\u001b[0m in \u001b[0;36merrcheck\u001b[0;34m(result, *args)\u001b[0m\n\u001b[1;32m    602\u001b[0m     \u001b[0musing\u001b[0m \u001b[0mthe\u001b[0m \u001b[0m_callback_exception_decorator\u001b[0m\u001b[0;34m.\u001b[0m\u001b[0;34m\u001b[0m\u001b[0m\n\u001b[1;32m    603\u001b[0m     \"\"\"\n\u001b[0;32m--> 604\u001b[0;31m     \u001b[0;32mdef\u001b[0m \u001b[0merrcheck\u001b[0m\u001b[0;34m(\u001b[0m\u001b[0mresult\u001b[0m\u001b[0;34m,\u001b[0m \u001b[0;34m*\u001b[0m\u001b[0margs\u001b[0m\u001b[0;34m)\u001b[0m\u001b[0;34m:\u001b[0m\u001b[0;34m\u001b[0m\u001b[0m\n\u001b[0m\u001b[1;32m    605\u001b[0m         \u001b[0;32mglobal\u001b[0m \u001b[0m_exc_info_from_callback\u001b[0m\u001b[0;34m\u001b[0m\u001b[0m\n\u001b[1;32m    606\u001b[0m         \u001b[0;32mif\u001b[0m \u001b[0m_exc_info_from_callback\u001b[0m \u001b[0;32mis\u001b[0m \u001b[0;32mnot\u001b[0m \u001b[0;32mNone\u001b[0m\u001b[0;34m:\u001b[0m\u001b[0;34m\u001b[0m\u001b[0m\n",
      "\u001b[0;31mKeyboardInterrupt\u001b[0m: "
     ]
    }
   ],
   "source": [
    "for _ in range(10000):\n",
    "    sim.step()\n",
    "    viewer.render()"
   ]
  },
  {
   "cell_type": "code",
   "execution_count": null,
   "id": "119e4762-4c5c-40d0-a0ca-9a6bef028804",
   "metadata": {},
   "outputs": [],
   "source": [
    "simm = MjSim(ur5)"
   ]
  }
 ],
 "metadata": {
  "kernelspec": {
   "display_name": "Python 3",
   "language": "python",
   "name": "python3"
  },
  "language_info": {
   "codemirror_mode": {
    "name": "ipython",
    "version": 3
   },
   "file_extension": ".py",
   "mimetype": "text/x-python",
   "name": "python",
   "nbconvert_exporter": "python",
   "pygments_lexer": "ipython3",
   "version": "3.6.10"
  }
 },
 "nbformat": 4,
 "nbformat_minor": 5
}
